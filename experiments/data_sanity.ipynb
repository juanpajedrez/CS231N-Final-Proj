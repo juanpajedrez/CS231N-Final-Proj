{
 "cells": [
  {
   "cell_type": "markdown",
   "metadata": {},
   "source": [
    "# Understand the data\n",
    "Make sure that the data downloaded from various sources all tell the same story and there is no discrepancy"
   ]
  },
  {
   "cell_type": "markdown",
   "metadata": {},
   "source": [
    "### Preprocess data to make the column names consitent"
   ]
  },
  {
   "cell_type": "code",
   "execution_count": 4,
   "metadata": {},
   "outputs": [],
   "source": [
    "import pandas as pd\n",
    "from pathlib import Path"
   ]
  },
  {
   "cell_type": "code",
   "execution_count": 5,
   "metadata": {},
   "outputs": [],
   "source": [
    "# Assuming that we are currently in the notebooks directory\n",
    "project_path = Path.cwd().parent"
   ]
  },
  {
   "cell_type": "code",
   "execution_count": 11,
   "metadata": {},
   "outputs": [],
   "source": [
    "df_miccai_train = pd.read_csv(f'{project_path}/meta/miccai2023_nih-cxr-lt_labels_train.csv')\n",
    "df_miccai_val = pd.read_csv(f'{project_path}/meta/miccai2023_nih-cxr-lt_labels_val.csv')\n",
    "df_miccai_test = pd.read_csv(f'{project_path}/meta/miccai2023_nih-cxr-lt_labels_test.csv')\n",
    "df_kaggle = pd.read_csv('Data_Entry_2017.csv')\n",
    "df_nih = pd.read_csv('Data_Entry_2017_v2020.csv')"
   ]
  },
  {
   "cell_type": "code",
   "execution_count": 12,
   "metadata": {},
   "outputs": [],
   "source": [
    "df_miccai = pd.concat([df_miccai_train, df_miccai_val, df_miccai_test])"
   ]
  },
  {
   "cell_type": "code",
   "execution_count": 13,
   "metadata": {},
   "outputs": [],
   "source": [
    "df_miccai.rename(columns={'id': 'Image Index', 'Pleural Thickening': 'Pleural_Thickening'}, inplace=True)"
   ]
  },
  {
   "cell_type": "code",
   "execution_count": 14,
   "metadata": {},
   "outputs": [],
   "source": [
    "# Lets ensure all the dataframes are sorted by image file name\n",
    "df_kaggle = df_kaggle.sort_values(by='Image Index').reset_index()\n",
    "df_nih = df_nih.sort_values(by='Image Index').reset_index()\n",
    "df_miccai = df_miccai.sort_values(by='Image Index').reset_index()"
   ]
  },
  {
   "cell_type": "code",
   "execution_count": 15,
   "metadata": {},
   "outputs": [],
   "source": [
    "# Append the diseases as column names\n",
    "diseases = df_kaggle['Finding Labels'].str.get_dummies(sep='|')\n",
    "df_kaggle = pd.concat([df_kaggle, diseases], axis=1)\n",
    "\n",
    "diseases = df_nih['Finding Labels'].str.get_dummies(sep='|')\n",
    "df_nih = pd.concat([df_nih, diseases], axis=1)"
   ]
  },
  {
   "cell_type": "code",
   "execution_count": 16,
   "metadata": {},
   "outputs": [
    {
     "data": {
      "text/plain": [
       "14"
      ]
     },
     "execution_count": 16,
     "metadata": {},
     "output_type": "execute_result"
    }
   ],
   "source": [
    "diseases = ['Atelectasis', 'Cardiomegaly', 'Effusion', 'Infiltration', 'Mass', 'Nodule', 'Pneumonia', 'Pneumothorax', 'Consolidation', 'Edema', 'Emphysema', 'Fibrosis', 'Pleural_Thickening', 'Hernia']\n",
    "len(set(diseases))"
   ]
  },
  {
   "cell_type": "markdown",
   "metadata": {},
   "source": [
    "### Check whether all the data is same\n"
   ]
  },
  {
   "cell_type": "code",
   "execution_count": 19,
   "metadata": {},
   "outputs": [],
   "source": [
    "# Make sure the dataframes are the same\n",
    "for disease in diseases:\n",
    "    assert(df_kaggle[disease].equals(df_nih[disease]))"
   ]
  },
  {
   "cell_type": "code",
   "execution_count": 20,
   "metadata": {},
   "outputs": [],
   "source": [
    "for disease in diseases:\n",
    "    assert(df_kaggle[disease].equals(df_miccai[disease]))"
   ]
  }
 ],
 "metadata": {
  "kernelspec": {
   "display_name": "cs231n-project",
   "language": "python",
   "name": "cs231n-project"
  },
  "language_info": {
   "codemirror_mode": {
    "name": "ipython",
    "version": 3
   },
   "file_extension": ".py",
   "mimetype": "text/x-python",
   "name": "python",
   "nbconvert_exporter": "python",
   "pygments_lexer": "ipython3",
   "version": "3.12.3"
  }
 },
 "nbformat": 4,
 "nbformat_minor": 2
}
