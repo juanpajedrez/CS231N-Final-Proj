{
 "cells": [
  {
   "cell_type": "markdown",
   "metadata": {},
   "source": [
    "# Understand the data\n",
    "Make sure that the data downloaded from various sources all tell the same story and there is no discrepancy"
   ]
  },
  {
   "cell_type": "markdown",
   "metadata": {},
   "source": [
    "### Preprocess data to make the column names consitent"
   ]
  },
  {
   "cell_type": "code",
   "execution_count": 39,
   "metadata": {},
   "outputs": [],
   "source": [
    "import pandas as pd\n",
    "from pathlib import Path"
   ]
  },
  {
   "cell_type": "code",
   "execution_count": 40,
   "metadata": {},
   "outputs": [],
   "source": [
    "# Assuming that we are currently in the notebooks directory\n",
    "project_path = Path.cwd().parent"
   ]
  },
  {
   "cell_type": "code",
   "execution_count": 41,
   "metadata": {},
   "outputs": [],
   "source": [
    "df_miccai_train = pd.read_csv(f'{project_path}/meta/miccai2023_nih-cxr-lt_labels_train.csv')\n",
    "df_miccai_val = pd.read_csv(f'{project_path}/meta/miccai2023_nih-cxr-lt_labels_val.csv')\n",
    "df_miccai_test = pd.read_csv(f'{project_path}/meta/miccai2023_nih-cxr-lt_labels_test.csv')\n",
    "df_kaggle = pd.read_csv('Data_Entry_2017.csv')\n",
    "df_nih = pd.read_csv('Data_Entry_2017_v2020.csv')"
   ]
  },
  {
   "cell_type": "code",
   "execution_count": 42,
   "metadata": {},
   "outputs": [
    {
     "data": {
      "text/plain": [
       "Index(['id', 'Atelectasis', 'Cardiomegaly', 'Consolidation', 'Edema',\n",
       "       'Effusion', 'Emphysema', 'Fibrosis', 'Hernia', 'Infiltration', 'Mass',\n",
       "       'Nodule', 'Pleural Thickening', 'Pneumonia', 'Pneumothorax',\n",
       "       'Pneumoperitoneum', 'Pneumomediastinum', 'Subcutaneous Emphysema',\n",
       "       'Tortuous Aorta', 'Calcification of the Aorta', 'No Finding',\n",
       "       'subj_id'],\n",
       "      dtype='object')"
      ]
     },
     "execution_count": 42,
     "metadata": {},
     "output_type": "execute_result"
    }
   ],
   "source": [
    "df_miccai_test.columns"
   ]
  },
  {
   "cell_type": "code",
   "execution_count": 43,
   "metadata": {},
   "outputs": [],
   "source": [
    "df_miccai = pd.concat([df_miccai_train, df_miccai_val, df_miccai_test])"
   ]
  },
  {
   "cell_type": "code",
   "execution_count": 44,
   "metadata": {},
   "outputs": [],
   "source": [
    "df_miccai.rename(columns={'id': 'Image Index', 'Pleural Thickening': 'Pleural_Thickening'}, inplace=True)"
   ]
  },
  {
   "cell_type": "code",
   "execution_count": 45,
   "metadata": {},
   "outputs": [],
   "source": [
    "# Lets ensure all the dataframes are sorted by image file name\n",
    "df_kaggle = df_kaggle.sort_values(by='Image Index').reset_index()\n",
    "df_nih = df_nih.sort_values(by='Image Index').reset_index()\n",
    "df_miccai = df_miccai.sort_values(by='Image Index').reset_index()"
   ]
  },
  {
   "cell_type": "code",
   "execution_count": 46,
   "metadata": {},
   "outputs": [],
   "source": [
    "# Append the diseases as column names\n",
    "diseases = df_kaggle['Finding Labels'].str.get_dummies(sep='|')\n",
    "df_kaggle = pd.concat([df_kaggle, diseases], axis=1)\n",
    "\n",
    "diseases = df_nih['Finding Labels'].str.get_dummies(sep='|')\n",
    "df_nih = pd.concat([df_nih, diseases], axis=1)"
   ]
  },
  {
   "cell_type": "code",
   "execution_count": 47,
   "metadata": {},
   "outputs": [
    {
     "data": {
      "text/plain": [
       "['subj_id',\n",
       " 'Pneumomediastinum',\n",
       " 'Subcutaneous Emphysema',\n",
       " 'Calcification of the Aorta',\n",
       " 'Pneumoperitoneum',\n",
       " 'Tortuous Aorta']"
      ]
     },
     "execution_count": 47,
     "metadata": {},
     "output_type": "execute_result"
    }
   ],
   "source": [
    "extra_in_miccai = set(df_miccai.columns) - set(df_kaggle.columns)\n",
    "list(extra_in_miccai)"
   ]
  },
  {
   "cell_type": "code",
   "execution_count": 48,
   "metadata": {},
   "outputs": [
    {
     "data": {
      "text/plain": [
       "subj_id                       1608516321\n",
       "Subcutaneous Emphysema              1991\n",
       "Tortuous Aorta                       742\n",
       "Calcification of the Aorta           455\n",
       "Pneumoperitoneum                     316\n",
       "Pneumomediastinum                    253\n",
       "dtype: int64"
      ]
     },
     "execution_count": 48,
     "metadata": {},
     "output_type": "execute_result"
    }
   ],
   "source": [
    "df_miccai[list(extra_in_miccai)].sum().sort_values(ascending=False)"
   ]
  },
  {
   "cell_type": "code",
   "execution_count": 49,
   "metadata": {},
   "outputs": [
    {
     "data": {
      "text/plain": [
       "No Finding                    59406\n",
       "Infiltration                  19894\n",
       "Effusion                      13317\n",
       "Atelectasis                   11559\n",
       "Nodule                         6331\n",
       "Mass                           5782\n",
       "Pneumothorax                   5302\n",
       "Consolidation                  4667\n",
       "Pleural_Thickening             3385\n",
       "Cardiomegaly                   2776\n",
       "Emphysema                      2516\n",
       "Edema                          2303\n",
       "Subcutaneous Emphysema         1991\n",
       "Fibrosis                       1686\n",
       "Pneumonia                      1431\n",
       "Tortuous Aorta                  742\n",
       "Calcification of the Aorta      455\n",
       "Pneumoperitoneum                316\n",
       "Pneumomediastinum               253\n",
       "Hernia                          227\n",
       "dtype: int64"
      ]
     },
     "execution_count": 49,
     "metadata": {},
     "output_type": "execute_result"
    }
   ],
   "source": [
    "df_miccai[['Atelectasis', 'Cardiomegaly', 'Consolidation', 'Edema',\n",
    "       'Effusion', 'Emphysema', 'Fibrosis', 'Hernia', 'Infiltration', 'Mass',\n",
    "       'Nodule', 'Pleural_Thickening', 'Pneumonia', 'Pneumothorax',\n",
    "       'Pneumoperitoneum', 'Pneumomediastinum', 'Subcutaneous Emphysema',\n",
    "       'Tortuous Aorta', 'Calcification of the Aorta', 'No Finding']].sum().sort_values(ascending=False)"
   ]
  },
  {
   "cell_type": "code",
   "execution_count": 54,
   "metadata": {},
   "outputs": [
    {
     "data": {
      "text/plain": [
       "15"
      ]
     },
     "execution_count": 54,
     "metadata": {},
     "output_type": "execute_result"
    }
   ],
   "source": [
    "diseases = ['Atelectasis', 'Cardiomegaly', 'Effusion', 'Infiltration', 'Mass', 'Nodule', 'Pneumonia', 'Pneumothorax', 'Consolidation', 'Edema', 'Emphysema', 'Fibrosis', 'Pleural_Thickening', 'Hernia', 'No Finding']\n",
    "len(set(diseases))"
   ]
  },
  {
   "cell_type": "markdown",
   "metadata": {},
   "source": [
    "### Check whether all the data is same\n"
   ]
  },
  {
   "cell_type": "code",
   "execution_count": 55,
   "metadata": {},
   "outputs": [],
   "source": [
    "# Make sure the dataframes are the same\n",
    "for disease in diseases:\n",
    "    assert(df_kaggle[disease].equals(df_nih[disease]))"
   ]
  },
  {
   "cell_type": "code",
   "execution_count": 58,
   "metadata": {},
   "outputs": [
    {
     "name": "stdout",
     "output_type": "stream",
     "text": [
      "Atelectasis 0\n",
      "Cardiomegaly 0\n",
      "Effusion 0\n",
      "Infiltration 0\n",
      "Mass 0\n",
      "Nodule 0\n",
      "Pneumonia 0\n",
      "Pneumothorax 0\n",
      "Consolidation 0\n",
      "Edema 0\n",
      "Emphysema 0\n",
      "Fibrosis 0\n",
      "Pleural_Thickening 0\n",
      "Hernia 0\n",
      "No Finding 955\n"
     ]
    }
   ],
   "source": [
    "for disease in diseases:\n",
    "    print(disease, (df_kaggle[disease] != (df_miccai[disease])).sum())"
   ]
  },
  {
   "cell_type": "code",
   "execution_count": 59,
   "metadata": {},
   "outputs": [
    {
     "data": {
      "text/html": [
       "<div>\n",
       "<style scoped>\n",
       "    .dataframe tbody tr th:only-of-type {\n",
       "        vertical-align: middle;\n",
       "    }\n",
       "\n",
       "    .dataframe tbody tr th {\n",
       "        vertical-align: top;\n",
       "    }\n",
       "\n",
       "    .dataframe thead th {\n",
       "        text-align: right;\n",
       "    }\n",
       "</style>\n",
       "<table border=\"1\" class=\"dataframe\">\n",
       "  <thead>\n",
       "    <tr style=\"text-align: right;\">\n",
       "      <th></th>\n",
       "      <th>index</th>\n",
       "      <th>Image Index</th>\n",
       "      <th>Finding Labels</th>\n",
       "      <th>Follow-up #</th>\n",
       "      <th>Patient ID</th>\n",
       "      <th>Patient Age</th>\n",
       "      <th>Patient Gender</th>\n",
       "      <th>View Position</th>\n",
       "      <th>OriginalImage[Width</th>\n",
       "      <th>Height]</th>\n",
       "      <th>...</th>\n",
       "      <th>Emphysema</th>\n",
       "      <th>Fibrosis</th>\n",
       "      <th>Hernia</th>\n",
       "      <th>Infiltration</th>\n",
       "      <th>Mass</th>\n",
       "      <th>No Finding</th>\n",
       "      <th>Nodule</th>\n",
       "      <th>Pleural_Thickening</th>\n",
       "      <th>Pneumonia</th>\n",
       "      <th>Pneumothorax</th>\n",
       "    </tr>\n",
       "  </thead>\n",
       "  <tbody>\n",
       "    <tr>\n",
       "      <th>52</th>\n",
       "      <td>52</td>\n",
       "      <td>00000013_014.png</td>\n",
       "      <td>No Finding</td>\n",
       "      <td>14</td>\n",
       "      <td>13</td>\n",
       "      <td>61</td>\n",
       "      <td>M</td>\n",
       "      <td>PA</td>\n",
       "      <td>2021</td>\n",
       "      <td>2021</td>\n",
       "      <td>...</td>\n",
       "      <td>0</td>\n",
       "      <td>0</td>\n",
       "      <td>0</td>\n",
       "      <td>0</td>\n",
       "      <td>0</td>\n",
       "      <td>1</td>\n",
       "      <td>0</td>\n",
       "      <td>0</td>\n",
       "      <td>0</td>\n",
       "      <td>0</td>\n",
       "    </tr>\n",
       "    <tr>\n",
       "      <th>178</th>\n",
       "      <td>178</td>\n",
       "      <td>00000035_000.png</td>\n",
       "      <td>No Finding</td>\n",
       "      <td>0</td>\n",
       "      <td>35</td>\n",
       "      <td>79</td>\n",
       "      <td>M</td>\n",
       "      <td>PA</td>\n",
       "      <td>2754</td>\n",
       "      <td>2873</td>\n",
       "      <td>...</td>\n",
       "      <td>0</td>\n",
       "      <td>0</td>\n",
       "      <td>0</td>\n",
       "      <td>0</td>\n",
       "      <td>0</td>\n",
       "      <td>1</td>\n",
       "      <td>0</td>\n",
       "      <td>0</td>\n",
       "      <td>0</td>\n",
       "      <td>0</td>\n",
       "    </tr>\n",
       "    <tr>\n",
       "      <th>179</th>\n",
       "      <td>179</td>\n",
       "      <td>00000035_001.png</td>\n",
       "      <td>No Finding</td>\n",
       "      <td>1</td>\n",
       "      <td>35</td>\n",
       "      <td>80</td>\n",
       "      <td>M</td>\n",
       "      <td>PA</td>\n",
       "      <td>2718</td>\n",
       "      <td>2973</td>\n",
       "      <td>...</td>\n",
       "      <td>0</td>\n",
       "      <td>0</td>\n",
       "      <td>0</td>\n",
       "      <td>0</td>\n",
       "      <td>0</td>\n",
       "      <td>1</td>\n",
       "      <td>0</td>\n",
       "      <td>0</td>\n",
       "      <td>0</td>\n",
       "      <td>0</td>\n",
       "    </tr>\n",
       "    <tr>\n",
       "      <th>583</th>\n",
       "      <td>583</td>\n",
       "      <td>00000143_007.png</td>\n",
       "      <td>No Finding</td>\n",
       "      <td>7</td>\n",
       "      <td>143</td>\n",
       "      <td>92</td>\n",
       "      <td>M</td>\n",
       "      <td>AP</td>\n",
       "      <td>2500</td>\n",
       "      <td>2048</td>\n",
       "      <td>...</td>\n",
       "      <td>0</td>\n",
       "      <td>0</td>\n",
       "      <td>0</td>\n",
       "      <td>0</td>\n",
       "      <td>0</td>\n",
       "      <td>1</td>\n",
       "      <td>0</td>\n",
       "      <td>0</td>\n",
       "      <td>0</td>\n",
       "      <td>0</td>\n",
       "    </tr>\n",
       "    <tr>\n",
       "      <th>613</th>\n",
       "      <td>613</td>\n",
       "      <td>00000150_001.png</td>\n",
       "      <td>No Finding</td>\n",
       "      <td>1</td>\n",
       "      <td>150</td>\n",
       "      <td>54</td>\n",
       "      <td>F</td>\n",
       "      <td>AP</td>\n",
       "      <td>3056</td>\n",
       "      <td>2544</td>\n",
       "      <td>...</td>\n",
       "      <td>0</td>\n",
       "      <td>0</td>\n",
       "      <td>0</td>\n",
       "      <td>0</td>\n",
       "      <td>0</td>\n",
       "      <td>1</td>\n",
       "      <td>0</td>\n",
       "      <td>0</td>\n",
       "      <td>0</td>\n",
       "      <td>0</td>\n",
       "    </tr>\n",
       "    <tr>\n",
       "      <th>...</th>\n",
       "      <td>...</td>\n",
       "      <td>...</td>\n",
       "      <td>...</td>\n",
       "      <td>...</td>\n",
       "      <td>...</td>\n",
       "      <td>...</td>\n",
       "      <td>...</td>\n",
       "      <td>...</td>\n",
       "      <td>...</td>\n",
       "      <td>...</td>\n",
       "      <td>...</td>\n",
       "      <td>...</td>\n",
       "      <td>...</td>\n",
       "      <td>...</td>\n",
       "      <td>...</td>\n",
       "      <td>...</td>\n",
       "      <td>...</td>\n",
       "      <td>...</td>\n",
       "      <td>...</td>\n",
       "      <td>...</td>\n",
       "      <td>...</td>\n",
       "    </tr>\n",
       "    <tr>\n",
       "      <th>111548</th>\n",
       "      <td>111548</td>\n",
       "      <td>00030535_002.png</td>\n",
       "      <td>No Finding</td>\n",
       "      <td>2</td>\n",
       "      <td>30535</td>\n",
       "      <td>51</td>\n",
       "      <td>F</td>\n",
       "      <td>AP</td>\n",
       "      <td>3056</td>\n",
       "      <td>2544</td>\n",
       "      <td>...</td>\n",
       "      <td>0</td>\n",
       "      <td>0</td>\n",
       "      <td>0</td>\n",
       "      <td>0</td>\n",
       "      <td>0</td>\n",
       "      <td>1</td>\n",
       "      <td>0</td>\n",
       "      <td>0</td>\n",
       "      <td>0</td>\n",
       "      <td>0</td>\n",
       "    </tr>\n",
       "    <tr>\n",
       "      <th>111593</th>\n",
       "      <td>111593</td>\n",
       "      <td>00030558_000.png</td>\n",
       "      <td>No Finding</td>\n",
       "      <td>0</td>\n",
       "      <td>30558</td>\n",
       "      <td>65</td>\n",
       "      <td>M</td>\n",
       "      <td>PA</td>\n",
       "      <td>2021</td>\n",
       "      <td>2021</td>\n",
       "      <td>...</td>\n",
       "      <td>0</td>\n",
       "      <td>0</td>\n",
       "      <td>0</td>\n",
       "      <td>0</td>\n",
       "      <td>0</td>\n",
       "      <td>1</td>\n",
       "      <td>0</td>\n",
       "      <td>0</td>\n",
       "      <td>0</td>\n",
       "      <td>0</td>\n",
       "    </tr>\n",
       "    <tr>\n",
       "      <th>111925</th>\n",
       "      <td>111925</td>\n",
       "      <td>00030673_000.png</td>\n",
       "      <td>No Finding</td>\n",
       "      <td>0</td>\n",
       "      <td>30673</td>\n",
       "      <td>58</td>\n",
       "      <td>F</td>\n",
       "      <td>PA</td>\n",
       "      <td>2021</td>\n",
       "      <td>2015</td>\n",
       "      <td>...</td>\n",
       "      <td>0</td>\n",
       "      <td>0</td>\n",
       "      <td>0</td>\n",
       "      <td>0</td>\n",
       "      <td>0</td>\n",
       "      <td>1</td>\n",
       "      <td>0</td>\n",
       "      <td>0</td>\n",
       "      <td>0</td>\n",
       "      <td>0</td>\n",
       "    </tr>\n",
       "    <tr>\n",
       "      <th>111940</th>\n",
       "      <td>111940</td>\n",
       "      <td>00030682_001.png</td>\n",
       "      <td>No Finding</td>\n",
       "      <td>1</td>\n",
       "      <td>30682</td>\n",
       "      <td>79</td>\n",
       "      <td>F</td>\n",
       "      <td>PA</td>\n",
       "      <td>2021</td>\n",
       "      <td>2021</td>\n",
       "      <td>...</td>\n",
       "      <td>0</td>\n",
       "      <td>0</td>\n",
       "      <td>0</td>\n",
       "      <td>0</td>\n",
       "      <td>0</td>\n",
       "      <td>1</td>\n",
       "      <td>0</td>\n",
       "      <td>0</td>\n",
       "      <td>0</td>\n",
       "      <td>0</td>\n",
       "    </tr>\n",
       "    <tr>\n",
       "      <th>112039</th>\n",
       "      <td>112039</td>\n",
       "      <td>00030752_000.png</td>\n",
       "      <td>No Finding</td>\n",
       "      <td>0</td>\n",
       "      <td>30752</td>\n",
       "      <td>64</td>\n",
       "      <td>F</td>\n",
       "      <td>AP</td>\n",
       "      <td>3056</td>\n",
       "      <td>2544</td>\n",
       "      <td>...</td>\n",
       "      <td>0</td>\n",
       "      <td>0</td>\n",
       "      <td>0</td>\n",
       "      <td>0</td>\n",
       "      <td>0</td>\n",
       "      <td>1</td>\n",
       "      <td>0</td>\n",
       "      <td>0</td>\n",
       "      <td>0</td>\n",
       "      <td>0</td>\n",
       "    </tr>\n",
       "  </tbody>\n",
       "</table>\n",
       "<p>955 rows × 28 columns</p>\n",
       "</div>"
      ],
      "text/plain": [
       "         index       Image Index Finding Labels  Follow-up #  Patient ID  \\\n",
       "52          52  00000013_014.png     No Finding           14          13   \n",
       "178        178  00000035_000.png     No Finding            0          35   \n",
       "179        179  00000035_001.png     No Finding            1          35   \n",
       "583        583  00000143_007.png     No Finding            7         143   \n",
       "613        613  00000150_001.png     No Finding            1         150   \n",
       "...        ...               ...            ...          ...         ...   \n",
       "111548  111548  00030535_002.png     No Finding            2       30535   \n",
       "111593  111593  00030558_000.png     No Finding            0       30558   \n",
       "111925  111925  00030673_000.png     No Finding            0       30673   \n",
       "111940  111940  00030682_001.png     No Finding            1       30682   \n",
       "112039  112039  00030752_000.png     No Finding            0       30752   \n",
       "\n",
       "        Patient Age Patient Gender View Position  OriginalImage[Width  \\\n",
       "52               61              M            PA                 2021   \n",
       "178              79              M            PA                 2754   \n",
       "179              80              M            PA                 2718   \n",
       "583              92              M            AP                 2500   \n",
       "613              54              F            AP                 3056   \n",
       "...             ...            ...           ...                  ...   \n",
       "111548           51              F            AP                 3056   \n",
       "111593           65              M            PA                 2021   \n",
       "111925           58              F            PA                 2021   \n",
       "111940           79              F            PA                 2021   \n",
       "112039           64              F            AP                 3056   \n",
       "\n",
       "        Height]  ...  Emphysema  Fibrosis  Hernia  Infiltration  Mass  \\\n",
       "52         2021  ...          0         0       0             0     0   \n",
       "178        2873  ...          0         0       0             0     0   \n",
       "179        2973  ...          0         0       0             0     0   \n",
       "583        2048  ...          0         0       0             0     0   \n",
       "613        2544  ...          0         0       0             0     0   \n",
       "...         ...  ...        ...       ...     ...           ...   ...   \n",
       "111548     2544  ...          0         0       0             0     0   \n",
       "111593     2021  ...          0         0       0             0     0   \n",
       "111925     2015  ...          0         0       0             0     0   \n",
       "111940     2021  ...          0         0       0             0     0   \n",
       "112039     2544  ...          0         0       0             0     0   \n",
       "\n",
       "        No Finding  Nodule  Pleural_Thickening  Pneumonia  Pneumothorax  \n",
       "52               1       0                   0          0             0  \n",
       "178              1       0                   0          0             0  \n",
       "179              1       0                   0          0             0  \n",
       "583              1       0                   0          0             0  \n",
       "613              1       0                   0          0             0  \n",
       "...            ...     ...                 ...        ...           ...  \n",
       "111548           1       0                   0          0             0  \n",
       "111593           1       0                   0          0             0  \n",
       "111925           1       0                   0          0             0  \n",
       "111940           1       0                   0          0             0  \n",
       "112039           1       0                   0          0             0  \n",
       "\n",
       "[955 rows x 28 columns]"
      ]
     },
     "execution_count": 59,
     "metadata": {},
     "output_type": "execute_result"
    }
   ],
   "source": [
    "df_kaggle[df_kaggle[disease] != (df_miccai[disease])]"
   ]
  },
  {
   "cell_type": "markdown",
   "metadata": {},
   "source": [
    "### All the rows which are not matching have been identified with the new labels. So, looks like we are okay"
   ]
  },
  {
   "cell_type": "code",
   "execution_count": 62,
   "metadata": {},
   "outputs": [
    {
     "data": {
      "text/plain": [
       "index                                                                  27471623\n",
       "Image Index                   00000013_014.png00000035_000.png00000035_001.p...\n",
       "Atelectasis                                                                   0\n",
       "Cardiomegaly                                                                  0\n",
       "Consolidation                                                                 0\n",
       "Edema                                                                         0\n",
       "Effusion                                                                      0\n",
       "Emphysema                                                                     0\n",
       "Fibrosis                                                                      0\n",
       "Hernia                                                                        0\n",
       "Infiltration                                                                  0\n",
       "Mass                                                                          0\n",
       "Nodule                                                                        0\n",
       "Pleural_Thickening                                                            0\n",
       "Pneumonia                                                                     0\n",
       "Pneumothorax                                                                  0\n",
       "Pneumoperitoneum                                                            129\n",
       "Pneumomediastinum                                                            69\n",
       "Subcutaneous Emphysema                                                      101\n",
       "Tortuous Aorta                                                              475\n",
       "Calcification of the Aorta                                                  204\n",
       "No Finding                                                                    0\n",
       "subj_id                                                                13048456\n",
       "dtype: object"
      ]
     },
     "execution_count": 62,
     "metadata": {},
     "output_type": "execute_result"
    }
   ],
   "source": [
    "df_miccai[df_kaggle[disease] != (df_miccai[disease])].sum()"
   ]
  }
 ],
 "metadata": {
  "kernelspec": {
   "display_name": "cs231n-project",
   "language": "python",
   "name": "cs231n-project"
  },
  "language_info": {
   "codemirror_mode": {
    "name": "ipython",
    "version": 3
   },
   "file_extension": ".py",
   "mimetype": "text/x-python",
   "name": "python",
   "nbconvert_exporter": "python",
   "pygments_lexer": "ipython3",
   "version": "3.12.3"
  }
 },
 "nbformat": 4,
 "nbformat_minor": 2
}
