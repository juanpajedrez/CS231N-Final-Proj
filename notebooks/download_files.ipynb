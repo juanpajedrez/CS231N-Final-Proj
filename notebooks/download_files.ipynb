{
 "cells": [
  {
   "cell_type": "markdown",
   "metadata": {},
   "source": [
    "# Donwload files\n",
    "\n",
    "This jupyter notebook has the objective to retrieve the files <br>\n",
    "in zip folders inside the data path for later use in the project"
   ]
  },
  {
   "cell_type": "code",
   "execution_count": 1,
   "metadata": {},
   "outputs": [],
   "source": [
    "import os\n",
    "import sys\n",
    "import matplotlib.pyplot as plt\n",
    "\n",
    "%matplotlib inline\n",
    "plt.rcParams[\"figure.figsize\"] = (10.0, 8.0)  # Set default size of plots.\n",
    "plt.rcParams[\"image.interpolation\"] = \"nearest\"\n",
    "plt.rcParams[\"image.cmap\"] = \"gray\"\n",
    "\n",
    "%load_ext autoreload\n",
    "%autoreload 2"
   ]
  },
  {
   "cell_type": "code",
   "execution_count": 2,
   "metadata": {},
   "outputs": [],
   "source": [
    "# Assuming that we are currently in the notebooks directory\n",
    "project_path = os.path.dirname(os.getcwd())\n",
    "\n",
    "# Add src folder to sys path\n",
    "sys.path.append(os.path.join(project_path, \"src\"))"
   ]
  },
  {
   "cell_type": "markdown",
   "metadata": {},
   "source": [
    "### Import the necessary module for downloading\n",
    "\n",
    "Note for this: EVERYTIME There is a change inside the download <br>\n",
    "the changes inside the file would only be shown if the jupyter kernel is restarted. <br>\n"
   ]
  },
  {
   "cell_type": "code",
   "execution_count": 3,
   "metadata": {},
   "outputs": [],
   "source": [
    "# Import the necessary modules\n",
    "from utils import CXRDownloader"
   ]
  },
  {
   "cell_type": "markdown",
   "metadata": {},
   "source": [
    "### Set the data path"
   ]
  },
  {
   "cell_type": "code",
   "execution_count": 4,
   "metadata": {},
   "outputs": [],
   "source": [
    "# set the data path and create it if does not exist\n",
    "data_path = os.path.join(project_path, 'data')\n",
    "if not os.path.exists(data_path):\n",
    "    os.makedirs(data_path)"
   ]
  },
  {
   "cell_type": "markdown",
   "metadata": {},
   "source": [
    "### Execute the codes\n",
    "\n",
    "Let the codes finalize downloading for all."
   ]
  },
  {
   "cell_type": "code",
   "execution_count": 6,
   "metadata": {},
   "outputs": [
    {
     "name": "stdout",
     "output_type": "stream",
     "text": [
      "Already downloaded c:\\Users\\juan.pablo\\Documents\\temporal_school_rel\\CS231N-Final-Proj\\data\\Zip_files\\images_01.tar.gzPLEASE: Make sure the size and all images are there, erase and execute download again\n",
      "Already downloaded c:\\Users\\juan.pablo\\Documents\\temporal_school_rel\\CS231N-Final-Proj\\data\\Zip_files\\images_02.tar.gzPLEASE: Make sure the size and all images are there, erase and execute download again\n",
      "Already downloaded c:\\Users\\juan.pablo\\Documents\\temporal_school_rel\\CS231N-Final-Proj\\data\\Zip_files\\images_03.tar.gzPLEASE: Make sure the size and all images are there, erase and execute download again\n",
      "Already downloaded c:\\Users\\juan.pablo\\Documents\\temporal_school_rel\\CS231N-Final-Proj\\data\\Zip_files\\images_04.tar.gzPLEASE: Make sure the size and all images are there, erase and execute download again\n",
      "Already downloaded c:\\Users\\juan.pablo\\Documents\\temporal_school_rel\\CS231N-Final-Proj\\data\\Zip_files\\images_05.tar.gzPLEASE: Make sure the size and all images are there, erase and execute download again\n",
      "Already downloaded c:\\Users\\juan.pablo\\Documents\\temporal_school_rel\\CS231N-Final-Proj\\data\\Zip_files\\images_06.tar.gzPLEASE: Make sure the size and all images are there, erase and execute download again\n",
      "Already downloaded c:\\Users\\juan.pablo\\Documents\\temporal_school_rel\\CS231N-Final-Proj\\data\\Zip_files\\images_07.tar.gzPLEASE: Make sure the size and all images are there, erase and execute download again\n",
      "Already downloaded c:\\Users\\juan.pablo\\Documents\\temporal_school_rel\\CS231N-Final-Proj\\data\\Zip_files\\images_08.tar.gzPLEASE: Make sure the size and all images are there, erase and execute download again\n",
      "Already downloaded c:\\Users\\juan.pablo\\Documents\\temporal_school_rel\\CS231N-Final-Proj\\data\\Zip_files\\images_09.tar.gzPLEASE: Make sure the size and all images are there, erase and execute download again\n",
      "Already downloaded c:\\Users\\juan.pablo\\Documents\\temporal_school_rel\\CS231N-Final-Proj\\data\\Zip_files\\images_10.tar.gzPLEASE: Make sure the size and all images are there, erase and execute download again\n",
      "Already downloaded c:\\Users\\juan.pablo\\Documents\\temporal_school_rel\\CS231N-Final-Proj\\data\\Zip_files\\images_11.tar.gzPLEASE: Make sure the size and all images are there, erase and execute download again\n",
      "Already downloaded c:\\Users\\juan.pablo\\Documents\\temporal_school_rel\\CS231N-Final-Proj\\data\\Zip_files\\images_12.tar.gzPLEASE: Make sure the size and all images are there, erase and execute download again\n",
      "All downloads complete. Please check the checksums.\n"
     ]
    }
   ],
   "source": [
    "# Create a downloader compiler\n",
    "downloader_compiler = CXRDownloader()\n",
    "\n",
    "#Set the data path\n",
    "downloader_compiler.set_data_path(data_path)\n",
    "\n",
    "#Set the links\n",
    "downloader_compiler.set_default_links()\n",
    "\n",
    "#download the zip files\n",
    "downloader_compiler.download_files()"
   ]
  },
  {
   "cell_type": "markdown",
   "metadata": {},
   "source": [
    "# LETS Now export the files using "
   ]
  }
 ],
 "metadata": {
  "kernelspec": {
   "display_name": "cs231-project",
   "language": "python",
   "name": "python3"
  },
  "language_info": {
   "codemirror_mode": {
    "name": "ipython",
    "version": 3
   },
   "file_extension": ".py",
   "mimetype": "text/x-python",
   "name": "python",
   "nbconvert_exporter": "python",
   "pygments_lexer": "ipython3",
   "version": "3.11.3"
  }
 },
 "nbformat": 4,
 "nbformat_minor": 2
}
