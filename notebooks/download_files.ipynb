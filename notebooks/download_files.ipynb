{
 "cells": [
  {
   "cell_type": "markdown",
   "metadata": {},
   "source": [
    "# Donwload files\n",
    "\n",
    "This jupyter notebook has the objective to retrieve the files <br>\n",
    "in zip folders inside the data path for later use in the project"
   ]
  },
  {
   "cell_type": "code",
   "execution_count": 10,
   "metadata": {},
   "outputs": [
    {
     "name": "stdout",
     "output_type": "stream",
     "text": [
      "The autoreload extension is already loaded. To reload it, use:\n",
      "  %reload_ext autoreload\n"
     ]
    }
   ],
   "source": [
    "import os\n",
    "import sys\n",
    "import matplotlib.pyplot as plt\n",
    "\n",
    "%matplotlib inline\n",
    "plt.rcParams[\"figure.figsize\"] = (10.0, 8.0)  # Set default size of plots.\n",
    "plt.rcParams[\"image.interpolation\"] = \"nearest\"\n",
    "plt.rcParams[\"image.cmap\"] = \"gray\"\n",
    "\n",
    "%load_ext autoreload\n",
    "%autoreload 2"
   ]
  },
  {
   "cell_type": "code",
   "execution_count": 11,
   "metadata": {},
   "outputs": [],
   "source": [
    "# Assuming that we are currently in the notebooks directory\n",
    "project_path = os.path.dirname(os.getcwd())\n",
    "\n",
    "# Add src folder to sys path\n",
    "sys.path.append(os.path.join(project_path, \"src\"))"
   ]
  },
  {
   "cell_type": "markdown",
   "metadata": {},
   "source": [
    "### Import the necessary module for downloading\n",
    "\n",
    "Note for this: EVERYTIME There is a change inside the download <br>\n",
    "the changes inside the file would only be shown if the jupyter kernel is restarted. <br>\n"
   ]
  },
  {
   "cell_type": "code",
   "execution_count": 12,
   "metadata": {},
   "outputs": [],
   "source": [
    "# Import the necessary modules\n",
    "from utils import CXRDownloader"
   ]
  },
  {
   "cell_type": "markdown",
   "metadata": {},
   "source": [
    "### Set the data path"
   ]
  },
  {
   "cell_type": "code",
   "execution_count": 13,
   "metadata": {},
   "outputs": [],
   "source": [
    "# set the data path and create it if does not exist\n",
    "data_path = os.path.join(project_path, 'data')\n",
    "if not os.path.exists(data_path):\n",
    "    os.makedirs(data_path)"
   ]
  },
  {
   "cell_type": "markdown",
   "metadata": {},
   "source": [
    "### Execute the codes\n",
    "\n",
    "Let the codes finalize downloading for all."
   ]
  },
  {
   "cell_type": "code",
   "execution_count": 14,
   "metadata": {},
   "outputs": [
    {
     "name": "stdout",
     "output_type": "stream",
     "text": [
      "Downloading /project/cs231/CS231N-Final-Proj/data/Zip_files/images_01.tar.gz\n"
     ]
    },
    {
     "name": "stderr",
     "output_type": "stream",
     "text": [
      "0.00B [00:00, ?B/s]"
     ]
    },
    {
     "name": "stderr",
     "output_type": "stream",
     "text": [
      "1.87GB [00:41, 48.2MB/s]\n"
     ]
    },
    {
     "name": "stdout",
     "output_type": "stream",
     "text": [
      "Download of /project/cs231/CS231N-Final-Proj/data/Zip_files/images_01.tar.gz complete.\n",
      "Downloading /project/cs231/CS231N-Final-Proj/data/Zip_files/images_02.tar.gz\n"
     ]
    },
    {
     "name": "stderr",
     "output_type": "stream",
     "text": [
      "3.68GB [00:55, 70.9MB/s]\n"
     ]
    },
    {
     "name": "stdout",
     "output_type": "stream",
     "text": [
      "Download of /project/cs231/CS231N-Final-Proj/data/Zip_files/images_02.tar.gz complete.\n",
      "Downloading /project/cs231/CS231N-Final-Proj/data/Zip_files/images_03.tar.gz\n"
     ]
    },
    {
     "name": "stderr",
     "output_type": "stream",
     "text": [
      "3.66GB [00:55, 70.6MB/s]\n"
     ]
    },
    {
     "name": "stdout",
     "output_type": "stream",
     "text": [
      "Download of /project/cs231/CS231N-Final-Proj/data/Zip_files/images_03.tar.gz complete.\n",
      "Downloading /project/cs231/CS231N-Final-Proj/data/Zip_files/images_04.tar.gz\n"
     ]
    },
    {
     "name": "stderr",
     "output_type": "stream",
     "text": [
      "3.58GB [00:58, 65.4MB/s]\n"
     ]
    },
    {
     "name": "stdout",
     "output_type": "stream",
     "text": [
      "Download of /project/cs231/CS231N-Final-Proj/data/Zip_files/images_04.tar.gz complete.\n",
      "Downloading /project/cs231/CS231N-Final-Proj/data/Zip_files/images_05.tar.gz\n"
     ]
    },
    {
     "name": "stderr",
     "output_type": "stream",
     "text": [
      "3.67GB [00:54, 72.8MB/s]\n"
     ]
    },
    {
     "name": "stdout",
     "output_type": "stream",
     "text": [
      "Download of /project/cs231/CS231N-Final-Proj/data/Zip_files/images_05.tar.gz complete.\n",
      "Downloading /project/cs231/CS231N-Final-Proj/data/Zip_files/images_06.tar.gz\n"
     ]
    },
    {
     "name": "stderr",
     "output_type": "stream",
     "text": [
      "3.71GB [00:57, 69.3MB/s]\n"
     ]
    },
    {
     "name": "stdout",
     "output_type": "stream",
     "text": [
      "Download of /project/cs231/CS231N-Final-Proj/data/Zip_files/images_06.tar.gz complete.\n",
      "Downloading /project/cs231/CS231N-Final-Proj/data/Zip_files/images_07.tar.gz\n"
     ]
    },
    {
     "name": "stderr",
     "output_type": "stream",
     "text": [
      "3.74GB [00:59, 67.7MB/s]\n"
     ]
    },
    {
     "name": "stdout",
     "output_type": "stream",
     "text": [
      "Download of /project/cs231/CS231N-Final-Proj/data/Zip_files/images_07.tar.gz complete.\n",
      "Downloading /project/cs231/CS231N-Final-Proj/data/Zip_files/images_08.tar.gz\n"
     ]
    },
    {
     "name": "stderr",
     "output_type": "stream",
     "text": [
      "3.74GB [00:58, 68.3MB/s]\n"
     ]
    },
    {
     "name": "stdout",
     "output_type": "stream",
     "text": [
      "Download of /project/cs231/CS231N-Final-Proj/data/Zip_files/images_08.tar.gz complete.\n",
      "Downloading /project/cs231/CS231N-Final-Proj/data/Zip_files/images_09.tar.gz\n"
     ]
    },
    {
     "name": "stderr",
     "output_type": "stream",
     "text": [
      "3.83GB [00:57, 71.6MB/s]\n"
     ]
    },
    {
     "name": "stdout",
     "output_type": "stream",
     "text": [
      "Download of /project/cs231/CS231N-Final-Proj/data/Zip_files/images_09.tar.gz complete.\n",
      "Downloading /project/cs231/CS231N-Final-Proj/data/Zip_files/images_10.tar.gz\n"
     ]
    },
    {
     "name": "stderr",
     "output_type": "stream",
     "text": [
      "3.89GB [01:01, 68.3MB/s]\n"
     ]
    },
    {
     "name": "stdout",
     "output_type": "stream",
     "text": [
      "Download of /project/cs231/CS231N-Final-Proj/data/Zip_files/images_10.tar.gz complete.\n",
      "Downloading /project/cs231/CS231N-Final-Proj/data/Zip_files/images_11.tar.gz\n"
     ]
    },
    {
     "name": "stderr",
     "output_type": "stream",
     "text": [
      "3.90GB [00:56, 73.6MB/s]\n"
     ]
    },
    {
     "name": "stdout",
     "output_type": "stream",
     "text": [
      "Download of /project/cs231/CS231N-Final-Proj/data/Zip_files/images_11.tar.gz complete.\n",
      "Downloading /project/cs231/CS231N-Final-Proj/data/Zip_files/images_12.tar.gz\n"
     ]
    },
    {
     "name": "stderr",
     "output_type": "stream",
     "text": [
      "2.71GB [00:45, 64.7MB/s]"
     ]
    },
    {
     "name": "stdout",
     "output_type": "stream",
     "text": [
      "Download of /project/cs231/CS231N-Final-Proj/data/Zip_files/images_12.tar.gz complete.\n",
      "All downloads complete. Please check the checksums.\n"
     ]
    },
    {
     "name": "stderr",
     "output_type": "stream",
     "text": [
      "\n"
     ]
    }
   ],
   "source": [
    "# Create a downloader compiler\n",
    "downloader_compiler = CXRDownloader()\n",
    "\n",
    "#Set the data path\n",
    "downloader_compiler.set_data_path(data_path)\n",
    "\n",
    "#Set the links\n",
    "downloader_compiler.set_default_links()\n",
    "\n",
    "#download the zip files\n",
    "downloader_compiler.download_files()"
   ]
  }
 ],
 "metadata": {
  "kernelspec": {
   "display_name": "cs231-project",
   "language": "python",
   "name": "python3"
  },
  "language_info": {
   "codemirror_mode": {
    "name": "ipython",
    "version": 3
   },
   "file_extension": ".py",
   "mimetype": "text/x-python",
   "name": "python",
   "nbconvert_exporter": "python",
   "pygments_lexer": "ipython3",
   "version": "3.11.9"
  }
 },
 "nbformat": 4,
 "nbformat_minor": 2
}
