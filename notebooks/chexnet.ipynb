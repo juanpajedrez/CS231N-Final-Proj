{
 "cells": [
  {
   "cell_type": "code",
   "execution_count": 2,
   "metadata": {},
   "outputs": [
    {
     "data": {
      "text/plain": [
       "False"
      ]
     },
     "execution_count": 2,
     "metadata": {},
     "output_type": "execute_result"
    }
   ],
   "source": [
    "import os\n",
    "import re\n",
    "import numpy as np\n",
    "import torch\n",
    "import torch.nn as nn\n",
    "import torch.backends.cudnn as cudnn\n",
    "import torchvision\n",
    "import torchvision.transforms as transforms\n",
    "from torch.utils.data import DataLoader\n",
    "from sklearn.metrics import roc_auc_score\n",
    "from dotenv import load_dotenv\n",
    "import matplotlib.pyplot as plt\n",
    "load_dotenv()"
   ]
  },
  {
   "cell_type": "code",
   "execution_count": 6,
   "metadata": {},
   "outputs": [],
   "source": [
    "# Assuming that we are currently in the notebooks directory\n",
    "from pathlib import Path\n",
    "\n",
    "\n",
    "project_path = Path.cwd().parent"
   ]
  },
  {
   "cell_type": "code",
   "execution_count": 13,
   "metadata": {},
   "outputs": [],
   "source": [
    "CKPT_PATH = f'{project_path}/models/chexnet_densenet_121.tar'\n",
    "N_CLASSES = 14\n",
    "CLASS_NAMES = [ 'Atelectasis', 'Cardiomegaly', 'Effusion', 'Infiltration', 'Mass', 'Nodule', 'Pneumonia',\n",
    "                'Pneumothorax', 'Consolidation', 'Edema', 'Emphysema', 'Fibrosis', 'Pleural_Thickening', 'Hernia']\n",
    "DATA_DIR = os.environ.get('DATA_PATH')\n",
    "BATCH_SIZE = 64\n"
   ]
  },
  {
   "cell_type": "code",
   "execution_count": 14,
   "metadata": {},
   "outputs": [],
   "source": [
    "class DenseNet121(nn.Module):\n",
    "    \"\"\"Model modified.\n",
    "\n",
    "    The architecture of our model is the same as standard DenseNet121\n",
    "    except the classifier layer which has an additional sigmoid function.\n",
    "\n",
    "    \"\"\"\n",
    "    def __init__(self, out_size):\n",
    "        super(DenseNet121, self).__init__()\n",
    "        self.densenet121 = torchvision.models.densenet121()\n",
    "        num_ftrs = self.densenet121.classifier.in_features\n",
    "        self.densenet121.classifier = nn.Sequential(\n",
    "            nn.Linear(num_ftrs, out_size),\n",
    "            nn.Sigmoid()\n",
    "        )\n",
    "\n",
    "    def forward(self, x):\n",
    "        x = self.densenet121(x)\n",
    "        return x"
   ]
  },
  {
   "cell_type": "code",
   "execution_count": 15,
   "metadata": {},
   "outputs": [
    {
     "name": "stdout",
     "output_type": "stream",
     "text": [
      "=> loading checkpoint\n",
      "=> loaded checkpoint\n"
     ]
    }
   ],
   "source": [
    "cudnn.benchmark = True\n",
    "\n",
    "# initialize and load the model\n",
    "model = DenseNet121(N_CLASSES)\n",
    "model = torch.nn.DataParallel(model)\n",
    "\n",
    "if os.path.isfile(CKPT_PATH):\n",
    "    print(\"=> loading checkpoint\")\n",
    "    checkpoint = torch.load(CKPT_PATH, map_location=torch.device('cpu'))\n",
    "\n",
    "    # Renaming keys\n",
    "    statedict_renamed = {}\n",
    "    for key, value in checkpoint['state_dict'].items():\n",
    "        # Substitute the found pattern with just the digits part\n",
    "        # new_key = re.sub(r'norm(\\.\\d+)\\.', lambda x: x.group(0)[1:], key)\n",
    "        new_key = re.sub(r'(norm|conv)(\\.\\d+)\\.', lambda x: re.sub(r'\\.', '', x.group(0), count=1), key)\n",
    "        statedict_renamed[new_key] = value\n",
    "    checkpoint['state_dict'] = statedict_renamed\n",
    "\n",
    "    model.load_state_dict(checkpoint['state_dict'])\n",
    "    print(\"=> loaded checkpoint\")\n",
    "else:\n",
    "    print(\"=> no checkpoint found\")"
   ]
  },
  {
   "cell_type": "code",
   "execution_count": 16,
   "metadata": {},
   "outputs": [],
   "source": [
    "def visualise_weights(weights):\n",
    "    # Expecting input in (N, C, H, W)\n",
    "    \n",
    "    # reshape the data in (N, H, W, C)\n",
    "    weights = weights.transpose(0, 2, 3, 1)\n",
    "\n",
    "    # Normalize the weights for better visualization\n",
    "    min_val = np.min(weights)\n",
    "    max_val = np.max(weights)\n",
    "    weights = (weights - min_val) / (max_val - min_val)\n",
    "\n",
    "    # Number of kernels in the first layer\n",
    "    num_kernels = weights.shape[0]\n",
    "\n",
    "    # Set up the figure size depending on the number of kernels\n",
    "    fig, axs = plt.subplots(nrows=int(np.sqrt(num_kernels)), ncols=int(np.sqrt(num_kernels)), figsize=(10, 10))\n",
    "\n",
    "    # Flatten the array of axes, for easy looping\n",
    "    axs = axs.flatten()\n",
    "\n",
    "    # Plot each kernel\n",
    "    for i, ax in enumerate(axs):\n",
    "        # Only plot if there is a kernel to plot (important if num_kernels is not a perfect square)\n",
    "        if i < num_kernels:\n",
    "            # Display the kernel\n",
    "            ax.imshow(weights[i])  # Indexing: [kernel_index, color_channel]\n",
    "            ax.axis('off')\n",
    "\n",
    "    # Adjust spacing between subplots\n",
    "    plt.subplots_adjust(wspace=0.1, hspace=0.1)\n",
    "    plt.show()"
   ]
  },
  {
   "cell_type": "markdown",
   "metadata": {},
   "source": [
    "### Visualise weights of conv0 layer of CheXNet"
   ]
  },
  {
   "cell_type": "code",
   "execution_count": 17,
   "metadata": {},
   "outputs": [
    {
     "data": {
      "image/png": "[encoded data removed]",
      "text/plain": [
       "<Figure size 1000x1000 with 64 Axes>"
      ]
     },
     "metadata": {},
     "output_type": "display_data"
    }
   ],
   "source": [
    "# Assuming 'model' is your ConvNet and it has a first layer named 'conv1'\n",
    "weights = model.module.densenet121.features.conv0.weight.data.cpu().numpy()\n",
    "\n",
    "visualise_weights(weights)"
   ]
  },
  {
   "cell_type": "markdown",
   "metadata": {},
   "source": [
    "### Compare these visualisations with a DenseNet trained on Imagenet"
   ]
  }
 ],
 "metadata": {
  "kernelspec": {
   "display_name": "cs231-project",
   "language": "python",
   "name": "python3"
  },
  "language_info": {
   "codemirror_mode": {
    "name": "ipython",
    "version": 3
   },
   "file_extension": ".py",
   "mimetype": "text/x-python",
   "name": "python",
   "nbconvert_exporter": "python",
   "pygments_lexer": "ipython3",
   "version": "3.11.9"
  }
 },
 "nbformat": 4,
 "nbformat_minor": 2
}
