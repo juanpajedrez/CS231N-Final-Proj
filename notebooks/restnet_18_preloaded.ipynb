{
 "cells": [
  {
   "cell_type": "markdown",
   "metadata": {},
   "source": [
    "### Resnet18 Pre trained to test\n",
    "This jupyter notebook has the objective to retrieve a finetuned resnet18 with out CXR dataset, but to obtian also the layer features."
   ]
  },
  {
   "cell_type": "code",
   "execution_count": 24,
   "metadata": {},
   "outputs": [],
   "source": [
    " #Import necessary modules\n",
    "import os\n",
    "import matplotlib.pyplot as plt\n",
    "import torch\n",
    "import torch.nn as nn\n",
    "import torchvision.models as models\n",
    "from torch.utils.data import DataLoader\n",
    "from torch.utils.data import RandomSampler\n",
    "from torchvision import transforms\n",
    "plt.rcParams['figure.figsize'] = [20, 12]"
   ]
  },
  {
   "cell_type": "markdown",
   "metadata": {},
   "source": [
    "### Set the path to here\n",
    "\n",
    "Make sure the setup the paths properly!"
   ]
  },
  {
   "cell_type": "code",
   "execution_count": 25,
   "metadata": {},
   "outputs": [
    {
     "name": "stdout",
     "output_type": "stream",
     "text": [
      "c:\\Users\\juan.pablo\\Documents\\temporal_school_rel\\CS231N-Final-Proj\\notebooks\n"
     ]
    }
   ],
   "source": [
    "#Path to assign tests (copy path directly)\n",
    "notebooks_path = os.getcwd() # OR MAYBE has to be set manually depending your computer\n",
    "\n",
    "#Set the path to this working directory\n",
    "os.chdir(notebooks_path)\n",
    "print(os.getcwd())\n",
    "\n",
    "import sys\n",
    "#Append the path the src folder\n",
    "sys.path.append(os.path.join(os.getcwd(), os.pardir, \"src\"))"
   ]
  },
  {
   "cell_type": "markdown",
   "metadata": {},
   "source": [
    "### Import the necessary module for downloading\n",
    "\n",
    "Note for this: EVERYTIME There is a change inside the download <br>\n",
    "the changes inside the file would only be shown if the jupyter kernel is restarted. <br>\n"
   ]
  },
  {
   "cell_type": "code",
   "execution_count": 26,
   "metadata": {},
   "outputs": [],
   "source": [
    "# Import the necessary modules\n",
    "from utils import CXReader, DfReader"
   ]
  },
  {
   "cell_type": "markdown",
   "metadata": {},
   "source": [
    "### Set the data path"
   ]
  },
  {
   "cell_type": "code",
   "execution_count": 27,
   "metadata": {},
   "outputs": [],
   "source": [
    "# Create the data path\n",
    "df_path = os.path.join(notebooks_path, os.pardir, \"data\")\n",
    "data_path = os.path.join(df_path, \"images\")"
   ]
  },
  {
   "cell_type": "markdown",
   "metadata": {},
   "source": [
    "### Get the dataframes of the data\n",
    "First, lets obtain the dataframes for the data and check that all metadata <br>\n",
    "information has been set up properly. <br>"
   ]
  },
  {
   "cell_type": "code",
   "execution_count": 28,
   "metadata": {},
   "outputs": [
    {
     "name": "stderr",
     "output_type": "stream",
     "text": [
      "  0%|          | 0/4 [00:00<?, ?it/s]"
     ]
    },
    {
     "name": "stderr",
     "output_type": "stream",
     "text": [
      " 50%|█████     | 2/4 [00:00<00:00,  8.40it/s]"
     ]
    },
    {
     "name": "stdout",
     "output_type": "stream",
     "text": [
      "The file: miccai2023_nih-cxr-lt_labels_test.csv has been retrieved\n"
     ]
    },
    {
     "name": "stderr",
     "output_type": "stream",
     "text": [
      "100%|██████████| 4/4 [00:00<00:00,  5.89it/s]"
     ]
    },
    {
     "name": "stdout",
     "output_type": "stream",
     "text": [
      "The file: miccai2023_nih-cxr-lt_labels_train.csv has been retrieved\n",
      "The file: miccai2023_nih-cxr-lt_labels_val.csv has been retrieved\n"
     ]
    },
    {
     "name": "stderr",
     "output_type": "stream",
     "text": [
      "\n"
     ]
    }
   ],
   "source": [
    "#Create a dataframe compiler\n",
    "df_compiler = DfReader()\n",
    "\n",
    "#set the path and retrieve the dataframes\n",
    "df_compiler.set_folder_path(df_path)\n",
    "\n",
    "#Get the dataframe holder and names\n",
    "dfs_holder, dfs_names = df_compiler.get_dfs()"
   ]
  },
  {
   "cell_type": "markdown",
   "metadata": {},
   "source": [
    "# Read the images and labels\n",
    "\n",
    "Also, obtain DataLoaders for test, train, and validation datasets using <br>\n",
    "the Dataloader class from pytorch."
   ]
  },
  {
   "cell_type": "code",
   "execution_count": 29,
   "metadata": {},
   "outputs": [
    {
     "name": "stdout",
     "output_type": "stream",
     "text": [
      "False\n"
     ]
    }
   ],
   "source": [
    "print(torch.cuda.is_available())"
   ]
  },
  {
   "cell_type": "code",
   "execution_count": 30,
   "metadata": {},
   "outputs": [
    {
     "name": "stdout",
     "output_type": "stream",
     "text": [
      "Shape of a single image and its labels\n",
      "Image: torch.Size([3, 224, 224]), labels: torch.Size([20])\n",
      "batch number: 0\n",
      "Shape of batch of images and labels\n",
      "Images: torch.Size([32, 3, 224, 224]), labels: torch.Size([32, 20])\n",
      "batch number: 1\n",
      "Shape of batch of images and labels\n",
      "Images: torch.Size([32, 3, 224, 224]), labels: torch.Size([32, 20])\n",
      "batch number: 2\n",
      "Shape of batch of images and labels\n",
      "Images: torch.Size([32, 3, 224, 224]), labels: torch.Size([32, 20])\n",
      "batch number: 3\n",
      "Shape of batch of images and labels\n",
      "Images: torch.Size([32, 3, 224, 224]), labels: torch.Size([32, 20])\n",
      "batch number: 4\n",
      "Shape of batch of images and labels\n",
      "Images: torch.Size([32, 3, 224, 224]), labels: torch.Size([32, 20])\n",
      "batch number: 5\n",
      "Shape of batch of images and labels\n",
      "Images: torch.Size([32, 3, 224, 224]), labels: torch.Size([32, 20])\n",
      "It can iterate through all batches\n"
     ]
    }
   ],
   "source": [
    "# Get the device if cuda or not\n",
    "device = torch.device(\"cuda\" if torch.cuda.is_available() else \"cpu\")\n",
    "\n",
    "#Define a transformations for the VGGnet16 (requires a 224,224)\n",
    "transform = transforms.Compose([\n",
    "    transforms.Resize((224, 224)),  # Resize to 256x256\n",
    "    #transforms.CenterCrop((224, 224)),  # Center crop to 224x224\n",
    "    transforms.ToTensor(),\n",
    "    transforms.Normalize(mean = [0.485, 0.456, 0.406], std=[0.229, 0.224, 0.225])\n",
    "])\n",
    "\n",
    "#Create datasets and dataloaders\n",
    "test_dataset = CXReader(data_path=data_path, dataframe=dfs_holder[0], transform=transform, device=device)\n",
    "train_dataset = CXReader(data_path=data_path, dataframe=dfs_holder[1], transform=transform,device=device)\n",
    "val_dataset = CXReader(data_path=data_path, dataframe=dfs_holder[2], transform=transform, device=device)\n",
    "\n",
    "#Obtain the random sampler of the dataset\n",
    "test_sampler = RandomSampler(test_dataset)\n",
    "train_sampler = RandomSampler(train_dataset)\n",
    "val_sampler = RandomSampler(val_dataset)\n",
    "\n",
    "#Sampled images from train to see single shape\n",
    "samp3_image, label3 = train_dataset[1]\n",
    "print(\"Shape of a single image and its labels\")\n",
    "print(f\"Image: {samp3_image.shape}, labels: {label3.shape}\")\n",
    "\n",
    "#With batch size of 32, and shuffle true, and num workers = 4\n",
    "batch_size = 32\n",
    "\n",
    "train_loader = DataLoader(train_dataset, batch_size=batch_size, sampler=train_sampler)\n",
    "val_loader = DataLoader(val_dataset, batch_size=batch_size, sampler=val_sampler)\n",
    "test_loader = DataLoader(test_dataset, batch_size=batch_size, sampler=test_sampler)\n",
    "\n",
    "#Iterate inside a batch\n",
    "for idx, batch in enumerate(train_loader):\n",
    "    print(f\"batch number: {idx}\")\n",
    "    images, labels = batch\n",
    "    print(\"Shape of batch of images and labels\")\n",
    "    print(f\"Images: {images.shape}, labels: {labels.shape}\")\n",
    "    if idx == 5:\n",
    "        print(\"It can iterate through all batches\")\n",
    "        break"
   ]
  },
  {
   "cell_type": "markdown",
   "metadata": {},
   "source": [
    "### Load the restnet18 pretrained model\n",
    "\n",
    "Check if you have GPU Envidia! Else, use the cpu"
   ]
  },
  {
   "cell_type": "code",
   "execution_count": 31,
   "metadata": {},
   "outputs": [
    {
     "name": "stderr",
     "output_type": "stream",
     "text": [
      "c:\\Users\\juan.pablo\\Documents\\temporal_school_rel\\CS231N-Final-Proj\\venv\\Lib\\site-packages\\torchvision\\models\\_utils.py:208: UserWarning: The parameter 'pretrained' is deprecated since 0.13 and may be removed in the future, please use 'weights' instead.\n",
      "  warnings.warn(\n",
      "c:\\Users\\juan.pablo\\Documents\\temporal_school_rel\\CS231N-Final-Proj\\venv\\Lib\\site-packages\\torchvision\\models\\_utils.py:223: UserWarning: Arguments other than a weight enum or `None` for 'weights' are deprecated since 0.13 and may be removed in the future. The current behavior is equivalent to passing `weights=ResNet18_Weights.IMAGENET1K_V1`. You can also use `weights=ResNet18_Weights.DEFAULT` to get the most up-to-date weights.\n",
      "  warnings.warn(msg)\n"
     ]
    }
   ],
   "source": [
    "#Load the pretrained model\n",
    "resnet18 = models.resnet18(pretrained = True)"
   ]
  },
  {
   "cell_type": "markdown",
   "metadata": {},
   "source": [
    "### See the resnet18.conv1 to obtain the parameters"
   ]
  },
  {
   "cell_type": "code",
   "execution_count": 32,
   "metadata": {},
   "outputs": [
    {
     "name": "stdout",
     "output_type": "stream",
     "text": [
      "Conv2d(3, 64, kernel_size=(7, 7), stride=(2, 2), padding=(3, 3), bias=False)\n",
      "[torch.Size([64, 3, 7, 7])]\n"
     ]
    }
   ],
   "source": [
    "print(resnet18.conv1)\n",
    "print([x.shape for x in resnet18.conv1.parameters()])\n"
   ]
  },
  {
   "cell_type": "markdown",
   "metadata": {},
   "source": [
    "### See the resnet18.bn1 to obtain the parameters"
   ]
  },
  {
   "cell_type": "code",
   "execution_count": 33,
   "metadata": {},
   "outputs": [
    {
     "name": "stdout",
     "output_type": "stream",
     "text": [
      "BatchNorm2d(64, eps=1e-05, momentum=0.1, affine=True, track_running_stats=True)\n",
      "[torch.Size([64]), torch.Size([64])]\n"
     ]
    }
   ],
   "source": [
    "print(resnet18.bn1)\n",
    "print([x.shape for x in resnet18.bn1.parameters()])\n"
   ]
  },
  {
   "cell_type": "markdown",
   "metadata": {},
   "source": [
    "### See the resnet18.maxpool to obtain the parameters"
   ]
  },
  {
   "cell_type": "code",
   "execution_count": 34,
   "metadata": {},
   "outputs": [
    {
     "name": "stdout",
     "output_type": "stream",
     "text": [
      "MaxPool2d(kernel_size=3, stride=2, padding=1, dilation=1, ceil_mode=False)\n",
      "[]\n"
     ]
    }
   ],
   "source": [
    "print(resnet18.maxpool)\n",
    "print([x.shape for x in resnet18.maxpool.parameters()])"
   ]
  },
  {
   "cell_type": "markdown",
   "metadata": {},
   "source": [
    "### See the resnet18.layer1 to obtain the parameters"
   ]
  },
  {
   "cell_type": "code",
   "execution_count": 35,
   "metadata": {},
   "outputs": [
    {
     "name": "stdout",
     "output_type": "stream",
     "text": [
      "Sequential(\n",
      "  (0): BasicBlock(\n",
      "    (conv1): Conv2d(64, 64, kernel_size=(3, 3), stride=(1, 1), padding=(1, 1), bias=False)\n",
      "    (bn1): BatchNorm2d(64, eps=1e-05, momentum=0.1, affine=True, track_running_stats=True)\n",
      "    (relu): ReLU(inplace=True)\n",
      "    (conv2): Conv2d(64, 64, kernel_size=(3, 3), stride=(1, 1), padding=(1, 1), bias=False)\n",
      "    (bn2): BatchNorm2d(64, eps=1e-05, momentum=0.1, affine=True, track_running_stats=True)\n",
      "  )\n",
      "  (1): BasicBlock(\n",
      "    (conv1): Conv2d(64, 64, kernel_size=(3, 3), stride=(1, 1), padding=(1, 1), bias=False)\n",
      "    (bn1): BatchNorm2d(64, eps=1e-05, momentum=0.1, affine=True, track_running_stats=True)\n",
      "    (relu): ReLU(inplace=True)\n",
      "    (conv2): Conv2d(64, 64, kernel_size=(3, 3), stride=(1, 1), padding=(1, 1), bias=False)\n",
      "    (bn2): BatchNorm2d(64, eps=1e-05, momentum=0.1, affine=True, track_running_stats=True)\n",
      "  )\n",
      ")\n",
      "[torch.Size([64, 64, 3, 3]), torch.Size([64]), torch.Size([64]), torch.Size([64, 64, 3, 3]), torch.Size([64]), torch.Size([64]), torch.Size([64, 64, 3, 3]), torch.Size([64]), torch.Size([64]), torch.Size([64, 64, 3, 3]), torch.Size([64]), torch.Size([64])]\n"
     ]
    }
   ],
   "source": [
    "print(resnet18.layer1)\n",
    "print([x.shape for x in resnet18.layer1.parameters()])"
   ]
  },
  {
   "cell_type": "markdown",
   "metadata": {},
   "source": [
    "### See the resnet18.layer2 to obtain the parameters"
   ]
  },
  {
   "cell_type": "code",
   "execution_count": 36,
   "metadata": {},
   "outputs": [
    {
     "name": "stdout",
     "output_type": "stream",
     "text": [
      "Sequential(\n",
      "  (0): BasicBlock(\n",
      "    (conv1): Conv2d(64, 128, kernel_size=(3, 3), stride=(2, 2), padding=(1, 1), bias=False)\n",
      "    (bn1): BatchNorm2d(128, eps=1e-05, momentum=0.1, affine=True, track_running_stats=True)\n",
      "    (relu): ReLU(inplace=True)\n",
      "    (conv2): Conv2d(128, 128, kernel_size=(3, 3), stride=(1, 1), padding=(1, 1), bias=False)\n",
      "    (bn2): BatchNorm2d(128, eps=1e-05, momentum=0.1, affine=True, track_running_stats=True)\n",
      "    (downsample): Sequential(\n",
      "      (0): Conv2d(64, 128, kernel_size=(1, 1), stride=(2, 2), bias=False)\n",
      "      (1): BatchNorm2d(128, eps=1e-05, momentum=0.1, affine=True, track_running_stats=True)\n",
      "    )\n",
      "  )\n",
      "  (1): BasicBlock(\n",
      "    (conv1): Conv2d(128, 128, kernel_size=(3, 3), stride=(1, 1), padding=(1, 1), bias=False)\n",
      "    (bn1): BatchNorm2d(128, eps=1e-05, momentum=0.1, affine=True, track_running_stats=True)\n",
      "    (relu): ReLU(inplace=True)\n",
      "    (conv2): Conv2d(128, 128, kernel_size=(3, 3), stride=(1, 1), padding=(1, 1), bias=False)\n",
      "    (bn2): BatchNorm2d(128, eps=1e-05, momentum=0.1, affine=True, track_running_stats=True)\n",
      "  )\n",
      ")\n",
      "[torch.Size([128, 64, 3, 3]), torch.Size([128]), torch.Size([128]), torch.Size([128, 128, 3, 3]), torch.Size([128]), torch.Size([128]), torch.Size([128, 64, 1, 1]), torch.Size([128]), torch.Size([128]), torch.Size([128, 128, 3, 3]), torch.Size([128]), torch.Size([128]), torch.Size([128, 128, 3, 3]), torch.Size([128]), torch.Size([128])]\n"
     ]
    }
   ],
   "source": [
    "print(resnet18.layer2)\n",
    "print([x.shape for x in resnet18.layer2.parameters()])"
   ]
  },
  {
   "cell_type": "markdown",
   "metadata": {},
   "source": [
    "### See the resnet18.layer3 to obtain the parameters"
   ]
  },
  {
   "cell_type": "code",
   "execution_count": 37,
   "metadata": {},
   "outputs": [
    {
     "name": "stdout",
     "output_type": "stream",
     "text": [
      "Sequential(\n",
      "  (0): BasicBlock(\n",
      "    (conv1): Conv2d(128, 256, kernel_size=(3, 3), stride=(2, 2), padding=(1, 1), bias=False)\n",
      "    (bn1): BatchNorm2d(256, eps=1e-05, momentum=0.1, affine=True, track_running_stats=True)\n",
      "    (relu): ReLU(inplace=True)\n",
      "    (conv2): Conv2d(256, 256, kernel_size=(3, 3), stride=(1, 1), padding=(1, 1), bias=False)\n",
      "    (bn2): BatchNorm2d(256, eps=1e-05, momentum=0.1, affine=True, track_running_stats=True)\n",
      "    (downsample): Sequential(\n",
      "      (0): Conv2d(128, 256, kernel_size=(1, 1), stride=(2, 2), bias=False)\n",
      "      (1): BatchNorm2d(256, eps=1e-05, momentum=0.1, affine=True, track_running_stats=True)\n",
      "    )\n",
      "  )\n",
      "  (1): BasicBlock(\n",
      "    (conv1): Conv2d(256, 256, kernel_size=(3, 3), stride=(1, 1), padding=(1, 1), bias=False)\n",
      "    (bn1): BatchNorm2d(256, eps=1e-05, momentum=0.1, affine=True, track_running_stats=True)\n",
      "    (relu): ReLU(inplace=True)\n",
      "    (conv2): Conv2d(256, 256, kernel_size=(3, 3), stride=(1, 1), padding=(1, 1), bias=False)\n",
      "    (bn2): BatchNorm2d(256, eps=1e-05, momentum=0.1, affine=True, track_running_stats=True)\n",
      "  )\n",
      ")\n",
      "[torch.Size([256, 128, 3, 3]), torch.Size([256]), torch.Size([256]), torch.Size([256, 256, 3, 3]), torch.Size([256]), torch.Size([256]), torch.Size([256, 128, 1, 1]), torch.Size([256]), torch.Size([256]), torch.Size([256, 256, 3, 3]), torch.Size([256]), torch.Size([256]), torch.Size([256, 256, 3, 3]), torch.Size([256]), torch.Size([256])]\n"
     ]
    }
   ],
   "source": [
    "print(resnet18.layer3)\n",
    "print([x.shape for x in resnet18.layer3.parameters()])"
   ]
  },
  {
   "cell_type": "markdown",
   "metadata": {},
   "source": [
    "### See the resnet18.layer4 to obtain the parameters"
   ]
  },
  {
   "cell_type": "code",
   "execution_count": 38,
   "metadata": {},
   "outputs": [
    {
     "name": "stdout",
     "output_type": "stream",
     "text": [
      "Sequential(\n",
      "  (0): BasicBlock(\n",
      "    (conv1): Conv2d(256, 512, kernel_size=(3, 3), stride=(2, 2), padding=(1, 1), bias=False)\n",
      "    (bn1): BatchNorm2d(512, eps=1e-05, momentum=0.1, affine=True, track_running_stats=True)\n",
      "    (relu): ReLU(inplace=True)\n",
      "    (conv2): Conv2d(512, 512, kernel_size=(3, 3), stride=(1, 1), padding=(1, 1), bias=False)\n",
      "    (bn2): BatchNorm2d(512, eps=1e-05, momentum=0.1, affine=True, track_running_stats=True)\n",
      "    (downsample): Sequential(\n",
      "      (0): Conv2d(256, 512, kernel_size=(1, 1), stride=(2, 2), bias=False)\n",
      "      (1): BatchNorm2d(512, eps=1e-05, momentum=0.1, affine=True, track_running_stats=True)\n",
      "    )\n",
      "  )\n",
      "  (1): BasicBlock(\n",
      "    (conv1): Conv2d(512, 512, kernel_size=(3, 3), stride=(1, 1), padding=(1, 1), bias=False)\n",
      "    (bn1): BatchNorm2d(512, eps=1e-05, momentum=0.1, affine=True, track_running_stats=True)\n",
      "    (relu): ReLU(inplace=True)\n",
      "    (conv2): Conv2d(512, 512, kernel_size=(3, 3), stride=(1, 1), padding=(1, 1), bias=False)\n",
      "    (bn2): BatchNorm2d(512, eps=1e-05, momentum=0.1, affine=True, track_running_stats=True)\n",
      "  )\n",
      ")\n",
      "[torch.Size([512, 256, 3, 3]), torch.Size([512]), torch.Size([512]), torch.Size([512, 512, 3, 3]), torch.Size([512]), torch.Size([512]), torch.Size([512, 256, 1, 1]), torch.Size([512]), torch.Size([512]), torch.Size([512, 512, 3, 3]), torch.Size([512]), torch.Size([512]), torch.Size([512, 512, 3, 3]), torch.Size([512]), torch.Size([512])]\n"
     ]
    }
   ],
   "source": [
    "print(resnet18.layer4)\n",
    "print([x.shape for x in resnet18.layer4.parameters()])"
   ]
  },
  {
   "cell_type": "markdown",
   "metadata": {},
   "source": [
    "### See the resnet18.avgpool to obtain the parameters"
   ]
  },
  {
   "cell_type": "code",
   "execution_count": 39,
   "metadata": {},
   "outputs": [
    {
     "name": "stdout",
     "output_type": "stream",
     "text": [
      "AdaptiveAvgPool2d(output_size=(1, 1))\n",
      "[]\n"
     ]
    }
   ],
   "source": [
    "print(resnet18.avgpool)\n",
    "print([x.shape for x in resnet18.avgpool.parameters()])"
   ]
  },
  {
   "cell_type": "markdown",
   "metadata": {},
   "source": [
    "### See the resnet18.fc to obtain the parameters"
   ]
  },
  {
   "cell_type": "code",
   "execution_count": 40,
   "metadata": {},
   "outputs": [
    {
     "name": "stdout",
     "output_type": "stream",
     "text": [
      "Linear(in_features=512, out_features=1000, bias=True)\n",
      "[torch.Size([1000, 512]), torch.Size([1000])]\n"
     ]
    }
   ],
   "source": [
    "print(resnet18.fc)\n",
    "print([x.shape for x in resnet18.fc.parameters()])"
   ]
  },
  {
   "cell_type": "code",
   "execution_count": 41,
   "metadata": {},
   "outputs": [],
   "source": [
    "# NEW CODE CELL to conduct fine-tuning on Vggnet16 only on the last (Linear) layer\n",
    "\n",
    "# First, freeze all the parameters\n",
    "for param in resnet18.parameters():\n",
    "    param.requires_grad = False"
   ]
  },
  {
   "cell_type": "code",
   "execution_count": 42,
   "metadata": {},
   "outputs": [
    {
     "name": "stdout",
     "output_type": "stream",
     "text": [
      "20\n",
      "512\n"
     ]
    }
   ],
   "source": [
    "from copy import copy\n",
    "\n",
    "# Modify the last layer for the last 20 classes\n",
    "num_classes = 20  # Number of classes for your specific task\n",
    "num_features = copy(resnet18.fc.in_features) #Get all of the features after convolutional layers\n",
    "\n",
    "print(num_classes)\n",
    "print(num_features)"
   ]
  },
  {
   "cell_type": "code",
   "execution_count": 43,
   "metadata": {},
   "outputs": [
    {
     "name": "stdout",
     "output_type": "stream",
     "text": [
      "512\n",
      "Sequential(\n",
      "  (0): Linear(in_features=512, out_features=20, bias=True)\n",
      "  (1): ReLU(inplace=True)\n",
      ")\n"
     ]
    }
   ],
   "source": [
    "print(num_features)\n",
    "#print(resnet18.layer4[-1].conv2)\n",
    "\n",
    "#Obtain the same classifier you got befor with lower number of classes, so we can pretrain it\n",
    "resnet18.fc = nn.Sequential(\n",
    "    nn.Linear(num_features, num_classes, bias=True),\n",
    "    nn.ReLU(inplace= True),\n",
    ")\n",
    "\n",
    "print(resnet18.fc)"
   ]
  },
  {
   "cell_type": "code",
   "execution_count": 44,
   "metadata": {},
   "outputs": [],
   "source": [
    "# NEW CODE CELL\n",
    "\n",
    "# Create state_dict path\n",
    "model_dict_path = os.path.join(notebooks_path, os.pardir, \"models\")\n",
    "\n",
    "if os.path.exists(model_dict_path) == False:\n",
    "    os.mkdir(model_dict_path)"
   ]
  },
  {
   "cell_type": "code",
   "execution_count": 45,
   "metadata": {},
   "outputs": [
    {
     "name": "stdout",
     "output_type": "stream",
     "text": [
      "[<generator object Module.parameters at 0x000002018E22E500>]\n"
     ]
    }
   ],
   "source": [
    "# NEW CODE CELL to perform fine-tuning\n",
    "#print([x.shape for x in resnet18.classifier[-6].parameters()])\n",
    "\n",
    "#Set the learning rate to be 1e-3 default\n",
    "lr_set = 1e-3\n",
    "\n",
    "import torch.optim as optim\n",
    "resnet18 = resnet18.to(device)\n",
    "resnet18.train()\n",
    "params_to_update = [resnet18.fc.parameters()]\n",
    "print(params_to_update)\n",
    "criterion = nn.BCEWithLogitsLoss()\n",
    "optimizer = optim.SGD(*params_to_update, lr=lr_set)\n",
    "\n",
    "def finetune_model(model, data_loader, num_epochs, device:str):\n",
    "    for epoch in range(num_epochs):\n",
    "        print('Epoch {}/{}'.format(epoch + 1, num_epochs))\n",
    "        print('-------------')\n",
    "            \n",
    "        for idx, batch in enumerate(data_loader):\n",
    "            images_inputs, images_labels = batch\n",
    "            images_inputs, images_labels = images_inputs.to(device), images_labels.to(device)\n",
    "\n",
    "            # Convert labels to float type (also need to move to CUDA again!)\n",
    "            images_labels = images_labels.to(torch.float64)\n",
    "\n",
    "            # initialize optimizer\n",
    "            optimizer.zero_grad()            \n",
    "            outputs = model(images_inputs)\n",
    "            \n",
    "            # compute loss\n",
    "            loss = criterion(outputs, images_labels)\n",
    "            \n",
    "            # predict labels\n",
    "            pred_labels = (outputs > 0.5).float()\n",
    "\n",
    "            # Calculate TP, FP, TN, FN and accuracy\n",
    "            TP = torch.sum((pred_labels == 1) & (images_labels == 1)).item()\n",
    "            FP = torch.sum((pred_labels == 1) & (images_labels == 0)).item()\n",
    "            TN = torch.sum((pred_labels == 0) & (images_labels == 0)).item()\n",
    "            FN = torch.sum((pred_labels == 0) & (images_labels == 1)).item()\n",
    "            accuracy = ((TP + TN) / (TP + FP + TN + FN)) * 100.0                \n",
    "\n",
    "            loss.backward()\n",
    "            print(f\"iter {idx} ---  Loss: {loss}    Accuracy: {accuracy}\")\n",
    "            optimizer.step()\n",
    "        \n",
    "        # Save parameters for each epoch\n",
    "        torch.save(model.state_dict(), os.path.join(model_dict_path, \"resnet18_finetune_params.pth\"))"
   ]
  },
  {
   "cell_type": "code",
   "execution_count": 46,
   "metadata": {},
   "outputs": [
    {
     "name": "stdout",
     "output_type": "stream",
     "text": [
      "Epoch 1/5\n",
      "-------------\n"
     ]
    },
    {
     "name": "stdout",
     "output_type": "stream",
     "text": [
      "iter 0 ---  Loss: 0.825139028270496    Accuracy: 74.6875\n",
      "iter 1 ---  Loss: 0.8241302528767847    Accuracy: 75.15625\n",
      "iter 2 ---  Loss: 0.8207713701602188    Accuracy: 76.71875\n",
      "iter 3 ---  Loss: 0.8207919752596353    Accuracy: 75.3125\n",
      "iter 4 ---  Loss: 0.8210404372424819    Accuracy: 77.03125\n",
      "iter 5 ---  Loss: 0.8148032145109028    Accuracy: 75.9375\n",
      "iter 6 ---  Loss: 0.814695523766568    Accuracy: 78.28125\n",
      "iter 7 ---  Loss: 0.8003586897801143    Accuracy: 80.46875\n",
      "iter 8 ---  Loss: 0.8065623251080979    Accuracy: 78.4375\n",
      "iter 9 ---  Loss: 0.7980972790392116    Accuracy: 80.625\n",
      "iter 10 ---  Loss: 0.8023261471709702    Accuracy: 78.4375\n",
      "iter 11 ---  Loss: 0.7957575725929928    Accuracy: 79.53125\n",
      "iter 12 ---  Loss: 0.7954431356105488    Accuracy: 79.0625\n",
      "iter 13 ---  Loss: 0.7953872709244024    Accuracy: 78.59375\n",
      "iter 14 ---  Loss: 0.797863520043029    Accuracy: 80.78125\n",
      "iter 15 ---  Loss: 0.7895753937831614    Accuracy: 79.53125\n",
      "iter 16 ---  Loss: 0.7816594496194739    Accuracy: 82.65625\n",
      "iter 17 ---  Loss: 0.7923952912766253    Accuracy: 80.0\n",
      "iter 18 ---  Loss: 0.7919635159429163    Accuracy: 79.21875\n",
      "iter 19 ---  Loss: 0.7756471496599261    Accuracy: 84.53125\n",
      "iter 20 ---  Loss: 0.7738053851266159    Accuracy: 83.125\n",
      "iter 21 ---  Loss: 0.7812265121407108    Accuracy: 81.71875\n",
      "iter 22 ---  Loss: 0.7791311113483971    Accuracy: 82.8125\n",
      "iter 23 ---  Loss: 0.7772098722634837    Accuracy: 80.9375\n",
      "iter 24 ---  Loss: 0.7693850726209348    Accuracy: 85.0\n",
      "iter 25 ---  Loss: 0.7698657766362885    Accuracy: 83.90625\n",
      "iter 26 ---  Loss: 0.7612465135724051    Accuracy: 86.09375\n",
      "iter 27 ---  Loss: 0.7652011549973394    Accuracy: 85.0\n",
      "iter 28 ---  Loss: 0.7619737099215854    Accuracy: 85.3125\n",
      "iter 29 ---  Loss: 0.7693387317180168    Accuracy: 83.59375\n",
      "iter 30 ---  Loss: 0.7648769031715347    Accuracy: 85.3125\n",
      "iter 31 ---  Loss: 0.7622316792287165    Accuracy: 83.59375\n",
      "iter 32 ---  Loss: 0.7587864225468366    Accuracy: 86.25\n",
      "iter 33 ---  Loss: 0.7593819553294452    Accuracy: 85.3125\n",
      "iter 34 ---  Loss: 0.7541196083038813    Accuracy: 87.1875\n",
      "iter 35 ---  Loss: 0.7551669987675268    Accuracy: 85.78125\n",
      "iter 36 ---  Loss: 0.74806247856759    Accuracy: 86.40625\n",
      "iter 37 ---  Loss: 0.7518675037077628    Accuracy: 85.78125\n",
      "iter 38 ---  Loss: 0.7498657881020335    Accuracy: 86.875\n",
      "iter 39 ---  Loss: 0.7492693727384904    Accuracy: 87.96875\n",
      "iter 40 ---  Loss: 0.7545060529169859    Accuracy: 84.53125\n",
      "iter 41 ---  Loss: 0.7489649059119984    Accuracy: 88.4375\n",
      "iter 42 ---  Loss: 0.7464574269411969    Accuracy: 88.75\n",
      "iter 43 ---  Loss: 0.7393606639030622    Accuracy: 89.6875\n"
     ]
    },
    {
     "ename": "KeyboardInterrupt",
     "evalue": "",
     "output_type": "error",
     "traceback": [
      "\u001b[1;31m---------------------------------------------------------------------------\u001b[0m",
      "\u001b[1;31mKeyboardInterrupt\u001b[0m                         Traceback (most recent call last)",
      "Cell \u001b[1;32mIn[46], line 2\u001b[0m\n\u001b[0;32m      1\u001b[0m \u001b[38;5;66;03m# Let's do fine-tuning\u001b[39;00m\n\u001b[1;32m----> 2\u001b[0m \u001b[43mfinetune_model\u001b[49m\u001b[43m(\u001b[49m\u001b[43mmodel\u001b[49m\u001b[38;5;241;43m=\u001b[39;49m\u001b[43mresnet18\u001b[49m\u001b[43m,\u001b[49m\u001b[43m \u001b[49m\u001b[43mdata_loader\u001b[49m\u001b[38;5;241;43m=\u001b[39;49m\u001b[43mtrain_loader\u001b[49m\u001b[43m,\u001b[49m\u001b[43m \u001b[49m\u001b[43mnum_epochs\u001b[49m\u001b[38;5;241;43m=\u001b[39;49m\u001b[38;5;241;43m5\u001b[39;49m\u001b[43m,\u001b[49m\u001b[43m \u001b[49m\u001b[43mdevice\u001b[49m\u001b[38;5;241;43m=\u001b[39;49m\u001b[43mdevice\u001b[49m\u001b[43m)\u001b[49m\n",
      "Cell \u001b[1;32mIn[45], line 29\u001b[0m, in \u001b[0;36mfinetune_model\u001b[1;34m(model, data_loader, num_epochs, device)\u001b[0m\n\u001b[0;32m     27\u001b[0m \u001b[38;5;66;03m# initialize optimizer\u001b[39;00m\n\u001b[0;32m     28\u001b[0m optimizer\u001b[38;5;241m.\u001b[39mzero_grad()            \n\u001b[1;32m---> 29\u001b[0m outputs \u001b[38;5;241m=\u001b[39m \u001b[43mmodel\u001b[49m\u001b[43m(\u001b[49m\u001b[43mimages_inputs\u001b[49m\u001b[43m)\u001b[49m\n\u001b[0;32m     31\u001b[0m \u001b[38;5;66;03m# compute loss\u001b[39;00m\n\u001b[0;32m     32\u001b[0m loss \u001b[38;5;241m=\u001b[39m criterion(outputs, images_labels)\n",
      "File \u001b[1;32mc:\\Users\\juan.pablo\\Documents\\temporal_school_rel\\CS231N-Final-Proj\\venv\\Lib\\site-packages\\torch\\nn\\modules\\module.py:1532\u001b[0m, in \u001b[0;36mModule._wrapped_call_impl\u001b[1;34m(self, *args, **kwargs)\u001b[0m\n\u001b[0;32m   1530\u001b[0m     \u001b[38;5;28;01mreturn\u001b[39;00m \u001b[38;5;28mself\u001b[39m\u001b[38;5;241m.\u001b[39m_compiled_call_impl(\u001b[38;5;241m*\u001b[39margs, \u001b[38;5;241m*\u001b[39m\u001b[38;5;241m*\u001b[39mkwargs)  \u001b[38;5;66;03m# type: ignore[misc]\u001b[39;00m\n\u001b[0;32m   1531\u001b[0m \u001b[38;5;28;01melse\u001b[39;00m:\n\u001b[1;32m-> 1532\u001b[0m     \u001b[38;5;28;01mreturn\u001b[39;00m \u001b[38;5;28;43mself\u001b[39;49m\u001b[38;5;241;43m.\u001b[39;49m\u001b[43m_call_impl\u001b[49m\u001b[43m(\u001b[49m\u001b[38;5;241;43m*\u001b[39;49m\u001b[43margs\u001b[49m\u001b[43m,\u001b[49m\u001b[43m \u001b[49m\u001b[38;5;241;43m*\u001b[39;49m\u001b[38;5;241;43m*\u001b[39;49m\u001b[43mkwargs\u001b[49m\u001b[43m)\u001b[49m\n",
      "File \u001b[1;32mc:\\Users\\juan.pablo\\Documents\\temporal_school_rel\\CS231N-Final-Proj\\venv\\Lib\\site-packages\\torch\\nn\\modules\\module.py:1541\u001b[0m, in \u001b[0;36mModule._call_impl\u001b[1;34m(self, *args, **kwargs)\u001b[0m\n\u001b[0;32m   1536\u001b[0m \u001b[38;5;66;03m# If we don't have any hooks, we want to skip the rest of the logic in\u001b[39;00m\n\u001b[0;32m   1537\u001b[0m \u001b[38;5;66;03m# this function, and just call forward.\u001b[39;00m\n\u001b[0;32m   1538\u001b[0m \u001b[38;5;28;01mif\u001b[39;00m \u001b[38;5;129;01mnot\u001b[39;00m (\u001b[38;5;28mself\u001b[39m\u001b[38;5;241m.\u001b[39m_backward_hooks \u001b[38;5;129;01mor\u001b[39;00m \u001b[38;5;28mself\u001b[39m\u001b[38;5;241m.\u001b[39m_backward_pre_hooks \u001b[38;5;129;01mor\u001b[39;00m \u001b[38;5;28mself\u001b[39m\u001b[38;5;241m.\u001b[39m_forward_hooks \u001b[38;5;129;01mor\u001b[39;00m \u001b[38;5;28mself\u001b[39m\u001b[38;5;241m.\u001b[39m_forward_pre_hooks\n\u001b[0;32m   1539\u001b[0m         \u001b[38;5;129;01mor\u001b[39;00m _global_backward_pre_hooks \u001b[38;5;129;01mor\u001b[39;00m _global_backward_hooks\n\u001b[0;32m   1540\u001b[0m         \u001b[38;5;129;01mor\u001b[39;00m _global_forward_hooks \u001b[38;5;129;01mor\u001b[39;00m _global_forward_pre_hooks):\n\u001b[1;32m-> 1541\u001b[0m     \u001b[38;5;28;01mreturn\u001b[39;00m \u001b[43mforward_call\u001b[49m\u001b[43m(\u001b[49m\u001b[38;5;241;43m*\u001b[39;49m\u001b[43margs\u001b[49m\u001b[43m,\u001b[49m\u001b[43m \u001b[49m\u001b[38;5;241;43m*\u001b[39;49m\u001b[38;5;241;43m*\u001b[39;49m\u001b[43mkwargs\u001b[49m\u001b[43m)\u001b[49m\n\u001b[0;32m   1543\u001b[0m \u001b[38;5;28;01mtry\u001b[39;00m:\n\u001b[0;32m   1544\u001b[0m     result \u001b[38;5;241m=\u001b[39m \u001b[38;5;28;01mNone\u001b[39;00m\n",
      "File \u001b[1;32mc:\\Users\\juan.pablo\\Documents\\temporal_school_rel\\CS231N-Final-Proj\\venv\\Lib\\site-packages\\torchvision\\models\\resnet.py:285\u001b[0m, in \u001b[0;36mResNet.forward\u001b[1;34m(self, x)\u001b[0m\n\u001b[0;32m    284\u001b[0m \u001b[38;5;28;01mdef\u001b[39;00m \u001b[38;5;21mforward\u001b[39m(\u001b[38;5;28mself\u001b[39m, x: Tensor) \u001b[38;5;241m-\u001b[39m\u001b[38;5;241m>\u001b[39m Tensor:\n\u001b[1;32m--> 285\u001b[0m     \u001b[38;5;28;01mreturn\u001b[39;00m \u001b[38;5;28;43mself\u001b[39;49m\u001b[38;5;241;43m.\u001b[39;49m\u001b[43m_forward_impl\u001b[49m\u001b[43m(\u001b[49m\u001b[43mx\u001b[49m\u001b[43m)\u001b[49m\n",
      "File \u001b[1;32mc:\\Users\\juan.pablo\\Documents\\temporal_school_rel\\CS231N-Final-Proj\\venv\\Lib\\site-packages\\torchvision\\models\\resnet.py:271\u001b[0m, in \u001b[0;36mResNet._forward_impl\u001b[1;34m(self, x)\u001b[0m\n\u001b[0;32m    269\u001b[0m x \u001b[38;5;241m=\u001b[39m \u001b[38;5;28mself\u001b[39m\u001b[38;5;241m.\u001b[39mbn1(x)\n\u001b[0;32m    270\u001b[0m x \u001b[38;5;241m=\u001b[39m \u001b[38;5;28mself\u001b[39m\u001b[38;5;241m.\u001b[39mrelu(x)\n\u001b[1;32m--> 271\u001b[0m x \u001b[38;5;241m=\u001b[39m \u001b[38;5;28;43mself\u001b[39;49m\u001b[38;5;241;43m.\u001b[39;49m\u001b[43mmaxpool\u001b[49m\u001b[43m(\u001b[49m\u001b[43mx\u001b[49m\u001b[43m)\u001b[49m\n\u001b[0;32m    273\u001b[0m x \u001b[38;5;241m=\u001b[39m \u001b[38;5;28mself\u001b[39m\u001b[38;5;241m.\u001b[39mlayer1(x)\n\u001b[0;32m    274\u001b[0m x \u001b[38;5;241m=\u001b[39m \u001b[38;5;28mself\u001b[39m\u001b[38;5;241m.\u001b[39mlayer2(x)\n",
      "File \u001b[1;32mc:\\Users\\juan.pablo\\Documents\\temporal_school_rel\\CS231N-Final-Proj\\venv\\Lib\\site-packages\\torch\\nn\\modules\\module.py:1532\u001b[0m, in \u001b[0;36mModule._wrapped_call_impl\u001b[1;34m(self, *args, **kwargs)\u001b[0m\n\u001b[0;32m   1530\u001b[0m     \u001b[38;5;28;01mreturn\u001b[39;00m \u001b[38;5;28mself\u001b[39m\u001b[38;5;241m.\u001b[39m_compiled_call_impl(\u001b[38;5;241m*\u001b[39margs, \u001b[38;5;241m*\u001b[39m\u001b[38;5;241m*\u001b[39mkwargs)  \u001b[38;5;66;03m# type: ignore[misc]\u001b[39;00m\n\u001b[0;32m   1531\u001b[0m \u001b[38;5;28;01melse\u001b[39;00m:\n\u001b[1;32m-> 1532\u001b[0m     \u001b[38;5;28;01mreturn\u001b[39;00m \u001b[38;5;28;43mself\u001b[39;49m\u001b[38;5;241;43m.\u001b[39;49m\u001b[43m_call_impl\u001b[49m\u001b[43m(\u001b[49m\u001b[38;5;241;43m*\u001b[39;49m\u001b[43margs\u001b[49m\u001b[43m,\u001b[49m\u001b[43m \u001b[49m\u001b[38;5;241;43m*\u001b[39;49m\u001b[38;5;241;43m*\u001b[39;49m\u001b[43mkwargs\u001b[49m\u001b[43m)\u001b[49m\n",
      "File \u001b[1;32mc:\\Users\\juan.pablo\\Documents\\temporal_school_rel\\CS231N-Final-Proj\\venv\\Lib\\site-packages\\torch\\nn\\modules\\module.py:1541\u001b[0m, in \u001b[0;36mModule._call_impl\u001b[1;34m(self, *args, **kwargs)\u001b[0m\n\u001b[0;32m   1536\u001b[0m \u001b[38;5;66;03m# If we don't have any hooks, we want to skip the rest of the logic in\u001b[39;00m\n\u001b[0;32m   1537\u001b[0m \u001b[38;5;66;03m# this function, and just call forward.\u001b[39;00m\n\u001b[0;32m   1538\u001b[0m \u001b[38;5;28;01mif\u001b[39;00m \u001b[38;5;129;01mnot\u001b[39;00m (\u001b[38;5;28mself\u001b[39m\u001b[38;5;241m.\u001b[39m_backward_hooks \u001b[38;5;129;01mor\u001b[39;00m \u001b[38;5;28mself\u001b[39m\u001b[38;5;241m.\u001b[39m_backward_pre_hooks \u001b[38;5;129;01mor\u001b[39;00m \u001b[38;5;28mself\u001b[39m\u001b[38;5;241m.\u001b[39m_forward_hooks \u001b[38;5;129;01mor\u001b[39;00m \u001b[38;5;28mself\u001b[39m\u001b[38;5;241m.\u001b[39m_forward_pre_hooks\n\u001b[0;32m   1539\u001b[0m         \u001b[38;5;129;01mor\u001b[39;00m _global_backward_pre_hooks \u001b[38;5;129;01mor\u001b[39;00m _global_backward_hooks\n\u001b[0;32m   1540\u001b[0m         \u001b[38;5;129;01mor\u001b[39;00m _global_forward_hooks \u001b[38;5;129;01mor\u001b[39;00m _global_forward_pre_hooks):\n\u001b[1;32m-> 1541\u001b[0m     \u001b[38;5;28;01mreturn\u001b[39;00m \u001b[43mforward_call\u001b[49m\u001b[43m(\u001b[49m\u001b[38;5;241;43m*\u001b[39;49m\u001b[43margs\u001b[49m\u001b[43m,\u001b[49m\u001b[43m \u001b[49m\u001b[38;5;241;43m*\u001b[39;49m\u001b[38;5;241;43m*\u001b[39;49m\u001b[43mkwargs\u001b[49m\u001b[43m)\u001b[49m\n\u001b[0;32m   1543\u001b[0m \u001b[38;5;28;01mtry\u001b[39;00m:\n\u001b[0;32m   1544\u001b[0m     result \u001b[38;5;241m=\u001b[39m \u001b[38;5;28;01mNone\u001b[39;00m\n",
      "File \u001b[1;32mc:\\Users\\juan.pablo\\Documents\\temporal_school_rel\\CS231N-Final-Proj\\venv\\Lib\\site-packages\\torch\\nn\\modules\\pooling.py:164\u001b[0m, in \u001b[0;36mMaxPool2d.forward\u001b[1;34m(self, input)\u001b[0m\n\u001b[0;32m    163\u001b[0m \u001b[38;5;28;01mdef\u001b[39;00m \u001b[38;5;21mforward\u001b[39m(\u001b[38;5;28mself\u001b[39m, \u001b[38;5;28minput\u001b[39m: Tensor):\n\u001b[1;32m--> 164\u001b[0m     \u001b[38;5;28;01mreturn\u001b[39;00m \u001b[43mF\u001b[49m\u001b[38;5;241;43m.\u001b[39;49m\u001b[43mmax_pool2d\u001b[49m\u001b[43m(\u001b[49m\u001b[38;5;28;43minput\u001b[39;49m\u001b[43m,\u001b[49m\u001b[43m \u001b[49m\u001b[38;5;28;43mself\u001b[39;49m\u001b[38;5;241;43m.\u001b[39;49m\u001b[43mkernel_size\u001b[49m\u001b[43m,\u001b[49m\u001b[43m \u001b[49m\u001b[38;5;28;43mself\u001b[39;49m\u001b[38;5;241;43m.\u001b[39;49m\u001b[43mstride\u001b[49m\u001b[43m,\u001b[49m\n\u001b[0;32m    165\u001b[0m \u001b[43m                        \u001b[49m\u001b[38;5;28;43mself\u001b[39;49m\u001b[38;5;241;43m.\u001b[39;49m\u001b[43mpadding\u001b[49m\u001b[43m,\u001b[49m\u001b[43m \u001b[49m\u001b[38;5;28;43mself\u001b[39;49m\u001b[38;5;241;43m.\u001b[39;49m\u001b[43mdilation\u001b[49m\u001b[43m,\u001b[49m\u001b[43m \u001b[49m\u001b[43mceil_mode\u001b[49m\u001b[38;5;241;43m=\u001b[39;49m\u001b[38;5;28;43mself\u001b[39;49m\u001b[38;5;241;43m.\u001b[39;49m\u001b[43mceil_mode\u001b[49m\u001b[43m,\u001b[49m\n\u001b[0;32m    166\u001b[0m \u001b[43m                        \u001b[49m\u001b[43mreturn_indices\u001b[49m\u001b[38;5;241;43m=\u001b[39;49m\u001b[38;5;28;43mself\u001b[39;49m\u001b[38;5;241;43m.\u001b[39;49m\u001b[43mreturn_indices\u001b[49m\u001b[43m)\u001b[49m\n",
      "File \u001b[1;32mc:\\Users\\juan.pablo\\Documents\\temporal_school_rel\\CS231N-Final-Proj\\venv\\Lib\\site-packages\\torch\\_jit_internal.py:497\u001b[0m, in \u001b[0;36mboolean_dispatch.<locals>.fn\u001b[1;34m(*args, **kwargs)\u001b[0m\n\u001b[0;32m    495\u001b[0m     \u001b[38;5;28;01mreturn\u001b[39;00m if_true(\u001b[38;5;241m*\u001b[39margs, \u001b[38;5;241m*\u001b[39m\u001b[38;5;241m*\u001b[39mkwargs)\n\u001b[0;32m    496\u001b[0m \u001b[38;5;28;01melse\u001b[39;00m:\n\u001b[1;32m--> 497\u001b[0m     \u001b[38;5;28;01mreturn\u001b[39;00m \u001b[43mif_false\u001b[49m\u001b[43m(\u001b[49m\u001b[38;5;241;43m*\u001b[39;49m\u001b[43margs\u001b[49m\u001b[43m,\u001b[49m\u001b[43m \u001b[49m\u001b[38;5;241;43m*\u001b[39;49m\u001b[38;5;241;43m*\u001b[39;49m\u001b[43mkwargs\u001b[49m\u001b[43m)\u001b[49m\n",
      "File \u001b[1;32mc:\\Users\\juan.pablo\\Documents\\temporal_school_rel\\CS231N-Final-Proj\\venv\\Lib\\site-packages\\torch\\nn\\functional.py:796\u001b[0m, in \u001b[0;36m_max_pool2d\u001b[1;34m(input, kernel_size, stride, padding, dilation, ceil_mode, return_indices)\u001b[0m\n\u001b[0;32m    794\u001b[0m \u001b[38;5;28;01mif\u001b[39;00m stride \u001b[38;5;129;01mis\u001b[39;00m \u001b[38;5;28;01mNone\u001b[39;00m:\n\u001b[0;32m    795\u001b[0m     stride \u001b[38;5;241m=\u001b[39m torch\u001b[38;5;241m.\u001b[39mjit\u001b[38;5;241m.\u001b[39mannotate(List[\u001b[38;5;28mint\u001b[39m], [])\n\u001b[1;32m--> 796\u001b[0m \u001b[38;5;28;01mreturn\u001b[39;00m \u001b[43mtorch\u001b[49m\u001b[38;5;241;43m.\u001b[39;49m\u001b[43mmax_pool2d\u001b[49m\u001b[43m(\u001b[49m\u001b[38;5;28;43minput\u001b[39;49m\u001b[43m,\u001b[49m\u001b[43m \u001b[49m\u001b[43mkernel_size\u001b[49m\u001b[43m,\u001b[49m\u001b[43m \u001b[49m\u001b[43mstride\u001b[49m\u001b[43m,\u001b[49m\u001b[43m \u001b[49m\u001b[43mpadding\u001b[49m\u001b[43m,\u001b[49m\u001b[43m \u001b[49m\u001b[43mdilation\u001b[49m\u001b[43m,\u001b[49m\u001b[43m \u001b[49m\u001b[43mceil_mode\u001b[49m\u001b[43m)\u001b[49m\n",
      "\u001b[1;31mKeyboardInterrupt\u001b[0m: "
     ]
    }
   ],
   "source": [
    "# Let's do fine-tuning\n",
    "finetune_model(model=resnet18, data_loader=train_loader, num_epochs=5, device=device)"
   ]
  },
  {
   "cell_type": "code",
   "execution_count": null,
   "metadata": {},
   "outputs": [
    {
     "data": {
      "text/plain": [
       "<All keys matched successfully>"
      ]
     },
     "metadata": {},
     "output_type": "display_data"
    }
   ],
   "source": [
    "resnet18.load_state_dict(torch.load(os.path.join(model_dict_path, \"vgg16_finetune_params.pth\")))"
   ]
  },
  {
   "cell_type": "markdown",
   "metadata": {},
   "source": [
    "### Create a function that would evaluate the model.\n",
    "\n",
    "Make sure it outputs all of the accuracies of all 20 conditions. <br>"
   ]
  },
  {
   "cell_type": "code",
   "execution_count": null,
   "metadata": {},
   "outputs": [],
   "source": [
    "import torch.nn.functional as F\n",
    "\n",
    "def evaluate_model(model, data_loader, limit:int, device:str):\n",
    "    \"\"\"\n",
    "    Instance method that would evaluate with a given\n",
    "    data loader, the accuracies obtained by the VGGNET16\n",
    "    \"\"\"\n",
    "    model.eval()\n",
    "    threshold = 0.5\n",
    "    accuracies = []\n",
    "    precisions = []\n",
    "    recalls = []\n",
    "    f1_scores = []\n",
    "\n",
    "    #Use no grad to not perform backpropagation for inference time\n",
    "    with torch.no_grad():\n",
    "        #Iterate through each of the images and labels\n",
    "        \n",
    "        # Calculate the total numbers for metrics\n",
    "        TP, FP, TN, FN = 0.0, 0.0, 0.0, 0.0\n",
    "        for idx, batch in enumerate(data_loader):\n",
    "    \n",
    "            #See if it works\n",
    "            images_inputs, images_labels = batch\n",
    "            images_inputs, images_labels = images_inputs.to(device), images_labels.to(device)\n",
    "\n",
    "            #Print the shape of each one of them\n",
    "            print(f\"Inputs shape: {images_inputs.shape}, Labels shape: {labels.shape}\")\n",
    "\n",
    "            #Send the outputs to model in device\n",
    "            outputs = model(images_inputs)\n",
    "\n",
    "            #Binarize the output with threshold\n",
    "            pred_labels = (outputs > threshold).float()\n",
    "\n",
    "            # Calculate batch-wise TP, FP, TN, FN\n",
    "            b_TP = torch.sum((pred_labels == 1) & (images_labels == 1)).item()\n",
    "            b_FP = torch.sum((pred_labels == 1) & (images_labels == 0)).item()\n",
    "            b_TN = torch.sum((pred_labels == 0) & (images_labels == 0)).item()\n",
    "            b_FN = torch.sum((pred_labels == 0) & (images_labels == 1)).item()\n",
    "            TP += b_TP\n",
    "            FP += b_FP\n",
    "            TN += b_TN\n",
    "            FN += b_FN\n",
    "\n",
    "        #_, predicted = torch.max(outputs, 1)  # Get the index of the maximum log-probability\n",
    "        accuracy = ((TP + TN) / (TP + FP + TN + FN)) * 100.0\n",
    "        precision = (TP / (TP + FP)) * 100.0 if (TP + FP) > 0 else 0.0\n",
    "        recall = (TP / (TP + FN)) * 100.0 if (TP + FN) > 0 else 0.0\n",
    "        f1_score = (2 * precision * recall) / (precision + recall) if (precision + recall) > 0 else 0.0\n",
    "\n",
    "        print(\"Accuracy: {:.2f}%\".format(accuracy))\n",
    "        print(\"Precision: {:.2f}%\".format(precision))\n",
    "        print(\"Recall: {:.2f}%\".format(recall))\n",
    "        print(\"F1 Score: {:.2f}%\".format(f1_score))\n",
    "\n",
    "            # accuracies.append(accuracy)\n",
    "            # precisions.append(precision)\n",
    "            # recalls.append(recall)\n",
    "            # f1_scores.append(f1_score)\n",
    "\n",
    "            # if idx == limit:\n",
    "            #     print(\"Limit reached\")\n",
    "            #     break\n",
    "    return accuracies, precisions, recalls, f1_scores"
   ]
  },
  {
   "cell_type": "code",
   "execution_count": null,
   "metadata": {},
   "outputs": [
    {
     "name": "stdout",
     "output_type": "stream",
     "text": [
      "Inputs shape: torch.Size([32, 3, 224, 224]), Labels shape: torch.Size([32, 20])\n",
      "Inputs shape: torch.Size([32, 3, 224, 224]), Labels shape: torch.Size([32, 20])\n",
      "Inputs shape: torch.Size([32, 3, 224, 224]), Labels shape: torch.Size([32, 20])\n",
      "Inputs shape: torch.Size([32, 3, 224, 224]), Labels shape: torch.Size([32, 20])\n",
      "Inputs shape: torch.Size([32, 3, 224, 224]), Labels shape: torch.Size([32, 20])\n",
      "Inputs shape: torch.Size([32, 3, 224, 224]), Labels shape: torch.Size([32, 20])\n",
      "Inputs shape: torch.Size([32, 3, 224, 224]), Labels shape: torch.Size([32, 20])\n",
      "Inputs shape: torch.Size([32, 3, 224, 224]), Labels shape: torch.Size([32, 20])\n",
      "Inputs shape: torch.Size([32, 3, 224, 224]), Labels shape: torch.Size([32, 20])\n",
      "Inputs shape: torch.Size([32, 3, 224, 224]), Labels shape: torch.Size([32, 20])\n",
      "Inputs shape: torch.Size([32, 3, 224, 224]), Labels shape: torch.Size([32, 20])\n",
      "Inputs shape: torch.Size([32, 3, 224, 224]), Labels shape: torch.Size([32, 20])\n",
      "Inputs shape: torch.Size([32, 3, 224, 224]), Labels shape: torch.Size([32, 20])\n",
      "Inputs shape: torch.Size([32, 3, 224, 224]), Labels shape: torch.Size([32, 20])\n",
      "Inputs shape: torch.Size([32, 3, 224, 224]), Labels shape: torch.Size([32, 20])\n",
      "Inputs shape: torch.Size([32, 3, 224, 224]), Labels shape: torch.Size([32, 20])\n",
      "Inputs shape: torch.Size([32, 3, 224, 224]), Labels shape: torch.Size([32, 20])\n",
      "Inputs shape: torch.Size([32, 3, 224, 224]), Labels shape: torch.Size([32, 20])\n",
      "Inputs shape: torch.Size([32, 3, 224, 224]), Labels shape: torch.Size([32, 20])\n",
      "Inputs shape: torch.Size([32, 3, 224, 224]), Labels shape: torch.Size([32, 20])\n",
      "Inputs shape: torch.Size([32, 3, 224, 224]), Labels shape: torch.Size([32, 20])\n",
      "Inputs shape: torch.Size([32, 3, 224, 224]), Labels shape: torch.Size([32, 20])\n",
      "Inputs shape: torch.Size([32, 3, 224, 224]), Labels shape: torch.Size([32, 20])\n",
      "Inputs shape: torch.Size([32, 3, 224, 224]), Labels shape: torch.Size([32, 20])\n",
      "Inputs shape: torch.Size([32, 3, 224, 224]), Labels shape: torch.Size([32, 20])\n",
      "Inputs shape: torch.Size([32, 3, 224, 224]), Labels shape: torch.Size([32, 20])\n",
      "Inputs shape: torch.Size([32, 3, 224, 224]), Labels shape: torch.Size([32, 20])\n",
      "Inputs shape: torch.Size([32, 3, 224, 224]), Labels shape: torch.Size([32, 20])\n",
      "Inputs shape: torch.Size([32, 3, 224, 224]), Labels shape: torch.Size([32, 20])\n",
      "Inputs shape: torch.Size([32, 3, 224, 224]), Labels shape: torch.Size([32, 20])\n",
      "Inputs shape: torch.Size([32, 3, 224, 224]), Labels shape: torch.Size([32, 20])\n",
      "Inputs shape: torch.Size([32, 3, 224, 224]), Labels shape: torch.Size([32, 20])\n",
      "Inputs shape: torch.Size([32, 3, 224, 224]), Labels shape: torch.Size([32, 20])\n",
      "Inputs shape: torch.Size([32, 3, 224, 224]), Labels shape: torch.Size([32, 20])\n",
      "Inputs shape: torch.Size([32, 3, 224, 224]), Labels shape: torch.Size([32, 20])\n",
      "Inputs shape: torch.Size([32, 3, 224, 224]), Labels shape: torch.Size([32, 20])\n",
      "Inputs shape: torch.Size([32, 3, 224, 224]), Labels shape: torch.Size([32, 20])\n",
      "Inputs shape: torch.Size([32, 3, 224, 224]), Labels shape: torch.Size([32, 20])\n",
      "Inputs shape: torch.Size([32, 3, 224, 224]), Labels shape: torch.Size([32, 20])\n",
      "Inputs shape: torch.Size([32, 3, 224, 224]), Labels shape: torch.Size([32, 20])\n",
      "Inputs shape: torch.Size([32, 3, 224, 224]), Labels shape: torch.Size([32, 20])\n",
      "Inputs shape: torch.Size([32, 3, 224, 224]), Labels shape: torch.Size([32, 20])\n",
      "Inputs shape: torch.Size([32, 3, 224, 224]), Labels shape: torch.Size([32, 20])\n",
      "Inputs shape: torch.Size([32, 3, 224, 224]), Labels shape: torch.Size([32, 20])\n",
      "Inputs shape: torch.Size([32, 3, 224, 224]), Labels shape: torch.Size([32, 20])\n",
      "Inputs shape: torch.Size([32, 3, 224, 224]), Labels shape: torch.Size([32, 20])\n",
      "Inputs shape: torch.Size([32, 3, 224, 224]), Labels shape: torch.Size([32, 20])\n",
      "Inputs shape: torch.Size([32, 3, 224, 224]), Labels shape: torch.Size([32, 20])\n",
      "Inputs shape: torch.Size([32, 3, 224, 224]), Labels shape: torch.Size([32, 20])\n",
      "Inputs shape: torch.Size([32, 3, 224, 224]), Labels shape: torch.Size([32, 20])\n",
      "Inputs shape: torch.Size([32, 3, 224, 224]), Labels shape: torch.Size([32, 20])\n",
      "Inputs shape: torch.Size([32, 3, 224, 224]), Labels shape: torch.Size([32, 20])\n",
      "Inputs shape: torch.Size([32, 3, 224, 224]), Labels shape: torch.Size([32, 20])\n",
      "Inputs shape: torch.Size([32, 3, 224, 224]), Labels shape: torch.Size([32, 20])\n",
      "Inputs shape: torch.Size([32, 3, 224, 224]), Labels shape: torch.Size([32, 20])\n",
      "Inputs shape: torch.Size([32, 3, 224, 224]), Labels shape: torch.Size([32, 20])\n",
      "Inputs shape: torch.Size([32, 3, 224, 224]), Labels shape: torch.Size([32, 20])\n",
      "Inputs shape: torch.Size([32, 3, 224, 224]), Labels shape: torch.Size([32, 20])\n",
      "Inputs shape: torch.Size([32, 3, 224, 224]), Labels shape: torch.Size([32, 20])\n",
      "Inputs shape: torch.Size([32, 3, 224, 224]), Labels shape: torch.Size([32, 20])\n",
      "Inputs shape: torch.Size([32, 3, 224, 224]), Labels shape: torch.Size([32, 20])\n",
      "Inputs shape: torch.Size([32, 3, 224, 224]), Labels shape: torch.Size([32, 20])\n",
      "Inputs shape: torch.Size([32, 3, 224, 224]), Labels shape: torch.Size([32, 20])\n",
      "Inputs shape: torch.Size([32, 3, 224, 224]), Labels shape: torch.Size([32, 20])\n",
      "Inputs shape: torch.Size([32, 3, 224, 224]), Labels shape: torch.Size([32, 20])\n",
      "Inputs shape: torch.Size([32, 3, 224, 224]), Labels shape: torch.Size([32, 20])\n",
      "Inputs shape: torch.Size([32, 3, 224, 224]), Labels shape: torch.Size([32, 20])\n",
      "Inputs shape: torch.Size([32, 3, 224, 224]), Labels shape: torch.Size([32, 20])\n",
      "Inputs shape: torch.Size([32, 3, 224, 224]), Labels shape: torch.Size([32, 20])\n",
      "Inputs shape: torch.Size([32, 3, 224, 224]), Labels shape: torch.Size([32, 20])\n",
      "Inputs shape: torch.Size([32, 3, 224, 224]), Labels shape: torch.Size([32, 20])\n",
      "Inputs shape: torch.Size([32, 3, 224, 224]), Labels shape: torch.Size([32, 20])\n",
      "Inputs shape: torch.Size([32, 3, 224, 224]), Labels shape: torch.Size([32, 20])\n",
      "Inputs shape: torch.Size([32, 3, 224, 224]), Labels shape: torch.Size([32, 20])\n",
      "Inputs shape: torch.Size([32, 3, 224, 224]), Labels shape: torch.Size([32, 20])\n",
      "Inputs shape: torch.Size([32, 3, 224, 224]), Labels shape: torch.Size([32, 20])\n",
      "Inputs shape: torch.Size([32, 3, 224, 224]), Labels shape: torch.Size([32, 20])\n",
      "Inputs shape: torch.Size([32, 3, 224, 224]), Labels shape: torch.Size([32, 20])\n",
      "Inputs shape: torch.Size([32, 3, 224, 224]), Labels shape: torch.Size([32, 20])\n",
      "Inputs shape: torch.Size([32, 3, 224, 224]), Labels shape: torch.Size([32, 20])\n",
      "Inputs shape: torch.Size([32, 3, 224, 224]), Labels shape: torch.Size([32, 20])\n",
      "Inputs shape: torch.Size([32, 3, 224, 224]), Labels shape: torch.Size([32, 20])\n",
      "Inputs shape: torch.Size([32, 3, 224, 224]), Labels shape: torch.Size([32, 20])\n",
      "Inputs shape: torch.Size([32, 3, 224, 224]), Labels shape: torch.Size([32, 20])\n",
      "Inputs shape: torch.Size([32, 3, 224, 224]), Labels shape: torch.Size([32, 20])\n",
      "Inputs shape: torch.Size([32, 3, 224, 224]), Labels shape: torch.Size([32, 20])\n",
      "Inputs shape: torch.Size([32, 3, 224, 224]), Labels shape: torch.Size([32, 20])\n",
      "Inputs shape: torch.Size([32, 3, 224, 224]), Labels shape: torch.Size([32, 20])\n",
      "Inputs shape: torch.Size([32, 3, 224, 224]), Labels shape: torch.Size([32, 20])\n",
      "Inputs shape: torch.Size([32, 3, 224, 224]), Labels shape: torch.Size([32, 20])\n",
      "Inputs shape: torch.Size([32, 3, 224, 224]), Labels shape: torch.Size([32, 20])\n",
      "Inputs shape: torch.Size([32, 3, 224, 224]), Labels shape: torch.Size([32, 20])\n",
      "Inputs shape: torch.Size([32, 3, 224, 224]), Labels shape: torch.Size([32, 20])\n",
      "Inputs shape: torch.Size([32, 3, 224, 224]), Labels shape: torch.Size([32, 20])\n",
      "Inputs shape: torch.Size([32, 3, 224, 224]), Labels shape: torch.Size([32, 20])\n",
      "Inputs shape: torch.Size([32, 3, 224, 224]), Labels shape: torch.Size([32, 20])\n",
      "Inputs shape: torch.Size([32, 3, 224, 224]), Labels shape: torch.Size([32, 20])\n",
      "Inputs shape: torch.Size([32, 3, 224, 224]), Labels shape: torch.Size([32, 20])\n",
      "Inputs shape: torch.Size([32, 3, 224, 224]), Labels shape: torch.Size([32, 20])\n",
      "Inputs shape: torch.Size([32, 3, 224, 224]), Labels shape: torch.Size([32, 20])\n",
      "Inputs shape: torch.Size([32, 3, 224, 224]), Labels shape: torch.Size([32, 20])\n",
      "Inputs shape: torch.Size([32, 3, 224, 224]), Labels shape: torch.Size([32, 20])\n",
      "Inputs shape: torch.Size([32, 3, 224, 224]), Labels shape: torch.Size([32, 20])\n",
      "Inputs shape: torch.Size([32, 3, 224, 224]), Labels shape: torch.Size([32, 20])\n",
      "Inputs shape: torch.Size([32, 3, 224, 224]), Labels shape: torch.Size([32, 20])\n",
      "Inputs shape: torch.Size([32, 3, 224, 224]), Labels shape: torch.Size([32, 20])\n",
      "Inputs shape: torch.Size([32, 3, 224, 224]), Labels shape: torch.Size([32, 20])\n",
      "Inputs shape: torch.Size([32, 3, 224, 224]), Labels shape: torch.Size([32, 20])\n",
      "Inputs shape: torch.Size([32, 3, 224, 224]), Labels shape: torch.Size([32, 20])\n",
      "Inputs shape: torch.Size([32, 3, 224, 224]), Labels shape: torch.Size([32, 20])\n",
      "Inputs shape: torch.Size([32, 3, 224, 224]), Labels shape: torch.Size([32, 20])\n",
      "Inputs shape: torch.Size([32, 3, 224, 224]), Labels shape: torch.Size([32, 20])\n",
      "Inputs shape: torch.Size([32, 3, 224, 224]), Labels shape: torch.Size([32, 20])\n",
      "Inputs shape: torch.Size([32, 3, 224, 224]), Labels shape: torch.Size([32, 20])\n",
      "Inputs shape: torch.Size([32, 3, 224, 224]), Labels shape: torch.Size([32, 20])\n",
      "Inputs shape: torch.Size([32, 3, 224, 224]), Labels shape: torch.Size([32, 20])\n",
      "Inputs shape: torch.Size([32, 3, 224, 224]), Labels shape: torch.Size([32, 20])\n",
      "Inputs shape: torch.Size([32, 3, 224, 224]), Labels shape: torch.Size([32, 20])\n",
      "Inputs shape: torch.Size([32, 3, 224, 224]), Labels shape: torch.Size([32, 20])\n",
      "Inputs shape: torch.Size([32, 3, 224, 224]), Labels shape: torch.Size([32, 20])\n",
      "Inputs shape: torch.Size([32, 3, 224, 224]), Labels shape: torch.Size([32, 20])\n",
      "Inputs shape: torch.Size([32, 3, 224, 224]), Labels shape: torch.Size([32, 20])\n",
      "Inputs shape: torch.Size([32, 3, 224, 224]), Labels shape: torch.Size([32, 20])\n",
      "Inputs shape: torch.Size([32, 3, 224, 224]), Labels shape: torch.Size([32, 20])\n",
      "Inputs shape: torch.Size([32, 3, 224, 224]), Labels shape: torch.Size([32, 20])\n",
      "Inputs shape: torch.Size([32, 3, 224, 224]), Labels shape: torch.Size([32, 20])\n",
      "Inputs shape: torch.Size([32, 3, 224, 224]), Labels shape: torch.Size([32, 20])\n",
      "Inputs shape: torch.Size([32, 3, 224, 224]), Labels shape: torch.Size([32, 20])\n",
      "Inputs shape: torch.Size([32, 3, 224, 224]), Labels shape: torch.Size([32, 20])\n",
      "Inputs shape: torch.Size([32, 3, 224, 224]), Labels shape: torch.Size([32, 20])\n",
      "Inputs shape: torch.Size([32, 3, 224, 224]), Labels shape: torch.Size([32, 20])\n",
      "Inputs shape: torch.Size([32, 3, 224, 224]), Labels shape: torch.Size([32, 20])\n",
      "Inputs shape: torch.Size([32, 3, 224, 224]), Labels shape: torch.Size([32, 20])\n",
      "Inputs shape: torch.Size([32, 3, 224, 224]), Labels shape: torch.Size([32, 20])\n",
      "Inputs shape: torch.Size([32, 3, 224, 224]), Labels shape: torch.Size([32, 20])\n",
      "Inputs shape: torch.Size([32, 3, 224, 224]), Labels shape: torch.Size([32, 20])\n",
      "Inputs shape: torch.Size([32, 3, 224, 224]), Labels shape: torch.Size([32, 20])\n",
      "Inputs shape: torch.Size([32, 3, 224, 224]), Labels shape: torch.Size([32, 20])\n",
      "Inputs shape: torch.Size([32, 3, 224, 224]), Labels shape: torch.Size([32, 20])\n",
      "Inputs shape: torch.Size([32, 3, 224, 224]), Labels shape: torch.Size([32, 20])\n",
      "Inputs shape: torch.Size([32, 3, 224, 224]), Labels shape: torch.Size([32, 20])\n",
      "Inputs shape: torch.Size([32, 3, 224, 224]), Labels shape: torch.Size([32, 20])\n",
      "Inputs shape: torch.Size([32, 3, 224, 224]), Labels shape: torch.Size([32, 20])\n",
      "Inputs shape: torch.Size([32, 3, 224, 224]), Labels shape: torch.Size([32, 20])\n",
      "Inputs shape: torch.Size([32, 3, 224, 224]), Labels shape: torch.Size([32, 20])\n",
      "Inputs shape: torch.Size([32, 3, 224, 224]), Labels shape: torch.Size([32, 20])\n",
      "Inputs shape: torch.Size([32, 3, 224, 224]), Labels shape: torch.Size([32, 20])\n",
      "Inputs shape: torch.Size([32, 3, 224, 224]), Labels shape: torch.Size([32, 20])\n",
      "Inputs shape: torch.Size([32, 3, 224, 224]), Labels shape: torch.Size([32, 20])\n",
      "Inputs shape: torch.Size([32, 3, 224, 224]), Labels shape: torch.Size([32, 20])\n",
      "Inputs shape: torch.Size([32, 3, 224, 224]), Labels shape: torch.Size([32, 20])\n",
      "Inputs shape: torch.Size([32, 3, 224, 224]), Labels shape: torch.Size([32, 20])\n",
      "Inputs shape: torch.Size([32, 3, 224, 224]), Labels shape: torch.Size([32, 20])\n",
      "Inputs shape: torch.Size([32, 3, 224, 224]), Labels shape: torch.Size([32, 20])\n",
      "Inputs shape: torch.Size([32, 3, 224, 224]), Labels shape: torch.Size([32, 20])\n",
      "Inputs shape: torch.Size([32, 3, 224, 224]), Labels shape: torch.Size([32, 20])\n",
      "Inputs shape: torch.Size([32, 3, 224, 224]), Labels shape: torch.Size([32, 20])\n",
      "Inputs shape: torch.Size([32, 3, 224, 224]), Labels shape: torch.Size([32, 20])\n",
      "Inputs shape: torch.Size([32, 3, 224, 224]), Labels shape: torch.Size([32, 20])\n",
      "Inputs shape: torch.Size([32, 3, 224, 224]), Labels shape: torch.Size([32, 20])\n",
      "Inputs shape: torch.Size([32, 3, 224, 224]), Labels shape: torch.Size([32, 20])\n",
      "Inputs shape: torch.Size([32, 3, 224, 224]), Labels shape: torch.Size([32, 20])\n",
      "Inputs shape: torch.Size([32, 3, 224, 224]), Labels shape: torch.Size([32, 20])\n",
      "Inputs shape: torch.Size([32, 3, 224, 224]), Labels shape: torch.Size([32, 20])\n",
      "Inputs shape: torch.Size([32, 3, 224, 224]), Labels shape: torch.Size([32, 20])\n",
      "Inputs shape: torch.Size([32, 3, 224, 224]), Labels shape: torch.Size([32, 20])\n",
      "Inputs shape: torch.Size([32, 3, 224, 224]), Labels shape: torch.Size([32, 20])\n",
      "Inputs shape: torch.Size([32, 3, 224, 224]), Labels shape: torch.Size([32, 20])\n",
      "Inputs shape: torch.Size([32, 3, 224, 224]), Labels shape: torch.Size([32, 20])\n",
      "Inputs shape: torch.Size([32, 3, 224, 224]), Labels shape: torch.Size([32, 20])\n",
      "Inputs shape: torch.Size([32, 3, 224, 224]), Labels shape: torch.Size([32, 20])\n",
      "Inputs shape: torch.Size([32, 3, 224, 224]), Labels shape: torch.Size([32, 20])\n",
      "Inputs shape: torch.Size([32, 3, 224, 224]), Labels shape: torch.Size([32, 20])\n",
      "Inputs shape: torch.Size([32, 3, 224, 224]), Labels shape: torch.Size([32, 20])\n",
      "Inputs shape: torch.Size([32, 3, 224, 224]), Labels shape: torch.Size([32, 20])\n",
      "Inputs shape: torch.Size([32, 3, 224, 224]), Labels shape: torch.Size([32, 20])\n",
      "Inputs shape: torch.Size([32, 3, 224, 224]), Labels shape: torch.Size([32, 20])\n",
      "Inputs shape: torch.Size([32, 3, 224, 224]), Labels shape: torch.Size([32, 20])\n",
      "Inputs shape: torch.Size([32, 3, 224, 224]), Labels shape: torch.Size([32, 20])\n",
      "Inputs shape: torch.Size([32, 3, 224, 224]), Labels shape: torch.Size([32, 20])\n",
      "Inputs shape: torch.Size([32, 3, 224, 224]), Labels shape: torch.Size([32, 20])\n",
      "Inputs shape: torch.Size([32, 3, 224, 224]), Labels shape: torch.Size([32, 20])\n",
      "Inputs shape: torch.Size([32, 3, 224, 224]), Labels shape: torch.Size([32, 20])\n",
      "Inputs shape: torch.Size([32, 3, 224, 224]), Labels shape: torch.Size([32, 20])\n",
      "Inputs shape: torch.Size([32, 3, 224, 224]), Labels shape: torch.Size([32, 20])\n",
      "Inputs shape: torch.Size([32, 3, 224, 224]), Labels shape: torch.Size([32, 20])\n",
      "Inputs shape: torch.Size([32, 3, 224, 224]), Labels shape: torch.Size([32, 20])\n",
      "Inputs shape: torch.Size([32, 3, 224, 224]), Labels shape: torch.Size([32, 20])\n",
      "Inputs shape: torch.Size([32, 3, 224, 224]), Labels shape: torch.Size([32, 20])\n",
      "Inputs shape: torch.Size([32, 3, 224, 224]), Labels shape: torch.Size([32, 20])\n",
      "Inputs shape: torch.Size([32, 3, 224, 224]), Labels shape: torch.Size([32, 20])\n",
      "Inputs shape: torch.Size([32, 3, 224, 224]), Labels shape: torch.Size([32, 20])\n",
      "Inputs shape: torch.Size([32, 3, 224, 224]), Labels shape: torch.Size([32, 20])\n",
      "Inputs shape: torch.Size([32, 3, 224, 224]), Labels shape: torch.Size([32, 20])\n",
      "Inputs shape: torch.Size([32, 3, 224, 224]), Labels shape: torch.Size([32, 20])\n",
      "Inputs shape: torch.Size([32, 3, 224, 224]), Labels shape: torch.Size([32, 20])\n",
      "Inputs shape: torch.Size([32, 3, 224, 224]), Labels shape: torch.Size([32, 20])\n",
      "Inputs shape: torch.Size([32, 3, 224, 224]), Labels shape: torch.Size([32, 20])\n",
      "Inputs shape: torch.Size([32, 3, 224, 224]), Labels shape: torch.Size([32, 20])\n",
      "Inputs shape: torch.Size([32, 3, 224, 224]), Labels shape: torch.Size([32, 20])\n",
      "Inputs shape: torch.Size([32, 3, 224, 224]), Labels shape: torch.Size([32, 20])\n",
      "Inputs shape: torch.Size([32, 3, 224, 224]), Labels shape: torch.Size([32, 20])\n",
      "Inputs shape: torch.Size([32, 3, 224, 224]), Labels shape: torch.Size([32, 20])\n",
      "Inputs shape: torch.Size([32, 3, 224, 224]), Labels shape: torch.Size([32, 20])\n",
      "Inputs shape: torch.Size([32, 3, 224, 224]), Labels shape: torch.Size([32, 20])\n",
      "Inputs shape: torch.Size([32, 3, 224, 224]), Labels shape: torch.Size([32, 20])\n",
      "Inputs shape: torch.Size([32, 3, 224, 224]), Labels shape: torch.Size([32, 20])\n",
      "Inputs shape: torch.Size([32, 3, 224, 224]), Labels shape: torch.Size([32, 20])\n",
      "Inputs shape: torch.Size([32, 3, 224, 224]), Labels shape: torch.Size([32, 20])\n",
      "Inputs shape: torch.Size([32, 3, 224, 224]), Labels shape: torch.Size([32, 20])\n",
      "Inputs shape: torch.Size([32, 3, 224, 224]), Labels shape: torch.Size([32, 20])\n",
      "Inputs shape: torch.Size([32, 3, 224, 224]), Labels shape: torch.Size([32, 20])\n",
      "Inputs shape: torch.Size([32, 3, 224, 224]), Labels shape: torch.Size([32, 20])\n",
      "Inputs shape: torch.Size([32, 3, 224, 224]), Labels shape: torch.Size([32, 20])\n",
      "Inputs shape: torch.Size([32, 3, 224, 224]), Labels shape: torch.Size([32, 20])\n",
      "Inputs shape: torch.Size([32, 3, 224, 224]), Labels shape: torch.Size([32, 20])\n",
      "Inputs shape: torch.Size([32, 3, 224, 224]), Labels shape: torch.Size([32, 20])\n",
      "Inputs shape: torch.Size([32, 3, 224, 224]), Labels shape: torch.Size([32, 20])\n",
      "Inputs shape: torch.Size([32, 3, 224, 224]), Labels shape: torch.Size([32, 20])\n",
      "Inputs shape: torch.Size([32, 3, 224, 224]), Labels shape: torch.Size([32, 20])\n",
      "Inputs shape: torch.Size([32, 3, 224, 224]), Labels shape: torch.Size([32, 20])\n",
      "Inputs shape: torch.Size([32, 3, 224, 224]), Labels shape: torch.Size([32, 20])\n",
      "Inputs shape: torch.Size([32, 3, 224, 224]), Labels shape: torch.Size([32, 20])\n",
      "Inputs shape: torch.Size([32, 3, 224, 224]), Labels shape: torch.Size([32, 20])\n",
      "Inputs shape: torch.Size([32, 3, 224, 224]), Labels shape: torch.Size([32, 20])\n",
      "Inputs shape: torch.Size([32, 3, 224, 224]), Labels shape: torch.Size([32, 20])\n",
      "Inputs shape: torch.Size([32, 3, 224, 224]), Labels shape: torch.Size([32, 20])\n",
      "Inputs shape: torch.Size([32, 3, 224, 224]), Labels shape: torch.Size([32, 20])\n",
      "Inputs shape: torch.Size([32, 3, 224, 224]), Labels shape: torch.Size([32, 20])\n",
      "Inputs shape: torch.Size([32, 3, 224, 224]), Labels shape: torch.Size([32, 20])\n",
      "Inputs shape: torch.Size([32, 3, 224, 224]), Labels shape: torch.Size([32, 20])\n",
      "Inputs shape: torch.Size([32, 3, 224, 224]), Labels shape: torch.Size([32, 20])\n",
      "Inputs shape: torch.Size([32, 3, 224, 224]), Labels shape: torch.Size([32, 20])\n",
      "Inputs shape: torch.Size([32, 3, 224, 224]), Labels shape: torch.Size([32, 20])\n",
      "Inputs shape: torch.Size([32, 3, 224, 224]), Labels shape: torch.Size([32, 20])\n",
      "Inputs shape: torch.Size([32, 3, 224, 224]), Labels shape: torch.Size([32, 20])\n",
      "Inputs shape: torch.Size([32, 3, 224, 224]), Labels shape: torch.Size([32, 20])\n",
      "Inputs shape: torch.Size([32, 3, 224, 224]), Labels shape: torch.Size([32, 20])\n",
      "Inputs shape: torch.Size([32, 3, 224, 224]), Labels shape: torch.Size([32, 20])\n",
      "Inputs shape: torch.Size([32, 3, 224, 224]), Labels shape: torch.Size([32, 20])\n",
      "Inputs shape: torch.Size([32, 3, 224, 224]), Labels shape: torch.Size([32, 20])\n",
      "Inputs shape: torch.Size([32, 3, 224, 224]), Labels shape: torch.Size([32, 20])\n",
      "Inputs shape: torch.Size([32, 3, 224, 224]), Labels shape: torch.Size([32, 20])\n",
      "Inputs shape: torch.Size([32, 3, 224, 224]), Labels shape: torch.Size([32, 20])\n",
      "Inputs shape: torch.Size([32, 3, 224, 224]), Labels shape: torch.Size([32, 20])\n",
      "Inputs shape: torch.Size([32, 3, 224, 224]), Labels shape: torch.Size([32, 20])\n",
      "Inputs shape: torch.Size([32, 3, 224, 224]), Labels shape: torch.Size([32, 20])\n",
      "Inputs shape: torch.Size([32, 3, 224, 224]), Labels shape: torch.Size([32, 20])\n",
      "Inputs shape: torch.Size([32, 3, 224, 224]), Labels shape: torch.Size([32, 20])\n",
      "Inputs shape: torch.Size([32, 3, 224, 224]), Labels shape: torch.Size([32, 20])\n",
      "Inputs shape: torch.Size([32, 3, 224, 224]), Labels shape: torch.Size([32, 20])\n",
      "Inputs shape: torch.Size([32, 3, 224, 224]), Labels shape: torch.Size([32, 20])\n",
      "Inputs shape: torch.Size([32, 3, 224, 224]), Labels shape: torch.Size([32, 20])\n",
      "Inputs shape: torch.Size([32, 3, 224, 224]), Labels shape: torch.Size([32, 20])\n",
      "Inputs shape: torch.Size([32, 3, 224, 224]), Labels shape: torch.Size([32, 20])\n",
      "Inputs shape: torch.Size([32, 3, 224, 224]), Labels shape: torch.Size([32, 20])\n",
      "Inputs shape: torch.Size([32, 3, 224, 224]), Labels shape: torch.Size([32, 20])\n",
      "Inputs shape: torch.Size([32, 3, 224, 224]), Labels shape: torch.Size([32, 20])\n",
      "Inputs shape: torch.Size([32, 3, 224, 224]), Labels shape: torch.Size([32, 20])\n",
      "Inputs shape: torch.Size([32, 3, 224, 224]), Labels shape: torch.Size([32, 20])\n",
      "Inputs shape: torch.Size([32, 3, 224, 224]), Labels shape: torch.Size([32, 20])\n",
      "Inputs shape: torch.Size([32, 3, 224, 224]), Labels shape: torch.Size([32, 20])\n",
      "Inputs shape: torch.Size([32, 3, 224, 224]), Labels shape: torch.Size([32, 20])\n",
      "Inputs shape: torch.Size([32, 3, 224, 224]), Labels shape: torch.Size([32, 20])\n",
      "Inputs shape: torch.Size([32, 3, 224, 224]), Labels shape: torch.Size([32, 20])\n",
      "Inputs shape: torch.Size([32, 3, 224, 224]), Labels shape: torch.Size([32, 20])\n",
      "Inputs shape: torch.Size([32, 3, 224, 224]), Labels shape: torch.Size([32, 20])\n",
      "Inputs shape: torch.Size([32, 3, 224, 224]), Labels shape: torch.Size([32, 20])\n",
      "Inputs shape: torch.Size([32, 3, 224, 224]), Labels shape: torch.Size([32, 20])\n",
      "Inputs shape: torch.Size([32, 3, 224, 224]), Labels shape: torch.Size([32, 20])\n",
      "Inputs shape: torch.Size([32, 3, 224, 224]), Labels shape: torch.Size([32, 20])\n",
      "Inputs shape: torch.Size([32, 3, 224, 224]), Labels shape: torch.Size([32, 20])\n",
      "Inputs shape: torch.Size([32, 3, 224, 224]), Labels shape: torch.Size([32, 20])\n",
      "Inputs shape: torch.Size([32, 3, 224, 224]), Labels shape: torch.Size([32, 20])\n",
      "Inputs shape: torch.Size([32, 3, 224, 224]), Labels shape: torch.Size([32, 20])\n",
      "Inputs shape: torch.Size([32, 3, 224, 224]), Labels shape: torch.Size([32, 20])\n",
      "Inputs shape: torch.Size([32, 3, 224, 224]), Labels shape: torch.Size([32, 20])\n",
      "Inputs shape: torch.Size([32, 3, 224, 224]), Labels shape: torch.Size([32, 20])\n",
      "Inputs shape: torch.Size([32, 3, 224, 224]), Labels shape: torch.Size([32, 20])\n",
      "Inputs shape: torch.Size([32, 3, 224, 224]), Labels shape: torch.Size([32, 20])\n",
      "Inputs shape: torch.Size([32, 3, 224, 224]), Labels shape: torch.Size([32, 20])\n",
      "Inputs shape: torch.Size([32, 3, 224, 224]), Labels shape: torch.Size([32, 20])\n",
      "Inputs shape: torch.Size([32, 3, 224, 224]), Labels shape: torch.Size([32, 20])\n",
      "Inputs shape: torch.Size([32, 3, 224, 224]), Labels shape: torch.Size([32, 20])\n",
      "Inputs shape: torch.Size([32, 3, 224, 224]), Labels shape: torch.Size([32, 20])\n",
      "Inputs shape: torch.Size([32, 3, 224, 224]), Labels shape: torch.Size([32, 20])\n",
      "Inputs shape: torch.Size([32, 3, 224, 224]), Labels shape: torch.Size([32, 20])\n",
      "Inputs shape: torch.Size([32, 3, 224, 224]), Labels shape: torch.Size([32, 20])\n",
      "Inputs shape: torch.Size([32, 3, 224, 224]), Labels shape: torch.Size([32, 20])\n",
      "Inputs shape: torch.Size([32, 3, 224, 224]), Labels shape: torch.Size([32, 20])\n",
      "Inputs shape: torch.Size([32, 3, 224, 224]), Labels shape: torch.Size([32, 20])\n",
      "Inputs shape: torch.Size([32, 3, 224, 224]), Labels shape: torch.Size([32, 20])\n",
      "Inputs shape: torch.Size([32, 3, 224, 224]), Labels shape: torch.Size([32, 20])\n",
      "Inputs shape: torch.Size([32, 3, 224, 224]), Labels shape: torch.Size([32, 20])\n",
      "Inputs shape: torch.Size([32, 3, 224, 224]), Labels shape: torch.Size([32, 20])\n",
      "Inputs shape: torch.Size([32, 3, 224, 224]), Labels shape: torch.Size([32, 20])\n",
      "Inputs shape: torch.Size([32, 3, 224, 224]), Labels shape: torch.Size([32, 20])\n",
      "Inputs shape: torch.Size([32, 3, 224, 224]), Labels shape: torch.Size([32, 20])\n",
      "Inputs shape: torch.Size([32, 3, 224, 224]), Labels shape: torch.Size([32, 20])\n",
      "Inputs shape: torch.Size([32, 3, 224, 224]), Labels shape: torch.Size([32, 20])\n",
      "Inputs shape: torch.Size([32, 3, 224, 224]), Labels shape: torch.Size([32, 20])\n",
      "Inputs shape: torch.Size([32, 3, 224, 224]), Labels shape: torch.Size([32, 20])\n",
      "Inputs shape: torch.Size([32, 3, 224, 224]), Labels shape: torch.Size([32, 20])\n",
      "Inputs shape: torch.Size([32, 3, 224, 224]), Labels shape: torch.Size([32, 20])\n",
      "Inputs shape: torch.Size([32, 3, 224, 224]), Labels shape: torch.Size([32, 20])\n",
      "Inputs shape: torch.Size([32, 3, 224, 224]), Labels shape: torch.Size([32, 20])\n",
      "Inputs shape: torch.Size([32, 3, 224, 224]), Labels shape: torch.Size([32, 20])\n",
      "Inputs shape: torch.Size([32, 3, 224, 224]), Labels shape: torch.Size([32, 20])\n",
      "Inputs shape: torch.Size([32, 3, 224, 224]), Labels shape: torch.Size([32, 20])\n",
      "Inputs shape: torch.Size([32, 3, 224, 224]), Labels shape: torch.Size([32, 20])\n",
      "Inputs shape: torch.Size([32, 3, 224, 224]), Labels shape: torch.Size([32, 20])\n",
      "Inputs shape: torch.Size([32, 3, 224, 224]), Labels shape: torch.Size([32, 20])\n",
      "Inputs shape: torch.Size([32, 3, 224, 224]), Labels shape: torch.Size([32, 20])\n",
      "Inputs shape: torch.Size([32, 3, 224, 224]), Labels shape: torch.Size([32, 20])\n",
      "Inputs shape: torch.Size([32, 3, 224, 224]), Labels shape: torch.Size([32, 20])\n",
      "Inputs shape: torch.Size([32, 3, 224, 224]), Labels shape: torch.Size([32, 20])\n",
      "Inputs shape: torch.Size([32, 3, 224, 224]), Labels shape: torch.Size([32, 20])\n",
      "Inputs shape: torch.Size([32, 3, 224, 224]), Labels shape: torch.Size([32, 20])\n",
      "Inputs shape: torch.Size([32, 3, 224, 224]), Labels shape: torch.Size([32, 20])\n",
      "Inputs shape: torch.Size([32, 3, 224, 224]), Labels shape: torch.Size([32, 20])\n",
      "Inputs shape: torch.Size([32, 3, 224, 224]), Labels shape: torch.Size([32, 20])\n",
      "Inputs shape: torch.Size([32, 3, 224, 224]), Labels shape: torch.Size([32, 20])\n",
      "Inputs shape: torch.Size([32, 3, 224, 224]), Labels shape: torch.Size([32, 20])\n",
      "Inputs shape: torch.Size([32, 3, 224, 224]), Labels shape: torch.Size([32, 20])\n",
      "Inputs shape: torch.Size([32, 3, 224, 224]), Labels shape: torch.Size([32, 20])\n",
      "Inputs shape: torch.Size([32, 3, 224, 224]), Labels shape: torch.Size([32, 20])\n",
      "Inputs shape: torch.Size([32, 3, 224, 224]), Labels shape: torch.Size([32, 20])\n",
      "Inputs shape: torch.Size([32, 3, 224, 224]), Labels shape: torch.Size([32, 20])\n",
      "Inputs shape: torch.Size([32, 3, 224, 224]), Labels shape: torch.Size([32, 20])\n",
      "Inputs shape: torch.Size([32, 3, 224, 224]), Labels shape: torch.Size([32, 20])\n",
      "Inputs shape: torch.Size([32, 3, 224, 224]), Labels shape: torch.Size([32, 20])\n",
      "Inputs shape: torch.Size([32, 3, 224, 224]), Labels shape: torch.Size([32, 20])\n",
      "Inputs shape: torch.Size([32, 3, 224, 224]), Labels shape: torch.Size([32, 20])\n",
      "Inputs shape: torch.Size([32, 3, 224, 224]), Labels shape: torch.Size([32, 20])\n",
      "Inputs shape: torch.Size([32, 3, 224, 224]), Labels shape: torch.Size([32, 20])\n",
      "Inputs shape: torch.Size([32, 3, 224, 224]), Labels shape: torch.Size([32, 20])\n",
      "Inputs shape: torch.Size([32, 3, 224, 224]), Labels shape: torch.Size([32, 20])\n",
      "Inputs shape: torch.Size([32, 3, 224, 224]), Labels shape: torch.Size([32, 20])\n",
      "Inputs shape: torch.Size([32, 3, 224, 224]), Labels shape: torch.Size([32, 20])\n",
      "Inputs shape: torch.Size([32, 3, 224, 224]), Labels shape: torch.Size([32, 20])\n",
      "Inputs shape: torch.Size([32, 3, 224, 224]), Labels shape: torch.Size([32, 20])\n",
      "Inputs shape: torch.Size([32, 3, 224, 224]), Labels shape: torch.Size([32, 20])\n",
      "Inputs shape: torch.Size([32, 3, 224, 224]), Labels shape: torch.Size([32, 20])\n",
      "Inputs shape: torch.Size([32, 3, 224, 224]), Labels shape: torch.Size([32, 20])\n",
      "Inputs shape: torch.Size([32, 3, 224, 224]), Labels shape: torch.Size([32, 20])\n",
      "Inputs shape: torch.Size([32, 3, 224, 224]), Labels shape: torch.Size([32, 20])\n",
      "Inputs shape: torch.Size([32, 3, 224, 224]), Labels shape: torch.Size([32, 20])\n",
      "Inputs shape: torch.Size([32, 3, 224, 224]), Labels shape: torch.Size([32, 20])\n",
      "Inputs shape: torch.Size([32, 3, 224, 224]), Labels shape: torch.Size([32, 20])\n",
      "Inputs shape: torch.Size([32, 3, 224, 224]), Labels shape: torch.Size([32, 20])\n",
      "Inputs shape: torch.Size([32, 3, 224, 224]), Labels shape: torch.Size([32, 20])\n",
      "Inputs shape: torch.Size([32, 3, 224, 224]), Labels shape: torch.Size([32, 20])\n",
      "Inputs shape: torch.Size([32, 3, 224, 224]), Labels shape: torch.Size([32, 20])\n",
      "Inputs shape: torch.Size([32, 3, 224, 224]), Labels shape: torch.Size([32, 20])\n",
      "Inputs shape: torch.Size([32, 3, 224, 224]), Labels shape: torch.Size([32, 20])\n",
      "Inputs shape: torch.Size([32, 3, 224, 224]), Labels shape: torch.Size([32, 20])\n",
      "Inputs shape: torch.Size([32, 3, 224, 224]), Labels shape: torch.Size([32, 20])\n",
      "Inputs shape: torch.Size([32, 3, 224, 224]), Labels shape: torch.Size([32, 20])\n",
      "Inputs shape: torch.Size([32, 3, 224, 224]), Labels shape: torch.Size([32, 20])\n",
      "Inputs shape: torch.Size([32, 3, 224, 224]), Labels shape: torch.Size([32, 20])\n",
      "Inputs shape: torch.Size([32, 3, 224, 224]), Labels shape: torch.Size([32, 20])\n",
      "Inputs shape: torch.Size([32, 3, 224, 224]), Labels shape: torch.Size([32, 20])\n",
      "Inputs shape: torch.Size([32, 3, 224, 224]), Labels shape: torch.Size([32, 20])\n",
      "Inputs shape: torch.Size([32, 3, 224, 224]), Labels shape: torch.Size([32, 20])\n",
      "Inputs shape: torch.Size([32, 3, 224, 224]), Labels shape: torch.Size([32, 20])\n",
      "Inputs shape: torch.Size([32, 3, 224, 224]), Labels shape: torch.Size([32, 20])\n",
      "Inputs shape: torch.Size([32, 3, 224, 224]), Labels shape: torch.Size([32, 20])\n",
      "Inputs shape: torch.Size([32, 3, 224, 224]), Labels shape: torch.Size([32, 20])\n",
      "Inputs shape: torch.Size([32, 3, 224, 224]), Labels shape: torch.Size([32, 20])\n",
      "Inputs shape: torch.Size([32, 3, 224, 224]), Labels shape: torch.Size([32, 20])\n",
      "Inputs shape: torch.Size([32, 3, 224, 224]), Labels shape: torch.Size([32, 20])\n",
      "Inputs shape: torch.Size([32, 3, 224, 224]), Labels shape: torch.Size([32, 20])\n",
      "Inputs shape: torch.Size([32, 3, 224, 224]), Labels shape: torch.Size([32, 20])\n",
      "Inputs shape: torch.Size([32, 3, 224, 224]), Labels shape: torch.Size([32, 20])\n",
      "Inputs shape: torch.Size([32, 3, 224, 224]), Labels shape: torch.Size([32, 20])\n",
      "Inputs shape: torch.Size([32, 3, 224, 224]), Labels shape: torch.Size([32, 20])\n",
      "Inputs shape: torch.Size([32, 3, 224, 224]), Labels shape: torch.Size([32, 20])\n",
      "Inputs shape: torch.Size([32, 3, 224, 224]), Labels shape: torch.Size([32, 20])\n",
      "Inputs shape: torch.Size([32, 3, 224, 224]), Labels shape: torch.Size([32, 20])\n",
      "Inputs shape: torch.Size([32, 3, 224, 224]), Labels shape: torch.Size([32, 20])\n",
      "Inputs shape: torch.Size([32, 3, 224, 224]), Labels shape: torch.Size([32, 20])\n",
      "Inputs shape: torch.Size([32, 3, 224, 224]), Labels shape: torch.Size([32, 20])\n",
      "Inputs shape: torch.Size([32, 3, 224, 224]), Labels shape: torch.Size([32, 20])\n",
      "Inputs shape: torch.Size([32, 3, 224, 224]), Labels shape: torch.Size([32, 20])\n",
      "Inputs shape: torch.Size([32, 3, 224, 224]), Labels shape: torch.Size([32, 20])\n",
      "Inputs shape: torch.Size([32, 3, 224, 224]), Labels shape: torch.Size([32, 20])\n",
      "Inputs shape: torch.Size([32, 3, 224, 224]), Labels shape: torch.Size([32, 20])\n",
      "Inputs shape: torch.Size([32, 3, 224, 224]), Labels shape: torch.Size([32, 20])\n",
      "Inputs shape: torch.Size([32, 3, 224, 224]), Labels shape: torch.Size([32, 20])\n",
      "Inputs shape: torch.Size([32, 3, 224, 224]), Labels shape: torch.Size([32, 20])\n",
      "Inputs shape: torch.Size([32, 3, 224, 224]), Labels shape: torch.Size([32, 20])\n",
      "Inputs shape: torch.Size([32, 3, 224, 224]), Labels shape: torch.Size([32, 20])\n",
      "Inputs shape: torch.Size([32, 3, 224, 224]), Labels shape: torch.Size([32, 20])\n",
      "Inputs shape: torch.Size([32, 3, 224, 224]), Labels shape: torch.Size([32, 20])\n",
      "Inputs shape: torch.Size([32, 3, 224, 224]), Labels shape: torch.Size([32, 20])\n",
      "Inputs shape: torch.Size([32, 3, 224, 224]), Labels shape: torch.Size([32, 20])\n",
      "Inputs shape: torch.Size([32, 3, 224, 224]), Labels shape: torch.Size([32, 20])\n",
      "Inputs shape: torch.Size([32, 3, 224, 224]), Labels shape: torch.Size([32, 20])\n",
      "Inputs shape: torch.Size([32, 3, 224, 224]), Labels shape: torch.Size([32, 20])\n",
      "Inputs shape: torch.Size([32, 3, 224, 224]), Labels shape: torch.Size([32, 20])\n",
      "Inputs shape: torch.Size([32, 3, 224, 224]), Labels shape: torch.Size([32, 20])\n",
      "Inputs shape: torch.Size([32, 3, 224, 224]), Labels shape: torch.Size([32, 20])\n",
      "Inputs shape: torch.Size([32, 3, 224, 224]), Labels shape: torch.Size([32, 20])\n",
      "Inputs shape: torch.Size([32, 3, 224, 224]), Labels shape: torch.Size([32, 20])\n",
      "Inputs shape: torch.Size([32, 3, 224, 224]), Labels shape: torch.Size([32, 20])\n",
      "Inputs shape: torch.Size([32, 3, 224, 224]), Labels shape: torch.Size([32, 20])\n",
      "Inputs shape: torch.Size([32, 3, 224, 224]), Labels shape: torch.Size([32, 20])\n",
      "Inputs shape: torch.Size([32, 3, 224, 224]), Labels shape: torch.Size([32, 20])\n",
      "Inputs shape: torch.Size([32, 3, 224, 224]), Labels shape: torch.Size([32, 20])\n",
      "Inputs shape: torch.Size([32, 3, 224, 224]), Labels shape: torch.Size([32, 20])\n",
      "Inputs shape: torch.Size([32, 3, 224, 224]), Labels shape: torch.Size([32, 20])\n",
      "Inputs shape: torch.Size([32, 3, 224, 224]), Labels shape: torch.Size([32, 20])\n",
      "Inputs shape: torch.Size([32, 3, 224, 224]), Labels shape: torch.Size([32, 20])\n",
      "Inputs shape: torch.Size([32, 3, 224, 224]), Labels shape: torch.Size([32, 20])\n",
      "Inputs shape: torch.Size([32, 3, 224, 224]), Labels shape: torch.Size([32, 20])\n",
      "Inputs shape: torch.Size([32, 3, 224, 224]), Labels shape: torch.Size([32, 20])\n",
      "Inputs shape: torch.Size([32, 3, 224, 224]), Labels shape: torch.Size([32, 20])\n",
      "Inputs shape: torch.Size([32, 3, 224, 224]), Labels shape: torch.Size([32, 20])\n",
      "Inputs shape: torch.Size([32, 3, 224, 224]), Labels shape: torch.Size([32, 20])\n",
      "Inputs shape: torch.Size([32, 3, 224, 224]), Labels shape: torch.Size([32, 20])\n",
      "Inputs shape: torch.Size([32, 3, 224, 224]), Labels shape: torch.Size([32, 20])\n",
      "Inputs shape: torch.Size([32, 3, 224, 224]), Labels shape: torch.Size([32, 20])\n",
      "Inputs shape: torch.Size([32, 3, 224, 224]), Labels shape: torch.Size([32, 20])\n",
      "Inputs shape: torch.Size([32, 3, 224, 224]), Labels shape: torch.Size([32, 20])\n",
      "Inputs shape: torch.Size([32, 3, 224, 224]), Labels shape: torch.Size([32, 20])\n",
      "Inputs shape: torch.Size([32, 3, 224, 224]), Labels shape: torch.Size([32, 20])\n",
      "Inputs shape: torch.Size([32, 3, 224, 224]), Labels shape: torch.Size([32, 20])\n",
      "Inputs shape: torch.Size([32, 3, 224, 224]), Labels shape: torch.Size([32, 20])\n",
      "Inputs shape: torch.Size([32, 3, 224, 224]), Labels shape: torch.Size([32, 20])\n",
      "Inputs shape: torch.Size([32, 3, 224, 224]), Labels shape: torch.Size([32, 20])\n",
      "Inputs shape: torch.Size([32, 3, 224, 224]), Labels shape: torch.Size([32, 20])\n",
      "Inputs shape: torch.Size([32, 3, 224, 224]), Labels shape: torch.Size([32, 20])\n",
      "Inputs shape: torch.Size([32, 3, 224, 224]), Labels shape: torch.Size([32, 20])\n",
      "Inputs shape: torch.Size([32, 3, 224, 224]), Labels shape: torch.Size([32, 20])\n",
      "Inputs shape: torch.Size([32, 3, 224, 224]), Labels shape: torch.Size([32, 20])\n",
      "Inputs shape: torch.Size([32, 3, 224, 224]), Labels shape: torch.Size([32, 20])\n",
      "Inputs shape: torch.Size([32, 3, 224, 224]), Labels shape: torch.Size([32, 20])\n",
      "Inputs shape: torch.Size([32, 3, 224, 224]), Labels shape: torch.Size([32, 20])\n",
      "Inputs shape: torch.Size([32, 3, 224, 224]), Labels shape: torch.Size([32, 20])\n",
      "Inputs shape: torch.Size([32, 3, 224, 224]), Labels shape: torch.Size([32, 20])\n",
      "Inputs shape: torch.Size([32, 3, 224, 224]), Labels shape: torch.Size([32, 20])\n",
      "Inputs shape: torch.Size([32, 3, 224, 224]), Labels shape: torch.Size([32, 20])\n",
      "Inputs shape: torch.Size([32, 3, 224, 224]), Labels shape: torch.Size([32, 20])\n",
      "Inputs shape: torch.Size([32, 3, 224, 224]), Labels shape: torch.Size([32, 20])\n",
      "Inputs shape: torch.Size([32, 3, 224, 224]), Labels shape: torch.Size([32, 20])\n",
      "Inputs shape: torch.Size([32, 3, 224, 224]), Labels shape: torch.Size([32, 20])\n",
      "Inputs shape: torch.Size([32, 3, 224, 224]), Labels shape: torch.Size([32, 20])\n",
      "Inputs shape: torch.Size([32, 3, 224, 224]), Labels shape: torch.Size([32, 20])\n",
      "Inputs shape: torch.Size([32, 3, 224, 224]), Labels shape: torch.Size([32, 20])\n",
      "Inputs shape: torch.Size([32, 3, 224, 224]), Labels shape: torch.Size([32, 20])\n",
      "Inputs shape: torch.Size([32, 3, 224, 224]), Labels shape: torch.Size([32, 20])\n",
      "Inputs shape: torch.Size([32, 3, 224, 224]), Labels shape: torch.Size([32, 20])\n",
      "Inputs shape: torch.Size([32, 3, 224, 224]), Labels shape: torch.Size([32, 20])\n",
      "Inputs shape: torch.Size([32, 3, 224, 224]), Labels shape: torch.Size([32, 20])\n",
      "Inputs shape: torch.Size([32, 3, 224, 224]), Labels shape: torch.Size([32, 20])\n",
      "Inputs shape: torch.Size([32, 3, 224, 224]), Labels shape: torch.Size([32, 20])\n",
      "Inputs shape: torch.Size([32, 3, 224, 224]), Labels shape: torch.Size([32, 20])\n",
      "Inputs shape: torch.Size([32, 3, 224, 224]), Labels shape: torch.Size([32, 20])\n",
      "Inputs shape: torch.Size([32, 3, 224, 224]), Labels shape: torch.Size([32, 20])\n",
      "Inputs shape: torch.Size([32, 3, 224, 224]), Labels shape: torch.Size([32, 20])\n",
      "Inputs shape: torch.Size([32, 3, 224, 224]), Labels shape: torch.Size([32, 20])\n",
      "Inputs shape: torch.Size([32, 3, 224, 224]), Labels shape: torch.Size([32, 20])\n",
      "Inputs shape: torch.Size([32, 3, 224, 224]), Labels shape: torch.Size([32, 20])\n",
      "Inputs shape: torch.Size([32, 3, 224, 224]), Labels shape: torch.Size([32, 20])\n",
      "Inputs shape: torch.Size([32, 3, 224, 224]), Labels shape: torch.Size([32, 20])\n",
      "Inputs shape: torch.Size([32, 3, 224, 224]), Labels shape: torch.Size([32, 20])\n",
      "Inputs shape: torch.Size([32, 3, 224, 224]), Labels shape: torch.Size([32, 20])\n",
      "Inputs shape: torch.Size([32, 3, 224, 224]), Labels shape: torch.Size([32, 20])\n",
      "Inputs shape: torch.Size([32, 3, 224, 224]), Labels shape: torch.Size([32, 20])\n",
      "Inputs shape: torch.Size([32, 3, 224, 224]), Labels shape: torch.Size([32, 20])\n",
      "Inputs shape: torch.Size([32, 3, 224, 224]), Labels shape: torch.Size([32, 20])\n",
      "Inputs shape: torch.Size([32, 3, 224, 224]), Labels shape: torch.Size([32, 20])\n",
      "Inputs shape: torch.Size([32, 3, 224, 224]), Labels shape: torch.Size([32, 20])\n",
      "Inputs shape: torch.Size([32, 3, 224, 224]), Labels shape: torch.Size([32, 20])\n",
      "Inputs shape: torch.Size([32, 3, 224, 224]), Labels shape: torch.Size([32, 20])\n",
      "Inputs shape: torch.Size([32, 3, 224, 224]), Labels shape: torch.Size([32, 20])\n",
      "Inputs shape: torch.Size([32, 3, 224, 224]), Labels shape: torch.Size([32, 20])\n",
      "Inputs shape: torch.Size([32, 3, 224, 224]), Labels shape: torch.Size([32, 20])\n",
      "Inputs shape: torch.Size([32, 3, 224, 224]), Labels shape: torch.Size([32, 20])\n",
      "Inputs shape: torch.Size([32, 3, 224, 224]), Labels shape: torch.Size([32, 20])\n",
      "Inputs shape: torch.Size([32, 3, 224, 224]), Labels shape: torch.Size([32, 20])\n",
      "Inputs shape: torch.Size([32, 3, 224, 224]), Labels shape: torch.Size([32, 20])\n",
      "Inputs shape: torch.Size([32, 3, 224, 224]), Labels shape: torch.Size([32, 20])\n",
      "Inputs shape: torch.Size([32, 3, 224, 224]), Labels shape: torch.Size([32, 20])\n",
      "Inputs shape: torch.Size([32, 3, 224, 224]), Labels shape: torch.Size([32, 20])\n",
      "Inputs shape: torch.Size([32, 3, 224, 224]), Labels shape: torch.Size([32, 20])\n",
      "Inputs shape: torch.Size([32, 3, 224, 224]), Labels shape: torch.Size([32, 20])\n",
      "Inputs shape: torch.Size([32, 3, 224, 224]), Labels shape: torch.Size([32, 20])\n",
      "Inputs shape: torch.Size([32, 3, 224, 224]), Labels shape: torch.Size([32, 20])\n",
      "Inputs shape: torch.Size([32, 3, 224, 224]), Labels shape: torch.Size([32, 20])\n",
      "Inputs shape: torch.Size([32, 3, 224, 224]), Labels shape: torch.Size([32, 20])\n",
      "Inputs shape: torch.Size([32, 3, 224, 224]), Labels shape: torch.Size([32, 20])\n",
      "Inputs shape: torch.Size([32, 3, 224, 224]), Labels shape: torch.Size([32, 20])\n",
      "Inputs shape: torch.Size([32, 3, 224, 224]), Labels shape: torch.Size([32, 20])\n",
      "Inputs shape: torch.Size([32, 3, 224, 224]), Labels shape: torch.Size([32, 20])\n",
      "Inputs shape: torch.Size([32, 3, 224, 224]), Labels shape: torch.Size([32, 20])\n",
      "Inputs shape: torch.Size([32, 3, 224, 224]), Labels shape: torch.Size([32, 20])\n",
      "Inputs shape: torch.Size([32, 3, 224, 224]), Labels shape: torch.Size([32, 20])\n",
      "Inputs shape: torch.Size([32, 3, 224, 224]), Labels shape: torch.Size([32, 20])\n",
      "Inputs shape: torch.Size([32, 3, 224, 224]), Labels shape: torch.Size([32, 20])\n",
      "Inputs shape: torch.Size([32, 3, 224, 224]), Labels shape: torch.Size([32, 20])\n",
      "Inputs shape: torch.Size([32, 3, 224, 224]), Labels shape: torch.Size([32, 20])\n",
      "Inputs shape: torch.Size([32, 3, 224, 224]), Labels shape: torch.Size([32, 20])\n",
      "Inputs shape: torch.Size([32, 3, 224, 224]), Labels shape: torch.Size([32, 20])\n",
      "Inputs shape: torch.Size([32, 3, 224, 224]), Labels shape: torch.Size([32, 20])\n",
      "Inputs shape: torch.Size([32, 3, 224, 224]), Labels shape: torch.Size([32, 20])\n",
      "Inputs shape: torch.Size([32, 3, 224, 224]), Labels shape: torch.Size([32, 20])\n",
      "Inputs shape: torch.Size([32, 3, 224, 224]), Labels shape: torch.Size([32, 20])\n",
      "Inputs shape: torch.Size([32, 3, 224, 224]), Labels shape: torch.Size([32, 20])\n",
      "Inputs shape: torch.Size([32, 3, 224, 224]), Labels shape: torch.Size([32, 20])\n",
      "Inputs shape: torch.Size([32, 3, 224, 224]), Labels shape: torch.Size([32, 20])\n",
      "Inputs shape: torch.Size([32, 3, 224, 224]), Labels shape: torch.Size([32, 20])\n",
      "Inputs shape: torch.Size([32, 3, 224, 224]), Labels shape: torch.Size([32, 20])\n",
      "Inputs shape: torch.Size([32, 3, 224, 224]), Labels shape: torch.Size([32, 20])\n",
      "Inputs shape: torch.Size([32, 3, 224, 224]), Labels shape: torch.Size([32, 20])\n",
      "Inputs shape: torch.Size([32, 3, 224, 224]), Labels shape: torch.Size([32, 20])\n",
      "Inputs shape: torch.Size([32, 3, 224, 224]), Labels shape: torch.Size([32, 20])\n",
      "Inputs shape: torch.Size([32, 3, 224, 224]), Labels shape: torch.Size([32, 20])\n",
      "Inputs shape: torch.Size([32, 3, 224, 224]), Labels shape: torch.Size([32, 20])\n",
      "Inputs shape: torch.Size([32, 3, 224, 224]), Labels shape: torch.Size([32, 20])\n",
      "Inputs shape: torch.Size([32, 3, 224, 224]), Labels shape: torch.Size([32, 20])\n",
      "Inputs shape: torch.Size([32, 3, 224, 224]), Labels shape: torch.Size([32, 20])\n",
      "Inputs shape: torch.Size([32, 3, 224, 224]), Labels shape: torch.Size([32, 20])\n",
      "Inputs shape: torch.Size([32, 3, 224, 224]), Labels shape: torch.Size([32, 20])\n",
      "Inputs shape: torch.Size([32, 3, 224, 224]), Labels shape: torch.Size([32, 20])\n",
      "Inputs shape: torch.Size([32, 3, 224, 224]), Labels shape: torch.Size([32, 20])\n",
      "Inputs shape: torch.Size([32, 3, 224, 224]), Labels shape: torch.Size([32, 20])\n",
      "Inputs shape: torch.Size([32, 3, 224, 224]), Labels shape: torch.Size([32, 20])\n",
      "Inputs shape: torch.Size([32, 3, 224, 224]), Labels shape: torch.Size([32, 20])\n",
      "Inputs shape: torch.Size([32, 3, 224, 224]), Labels shape: torch.Size([32, 20])\n",
      "Inputs shape: torch.Size([32, 3, 224, 224]), Labels shape: torch.Size([32, 20])\n",
      "Inputs shape: torch.Size([32, 3, 224, 224]), Labels shape: torch.Size([32, 20])\n",
      "Inputs shape: torch.Size([32, 3, 224, 224]), Labels shape: torch.Size([32, 20])\n",
      "Inputs shape: torch.Size([32, 3, 224, 224]), Labels shape: torch.Size([32, 20])\n",
      "Inputs shape: torch.Size([32, 3, 224, 224]), Labels shape: torch.Size([32, 20])\n",
      "Inputs shape: torch.Size([32, 3, 224, 224]), Labels shape: torch.Size([32, 20])\n",
      "Inputs shape: torch.Size([32, 3, 224, 224]), Labels shape: torch.Size([32, 20])\n",
      "Inputs shape: torch.Size([32, 3, 224, 224]), Labels shape: torch.Size([32, 20])\n",
      "Inputs shape: torch.Size([32, 3, 224, 224]), Labels shape: torch.Size([32, 20])\n",
      "Inputs shape: torch.Size([32, 3, 224, 224]), Labels shape: torch.Size([32, 20])\n",
      "Inputs shape: torch.Size([32, 3, 224, 224]), Labels shape: torch.Size([32, 20])\n",
      "Inputs shape: torch.Size([32, 3, 224, 224]), Labels shape: torch.Size([32, 20])\n",
      "Inputs shape: torch.Size([32, 3, 224, 224]), Labels shape: torch.Size([32, 20])\n",
      "Inputs shape: torch.Size([32, 3, 224, 224]), Labels shape: torch.Size([32, 20])\n",
      "Inputs shape: torch.Size([32, 3, 224, 224]), Labels shape: torch.Size([32, 20])\n",
      "Inputs shape: torch.Size([32, 3, 224, 224]), Labels shape: torch.Size([32, 20])\n",
      "Inputs shape: torch.Size([32, 3, 224, 224]), Labels shape: torch.Size([32, 20])\n",
      "Inputs shape: torch.Size([32, 3, 224, 224]), Labels shape: torch.Size([32, 20])\n",
      "Inputs shape: torch.Size([32, 3, 224, 224]), Labels shape: torch.Size([32, 20])\n",
      "Inputs shape: torch.Size([32, 3, 224, 224]), Labels shape: torch.Size([32, 20])\n",
      "Inputs shape: torch.Size([32, 3, 224, 224]), Labels shape: torch.Size([32, 20])\n",
      "Inputs shape: torch.Size([32, 3, 224, 224]), Labels shape: torch.Size([32, 20])\n",
      "Inputs shape: torch.Size([32, 3, 224, 224]), Labels shape: torch.Size([32, 20])\n",
      "Inputs shape: torch.Size([32, 3, 224, 224]), Labels shape: torch.Size([32, 20])\n",
      "Inputs shape: torch.Size([32, 3, 224, 224]), Labels shape: torch.Size([32, 20])\n",
      "Inputs shape: torch.Size([32, 3, 224, 224]), Labels shape: torch.Size([32, 20])\n",
      "Inputs shape: torch.Size([32, 3, 224, 224]), Labels shape: torch.Size([32, 20])\n",
      "Inputs shape: torch.Size([32, 3, 224, 224]), Labels shape: torch.Size([32, 20])\n",
      "Inputs shape: torch.Size([32, 3, 224, 224]), Labels shape: torch.Size([32, 20])\n",
      "Inputs shape: torch.Size([32, 3, 224, 224]), Labels shape: torch.Size([32, 20])\n",
      "Inputs shape: torch.Size([32, 3, 224, 224]), Labels shape: torch.Size([32, 20])\n",
      "Inputs shape: torch.Size([32, 3, 224, 224]), Labels shape: torch.Size([32, 20])\n",
      "Inputs shape: torch.Size([32, 3, 224, 224]), Labels shape: torch.Size([32, 20])\n",
      "Inputs shape: torch.Size([32, 3, 224, 224]), Labels shape: torch.Size([32, 20])\n",
      "Inputs shape: torch.Size([32, 3, 224, 224]), Labels shape: torch.Size([32, 20])\n",
      "Inputs shape: torch.Size([32, 3, 224, 224]), Labels shape: torch.Size([32, 20])\n",
      "Inputs shape: torch.Size([32, 3, 224, 224]), Labels shape: torch.Size([32, 20])\n",
      "Inputs shape: torch.Size([32, 3, 224, 224]), Labels shape: torch.Size([32, 20])\n",
      "Inputs shape: torch.Size([32, 3, 224, 224]), Labels shape: torch.Size([32, 20])\n",
      "Inputs shape: torch.Size([32, 3, 224, 224]), Labels shape: torch.Size([32, 20])\n",
      "Inputs shape: torch.Size([32, 3, 224, 224]), Labels shape: torch.Size([32, 20])\n",
      "Inputs shape: torch.Size([32, 3, 224, 224]), Labels shape: torch.Size([32, 20])\n",
      "Inputs shape: torch.Size([32, 3, 224, 224]), Labels shape: torch.Size([32, 20])\n",
      "Inputs shape: torch.Size([32, 3, 224, 224]), Labels shape: torch.Size([32, 20])\n",
      "Inputs shape: torch.Size([32, 3, 224, 224]), Labels shape: torch.Size([32, 20])\n",
      "Inputs shape: torch.Size([32, 3, 224, 224]), Labels shape: torch.Size([32, 20])\n",
      "Inputs shape: torch.Size([32, 3, 224, 224]), Labels shape: torch.Size([32, 20])\n",
      "Inputs shape: torch.Size([32, 3, 224, 224]), Labels shape: torch.Size([32, 20])\n",
      "Inputs shape: torch.Size([32, 3, 224, 224]), Labels shape: torch.Size([32, 20])\n",
      "Inputs shape: torch.Size([32, 3, 224, 224]), Labels shape: torch.Size([32, 20])\n",
      "Inputs shape: torch.Size([32, 3, 224, 224]), Labels shape: torch.Size([32, 20])\n",
      "Inputs shape: torch.Size([32, 3, 224, 224]), Labels shape: torch.Size([32, 20])\n",
      "Inputs shape: torch.Size([32, 3, 224, 224]), Labels shape: torch.Size([32, 20])\n",
      "Inputs shape: torch.Size([32, 3, 224, 224]), Labels shape: torch.Size([32, 20])\n",
      "Inputs shape: torch.Size([32, 3, 224, 224]), Labels shape: torch.Size([32, 20])\n",
      "Inputs shape: torch.Size([32, 3, 224, 224]), Labels shape: torch.Size([32, 20])\n",
      "Inputs shape: torch.Size([32, 3, 224, 224]), Labels shape: torch.Size([32, 20])\n",
      "Inputs shape: torch.Size([32, 3, 224, 224]), Labels shape: torch.Size([32, 20])\n",
      "Inputs shape: torch.Size([32, 3, 224, 224]), Labels shape: torch.Size([32, 20])\n",
      "Inputs shape: torch.Size([32, 3, 224, 224]), Labels shape: torch.Size([32, 20])\n",
      "Inputs shape: torch.Size([32, 3, 224, 224]), Labels shape: torch.Size([32, 20])\n",
      "Inputs shape: torch.Size([32, 3, 224, 224]), Labels shape: torch.Size([32, 20])\n",
      "Inputs shape: torch.Size([32, 3, 224, 224]), Labels shape: torch.Size([32, 20])\n",
      "Inputs shape: torch.Size([32, 3, 224, 224]), Labels shape: torch.Size([32, 20])\n",
      "Inputs shape: torch.Size([32, 3, 224, 224]), Labels shape: torch.Size([32, 20])\n",
      "Inputs shape: torch.Size([32, 3, 224, 224]), Labels shape: torch.Size([32, 20])\n",
      "Inputs shape: torch.Size([32, 3, 224, 224]), Labels shape: torch.Size([32, 20])\n",
      "Inputs shape: torch.Size([32, 3, 224, 224]), Labels shape: torch.Size([32, 20])\n",
      "Inputs shape: torch.Size([32, 3, 224, 224]), Labels shape: torch.Size([32, 20])\n",
      "Inputs shape: torch.Size([32, 3, 224, 224]), Labels shape: torch.Size([32, 20])\n",
      "Inputs shape: torch.Size([32, 3, 224, 224]), Labels shape: torch.Size([32, 20])\n",
      "Inputs shape: torch.Size([32, 3, 224, 224]), Labels shape: torch.Size([32, 20])\n",
      "Inputs shape: torch.Size([32, 3, 224, 224]), Labels shape: torch.Size([32, 20])\n",
      "Inputs shape: torch.Size([32, 3, 224, 224]), Labels shape: torch.Size([32, 20])\n",
      "Inputs shape: torch.Size([32, 3, 224, 224]), Labels shape: torch.Size([32, 20])\n",
      "Inputs shape: torch.Size([32, 3, 224, 224]), Labels shape: torch.Size([32, 20])\n",
      "Inputs shape: torch.Size([32, 3, 224, 224]), Labels shape: torch.Size([32, 20])\n",
      "Inputs shape: torch.Size([32, 3, 224, 224]), Labels shape: torch.Size([32, 20])\n",
      "Inputs shape: torch.Size([32, 3, 224, 224]), Labels shape: torch.Size([32, 20])\n",
      "Inputs shape: torch.Size([32, 3, 224, 224]), Labels shape: torch.Size([32, 20])\n",
      "Inputs shape: torch.Size([32, 3, 224, 224]), Labels shape: torch.Size([32, 20])\n",
      "Inputs shape: torch.Size([32, 3, 224, 224]), Labels shape: torch.Size([32, 20])\n",
      "Inputs shape: torch.Size([32, 3, 224, 224]), Labels shape: torch.Size([32, 20])\n",
      "Inputs shape: torch.Size([32, 3, 224, 224]), Labels shape: torch.Size([32, 20])\n",
      "Inputs shape: torch.Size([32, 3, 224, 224]), Labels shape: torch.Size([32, 20])\n",
      "Inputs shape: torch.Size([32, 3, 224, 224]), Labels shape: torch.Size([32, 20])\n",
      "Inputs shape: torch.Size([32, 3, 224, 224]), Labels shape: torch.Size([32, 20])\n",
      "Inputs shape: torch.Size([32, 3, 224, 224]), Labels shape: torch.Size([32, 20])\n",
      "Inputs shape: torch.Size([32, 3, 224, 224]), Labels shape: torch.Size([32, 20])\n",
      "Inputs shape: torch.Size([32, 3, 224, 224]), Labels shape: torch.Size([32, 20])\n",
      "Inputs shape: torch.Size([32, 3, 224, 224]), Labels shape: torch.Size([32, 20])\n",
      "Inputs shape: torch.Size([32, 3, 224, 224]), Labels shape: torch.Size([32, 20])\n",
      "Inputs shape: torch.Size([32, 3, 224, 224]), Labels shape: torch.Size([32, 20])\n",
      "Inputs shape: torch.Size([32, 3, 224, 224]), Labels shape: torch.Size([32, 20])\n",
      "Inputs shape: torch.Size([32, 3, 224, 224]), Labels shape: torch.Size([32, 20])\n",
      "Inputs shape: torch.Size([32, 3, 224, 224]), Labels shape: torch.Size([32, 20])\n",
      "Inputs shape: torch.Size([32, 3, 224, 224]), Labels shape: torch.Size([32, 20])\n",
      "Inputs shape: torch.Size([32, 3, 224, 224]), Labels shape: torch.Size([32, 20])\n",
      "Inputs shape: torch.Size([32, 3, 224, 224]), Labels shape: torch.Size([32, 20])\n",
      "Inputs shape: torch.Size([32, 3, 224, 224]), Labels shape: torch.Size([32, 20])\n",
      "Inputs shape: torch.Size([32, 3, 224, 224]), Labels shape: torch.Size([32, 20])\n",
      "Inputs shape: torch.Size([32, 3, 224, 224]), Labels shape: torch.Size([32, 20])\n",
      "Inputs shape: torch.Size([32, 3, 224, 224]), Labels shape: torch.Size([32, 20])\n",
      "Inputs shape: torch.Size([32, 3, 224, 224]), Labels shape: torch.Size([32, 20])\n",
      "Inputs shape: torch.Size([32, 3, 224, 224]), Labels shape: torch.Size([32, 20])\n",
      "Inputs shape: torch.Size([32, 3, 224, 224]), Labels shape: torch.Size([32, 20])\n",
      "Inputs shape: torch.Size([32, 3, 224, 224]), Labels shape: torch.Size([32, 20])\n",
      "Inputs shape: torch.Size([32, 3, 224, 224]), Labels shape: torch.Size([32, 20])\n",
      "Inputs shape: torch.Size([32, 3, 224, 224]), Labels shape: torch.Size([32, 20])\n",
      "Inputs shape: torch.Size([32, 3, 224, 224]), Labels shape: torch.Size([32, 20])\n",
      "Inputs shape: torch.Size([32, 3, 224, 224]), Labels shape: torch.Size([32, 20])\n",
      "Inputs shape: torch.Size([32, 3, 224, 224]), Labels shape: torch.Size([32, 20])\n",
      "Inputs shape: torch.Size([32, 3, 224, 224]), Labels shape: torch.Size([32, 20])\n",
      "Inputs shape: torch.Size([32, 3, 224, 224]), Labels shape: torch.Size([32, 20])\n",
      "Inputs shape: torch.Size([32, 3, 224, 224]), Labels shape: torch.Size([32, 20])\n",
      "Inputs shape: torch.Size([32, 3, 224, 224]), Labels shape: torch.Size([32, 20])\n",
      "Inputs shape: torch.Size([32, 3, 224, 224]), Labels shape: torch.Size([32, 20])\n",
      "Inputs shape: torch.Size([32, 3, 224, 224]), Labels shape: torch.Size([32, 20])\n",
      "Inputs shape: torch.Size([32, 3, 224, 224]), Labels shape: torch.Size([32, 20])\n",
      "Inputs shape: torch.Size([32, 3, 224, 224]), Labels shape: torch.Size([32, 20])\n",
      "Inputs shape: torch.Size([32, 3, 224, 224]), Labels shape: torch.Size([32, 20])\n",
      "Inputs shape: torch.Size([32, 3, 224, 224]), Labels shape: torch.Size([32, 20])\n",
      "Inputs shape: torch.Size([32, 3, 224, 224]), Labels shape: torch.Size([32, 20])\n",
      "Inputs shape: torch.Size([32, 3, 224, 224]), Labels shape: torch.Size([32, 20])\n",
      "Inputs shape: torch.Size([32, 3, 224, 224]), Labels shape: torch.Size([32, 20])\n",
      "Inputs shape: torch.Size([32, 3, 224, 224]), Labels shape: torch.Size([32, 20])\n",
      "Inputs shape: torch.Size([32, 3, 224, 224]), Labels shape: torch.Size([32, 20])\n",
      "Inputs shape: torch.Size([32, 3, 224, 224]), Labels shape: torch.Size([32, 20])\n",
      "Inputs shape: torch.Size([25, 3, 224, 224]), Labels shape: torch.Size([32, 20])\n",
      "Accuracy: 51.61%\n",
      "Precision: 8.31%\n",
      "Recall: 54.95%\n",
      "F1 Score: 14.44%\n"
     ]
    }
   ],
   "source": [
    "# Evaluate on the eval set\n",
    "accuracies, precisions, recalls, f1_scores = evaluate_model(resnet18, test_loader, 5, device=device)"
   ]
  }
 ],
 "metadata": {
  "kernelspec": {
   "display_name": "venv",
   "language": "python",
   "name": "python3"
  },
  "language_info": {
   "codemirror_mode": {
    "name": "ipython",
    "version": 3
   },
   "file_extension": ".py",
   "mimetype": "text/x-python",
   "name": "python",
   "nbconvert_exporter": "python",
   "pygments_lexer": "ipython3",
   "version": "3.11.3"
  }
 },
 "nbformat": 4,
 "nbformat_minor": 2
}
