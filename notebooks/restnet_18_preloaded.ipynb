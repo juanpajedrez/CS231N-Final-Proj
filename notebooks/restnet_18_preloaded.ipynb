{
 "cells": [
  {
   "cell_type": "markdown",
   "metadata": {},
   "source": [
    "### Resnet18 Pre trained to test\n",
    "This jupyter notebook has the objective to retrieve a finetuned resnet18 with out CXR dataset, but to obtian also the layer features."
   ]
  },
  {
   "cell_type": "code",
   "execution_count": 24,
   "metadata": {},
   "outputs": [],
   "source": [
    " #Import necessary modules\n",
    "import numpy as np\n",
    "import os\n",
    "import matplotlib.pyplot as plt\n",
    "import torch\n",
    "import torch.nn as nn\n",
    "import torchvision.models as models\n",
    "from torch.utils.data import DataLoader\n",
    "from torch.utils.data import RandomSampler\n",
    "from torchvision import transforms\n",
    "plt.rcParams['figure.figsize'] = [20, 12]"
   ]
  },
  {
   "cell_type": "markdown",
   "metadata": {},
   "source": [
    "### Set the path to here\n",
    "\n",
    "Make sure the setup the paths properly!"
   ]
  },
  {
   "cell_type": "code",
   "execution_count": 25,
   "metadata": {},
   "outputs": [
    {
     "name": "stdout",
     "output_type": "stream",
     "text": [
      "/project/cs231/CS231N-Final-Proj/notebooks\n"
     ]
    }
   ],
   "source": [
    "#Path to assign tests (copy path directly)\n",
    "notebooks_path = os.getcwd() # OR MAYBE has to be set manually depending your computer\n",
    "\n",
    "#Set the path to this working directory\n",
    "os.chdir(notebooks_path)\n",
    "print(os.getcwd())\n",
    "\n",
    "import sys\n",
    "#Append the path the src folder\n",
    "sys.path.append(os.path.join(os.getcwd(), os.pardir, \"src\"))"
   ]
  },
  {
   "cell_type": "markdown",
   "metadata": {},
   "source": [
    "### Import the necessary module for downloading\n",
    "\n",
    "Note for this: EVERYTIME There is a change inside the download <br>\n",
    "the changes inside the file would only be shown if the jupyter kernel is restarted. <br>\n"
   ]
  },
  {
   "cell_type": "code",
   "execution_count": 26,
   "metadata": {},
   "outputs": [],
   "source": [
    "# Import the necessary modules\n",
    "from utils import CXReader, DfReader"
   ]
  },
  {
   "cell_type": "markdown",
   "metadata": {},
   "source": [
    "### Set the data path"
   ]
  },
  {
   "cell_type": "code",
   "execution_count": 27,
   "metadata": {},
   "outputs": [],
   "source": [
    "# Create the data path\n",
    "df_path = os.path.join(notebooks_path, os.pardir, \"data\")\n",
    "data_path = os.path.join(df_path, \"images\", \"images\")"
   ]
  },
  {
   "cell_type": "markdown",
   "metadata": {},
   "source": [
    "### Get the dataframes of the data\n",
    "First, lets obtain the dataframes for the data and check that all metadata <br>\n",
    "information has been set up properly. <br>"
   ]
  },
  {
   "cell_type": "code",
   "execution_count": 28,
   "metadata": {},
   "outputs": [
    {
     "name": "stderr",
     "output_type": "stream",
     "text": [
      "  0%|          | 0/5 [00:00<?, ?it/s]"
     ]
    },
    {
     "name": "stdout",
     "output_type": "stream",
     "text": [
      "The file: miccai2023_nih-cxr-lt_labels_val.csv has been retrieved\n",
      "The file: miccai2023_nih-cxr-lt_labels_test.csv has been retrieved\n"
     ]
    },
    {
     "name": "stderr",
     "output_type": "stream",
     "text": [
      "100%|██████████| 5/5 [00:00<00:00, 24.67it/s]"
     ]
    },
    {
     "name": "stdout",
     "output_type": "stream",
     "text": [
      "The file: miccai2023_nih-cxr-lt_labels_train.csv has been retrieved\n"
     ]
    },
    {
     "name": "stderr",
     "output_type": "stream",
     "text": [
      "\n"
     ]
    }
   ],
   "source": [
    "#Create a dataframe compiler\n",
    "df_compiler = DfReader()\n",
    "\n",
    "#set the path and retrieve the dataframes\n",
    "df_compiler.set_folder_path(df_path)\n",
    "\n",
    "#Get the dataframe holder and names\n",
    "dfs_holder, dfs_names = df_compiler.get_dfs()"
   ]
  },
  {
   "cell_type": "markdown",
   "metadata": {},
   "source": [
    "# Read the images and labels\n",
    "\n",
    "Also, obtain DataLoaders for test, train, and validation datasets using <br>\n",
    "the Dataloader class from pytorch."
   ]
  },
  {
   "cell_type": "code",
   "execution_count": 29,
   "metadata": {},
   "outputs": [
    {
     "name": "stdout",
     "output_type": "stream",
     "text": [
      "True\n"
     ]
    }
   ],
   "source": [
    "print(torch.cuda.is_available())"
   ]
  },
  {
   "cell_type": "code",
   "execution_count": 30,
   "metadata": {},
   "outputs": [
    {
     "name": "stdout",
     "output_type": "stream",
     "text": [
      "Shape of a single image and its labels\n",
      "Image: torch.Size([3, 224, 224]), labels: torch.Size([14])\n",
      "batch number: 0\n",
      "Shape of batch of images and labels\n",
      "Images: torch.Size([32, 3, 224, 224]), labels: torch.Size([32, 14])\n",
      "batch number: 1\n",
      "Shape of batch of images and labels\n",
      "Images: torch.Size([32, 3, 224, 224]), labels: torch.Size([32, 14])\n",
      "batch number: 2\n",
      "Shape of batch of images and labels\n",
      "Images: torch.Size([32, 3, 224, 224]), labels: torch.Size([32, 14])\n",
      "batch number: 3\n",
      "Shape of batch of images and labels\n",
      "Images: torch.Size([32, 3, 224, 224]), labels: torch.Size([32, 14])\n",
      "batch number: 4\n",
      "Shape of batch of images and labels\n",
      "Images: torch.Size([32, 3, 224, 224]), labels: torch.Size([32, 14])\n",
      "batch number: 5\n",
      "Shape of batch of images and labels\n",
      "Images: torch.Size([32, 3, 224, 224]), labels: torch.Size([32, 14])\n",
      "It can iterate through all batches\n"
     ]
    }
   ],
   "source": [
    "# Get the device if cuda or not\n",
    "device = torch.device(\"cuda\" if torch.cuda.is_available() else \"cpu\")\n",
    "\n",
    "#Define a transformations for the VGGnet16 (requires a 224,224)\n",
    "transform = transforms.Compose([\n",
    "    transforms.Resize((224, 224)),  # Resize to 256x256\n",
    "    #transforms.CenterCrop((224, 224)),  # Center crop to 224x224\n",
    "    transforms.ToTensor(),\n",
    "    transforms.Normalize(mean = [0.485, 0.456, 0.406], std=[0.229, 0.224, 0.225])\n",
    "])\n",
    "\n",
    "#Create datasets and dataloaders\n",
    "test_dataset = CXReader(data_path=data_path, dataframe=dfs_holder[0], transform=transform, device=device)\n",
    "train_dataset = CXReader(data_path=data_path, dataframe=dfs_holder[1], transform=transform,device=device)\n",
    "val_dataset = CXReader(data_path=data_path, dataframe=dfs_holder[2], transform=transform, device=device)\n",
    "\n",
    "#Obtain the random sampler of the dataset\n",
    "test_sampler = RandomSampler(test_dataset)\n",
    "train_sampler = RandomSampler(train_dataset)\n",
    "val_sampler = RandomSampler(val_dataset)\n",
    "\n",
    "#Sampled images from train to see single shape\n",
    "samp3_image, label3 = train_dataset[1]\n",
    "print(\"Shape of a single image and its labels\")\n",
    "print(f\"Image: {samp3_image.shape}, labels: {label3.shape}\")\n",
    "\n",
    "#With batch size of 32, and shuffle true, and num workers = 4\n",
    "batch_size = 32\n",
    "\n",
    "train_loader = DataLoader(train_dataset, batch_size=batch_size, sampler=train_sampler)\n",
    "val_loader = DataLoader(val_dataset, batch_size=batch_size, sampler=val_sampler)\n",
    "test_loader = DataLoader(test_dataset, batch_size=batch_size, sampler=test_sampler)\n",
    "\n",
    "#Iterate inside a batch\n",
    "for idx, batch in enumerate(train_loader):\n",
    "    print(f\"batch number: {idx}\")\n",
    "    images, labels = batch\n",
    "    print(\"Shape of batch of images and labels\")\n",
    "    print(f\"Images: {images.shape}, labels: {labels.shape}\")\n",
    "    if idx == 5:\n",
    "        print(\"It can iterate through all batches\")\n",
    "        break"
   ]
  },
  {
   "cell_type": "markdown",
   "metadata": {},
   "source": [
    "### Load the restnet18 pretrained model\n",
    "\n",
    "Check if you have GPU Envidia! Else, use the cpu"
   ]
  },
  {
   "cell_type": "code",
   "execution_count": 31,
   "metadata": {},
   "outputs": [
    {
     "name": "stderr",
     "output_type": "stream",
     "text": [
      "/home/juan/.conda/envs/cs231n/lib/python3.12/site-packages/torchvision/models/_utils.py:208: UserWarning: The parameter 'pretrained' is deprecated since 0.13 and may be removed in the future, please use 'weights' instead.\n",
      "  warnings.warn(\n",
      "/home/juan/.conda/envs/cs231n/lib/python3.12/site-packages/torchvision/models/_utils.py:223: UserWarning: Arguments other than a weight enum or `None` for 'weights' are deprecated since 0.13 and may be removed in the future. The current behavior is equivalent to passing `weights=ResNet18_Weights.IMAGENET1K_V1`. You can also use `weights=ResNet18_Weights.DEFAULT` to get the most up-to-date weights.\n",
      "  warnings.warn(msg)\n"
     ]
    }
   ],
   "source": [
    "#Load the pretrained model\n",
    "resnet18 = models.resnet18(pretrained = True)"
   ]
  },
  {
   "cell_type": "markdown",
   "metadata": {},
   "source": [
    "### See the resnet18.conv1 to obtain the parameters"
   ]
  },
  {
   "cell_type": "code",
   "execution_count": 32,
   "metadata": {},
   "outputs": [
    {
     "name": "stdout",
     "output_type": "stream",
     "text": [
      "Conv2d(3, 64, kernel_size=(7, 7), stride=(2, 2), padding=(3, 3), bias=False)\n",
      "[torch.Size([64, 3, 7, 7])]\n"
     ]
    }
   ],
   "source": [
    "print(resnet18.conv1)\n",
    "print([x.shape for x in resnet18.conv1.parameters()])\n"
   ]
  },
  {
   "cell_type": "markdown",
   "metadata": {},
   "source": [
    "### See the resnet18.bn1 to obtain the parameters"
   ]
  },
  {
   "cell_type": "code",
   "execution_count": 33,
   "metadata": {},
   "outputs": [
    {
     "name": "stdout",
     "output_type": "stream",
     "text": [
      "BatchNorm2d(64, eps=1e-05, momentum=0.1, affine=True, track_running_stats=True)\n",
      "[torch.Size([64]), torch.Size([64])]\n"
     ]
    }
   ],
   "source": [
    "print(resnet18.bn1)\n",
    "print([x.shape for x in resnet18.bn1.parameters()])\n"
   ]
  },
  {
   "cell_type": "markdown",
   "metadata": {},
   "source": [
    "### See the resnet18.maxpool to obtain the parameters"
   ]
  },
  {
   "cell_type": "code",
   "execution_count": 34,
   "metadata": {},
   "outputs": [
    {
     "name": "stdout",
     "output_type": "stream",
     "text": [
      "MaxPool2d(kernel_size=3, stride=2, padding=1, dilation=1, ceil_mode=False)\n",
      "[]\n"
     ]
    }
   ],
   "source": [
    "print(resnet18.maxpool)\n",
    "print([x.shape for x in resnet18.maxpool.parameters()])"
   ]
  },
  {
   "cell_type": "markdown",
   "metadata": {},
   "source": [
    "### See the resnet18.layer1 to obtain the parameters"
   ]
  },
  {
   "cell_type": "code",
   "execution_count": 35,
   "metadata": {},
   "outputs": [
    {
     "name": "stdout",
     "output_type": "stream",
     "text": [
      "Sequential(\n",
      "  (0): BasicBlock(\n",
      "    (conv1): Conv2d(64, 64, kernel_size=(3, 3), stride=(1, 1), padding=(1, 1), bias=False)\n",
      "    (bn1): BatchNorm2d(64, eps=1e-05, momentum=0.1, affine=True, track_running_stats=True)\n",
      "    (relu): ReLU(inplace=True)\n",
      "    (conv2): Conv2d(64, 64, kernel_size=(3, 3), stride=(1, 1), padding=(1, 1), bias=False)\n",
      "    (bn2): BatchNorm2d(64, eps=1e-05, momentum=0.1, affine=True, track_running_stats=True)\n",
      "  )\n",
      "  (1): BasicBlock(\n",
      "    (conv1): Conv2d(64, 64, kernel_size=(3, 3), stride=(1, 1), padding=(1, 1), bias=False)\n",
      "    (bn1): BatchNorm2d(64, eps=1e-05, momentum=0.1, affine=True, track_running_stats=True)\n",
      "    (relu): ReLU(inplace=True)\n",
      "    (conv2): Conv2d(64, 64, kernel_size=(3, 3), stride=(1, 1), padding=(1, 1), bias=False)\n",
      "    (bn2): BatchNorm2d(64, eps=1e-05, momentum=0.1, affine=True, track_running_stats=True)\n",
      "  )\n",
      ")\n",
      "[torch.Size([64, 64, 3, 3]), torch.Size([64]), torch.Size([64]), torch.Size([64, 64, 3, 3]), torch.Size([64]), torch.Size([64]), torch.Size([64, 64, 3, 3]), torch.Size([64]), torch.Size([64]), torch.Size([64, 64, 3, 3]), torch.Size([64]), torch.Size([64])]\n"
     ]
    }
   ],
   "source": [
    "print(resnet18.layer1)\n",
    "print([x.shape for x in resnet18.layer1.parameters()])"
   ]
  },
  {
   "cell_type": "markdown",
   "metadata": {},
   "source": [
    "### See the resnet18.layer2 to obtain the parameters"
   ]
  },
  {
   "cell_type": "code",
   "execution_count": 36,
   "metadata": {},
   "outputs": [
    {
     "name": "stdout",
     "output_type": "stream",
     "text": [
      "Sequential(\n",
      "  (0): BasicBlock(\n",
      "    (conv1): Conv2d(64, 128, kernel_size=(3, 3), stride=(2, 2), padding=(1, 1), bias=False)\n",
      "    (bn1): BatchNorm2d(128, eps=1e-05, momentum=0.1, affine=True, track_running_stats=True)\n",
      "    (relu): ReLU(inplace=True)\n",
      "    (conv2): Conv2d(128, 128, kernel_size=(3, 3), stride=(1, 1), padding=(1, 1), bias=False)\n",
      "    (bn2): BatchNorm2d(128, eps=1e-05, momentum=0.1, affine=True, track_running_stats=True)\n",
      "    (downsample): Sequential(\n",
      "      (0): Conv2d(64, 128, kernel_size=(1, 1), stride=(2, 2), bias=False)\n",
      "      (1): BatchNorm2d(128, eps=1e-05, momentum=0.1, affine=True, track_running_stats=True)\n",
      "    )\n",
      "  )\n",
      "  (1): BasicBlock(\n",
      "    (conv1): Conv2d(128, 128, kernel_size=(3, 3), stride=(1, 1), padding=(1, 1), bias=False)\n",
      "    (bn1): BatchNorm2d(128, eps=1e-05, momentum=0.1, affine=True, track_running_stats=True)\n",
      "    (relu): ReLU(inplace=True)\n",
      "    (conv2): Conv2d(128, 128, kernel_size=(3, 3), stride=(1, 1), padding=(1, 1), bias=False)\n",
      "    (bn2): BatchNorm2d(128, eps=1e-05, momentum=0.1, affine=True, track_running_stats=True)\n",
      "  )\n",
      ")\n",
      "[torch.Size([128, 64, 3, 3]), torch.Size([128]), torch.Size([128]), torch.Size([128, 128, 3, 3]), torch.Size([128]), torch.Size([128]), torch.Size([128, 64, 1, 1]), torch.Size([128]), torch.Size([128]), torch.Size([128, 128, 3, 3]), torch.Size([128]), torch.Size([128]), torch.Size([128, 128, 3, 3]), torch.Size([128]), torch.Size([128])]\n"
     ]
    }
   ],
   "source": [
    "print(resnet18.layer2)\n",
    "print([x.shape for x in resnet18.layer2.parameters()])"
   ]
  },
  {
   "cell_type": "markdown",
   "metadata": {},
   "source": [
    "### See the resnet18.layer3 to obtain the parameters"
   ]
  },
  {
   "cell_type": "code",
   "execution_count": 37,
   "metadata": {},
   "outputs": [
    {
     "name": "stdout",
     "output_type": "stream",
     "text": [
      "Sequential(\n",
      "  (0): BasicBlock(\n",
      "    (conv1): Conv2d(128, 256, kernel_size=(3, 3), stride=(2, 2), padding=(1, 1), bias=False)\n",
      "    (bn1): BatchNorm2d(256, eps=1e-05, momentum=0.1, affine=True, track_running_stats=True)\n",
      "    (relu): ReLU(inplace=True)\n",
      "    (conv2): Conv2d(256, 256, kernel_size=(3, 3), stride=(1, 1), padding=(1, 1), bias=False)\n",
      "    (bn2): BatchNorm2d(256, eps=1e-05, momentum=0.1, affine=True, track_running_stats=True)\n",
      "    (downsample): Sequential(\n",
      "      (0): Conv2d(128, 256, kernel_size=(1, 1), stride=(2, 2), bias=False)\n",
      "      (1): BatchNorm2d(256, eps=1e-05, momentum=0.1, affine=True, track_running_stats=True)\n",
      "    )\n",
      "  )\n",
      "  (1): BasicBlock(\n",
      "    (conv1): Conv2d(256, 256, kernel_size=(3, 3), stride=(1, 1), padding=(1, 1), bias=False)\n",
      "    (bn1): BatchNorm2d(256, eps=1e-05, momentum=0.1, affine=True, track_running_stats=True)\n",
      "    (relu): ReLU(inplace=True)\n",
      "    (conv2): Conv2d(256, 256, kernel_size=(3, 3), stride=(1, 1), padding=(1, 1), bias=False)\n",
      "    (bn2): BatchNorm2d(256, eps=1e-05, momentum=0.1, affine=True, track_running_stats=True)\n",
      "  )\n",
      ")\n",
      "[torch.Size([256, 128, 3, 3]), torch.Size([256]), torch.Size([256]), torch.Size([256, 256, 3, 3]), torch.Size([256]), torch.Size([256]), torch.Size([256, 128, 1, 1]), torch.Size([256]), torch.Size([256]), torch.Size([256, 256, 3, 3]), torch.Size([256]), torch.Size([256]), torch.Size([256, 256, 3, 3]), torch.Size([256]), torch.Size([256])]\n"
     ]
    }
   ],
   "source": [
    "print(resnet18.layer3)\n",
    "print([x.shape for x in resnet18.layer3.parameters()])"
   ]
  },
  {
   "cell_type": "markdown",
   "metadata": {},
   "source": [
    "### See the resnet18.layer4 to obtain the parameters"
   ]
  },
  {
   "cell_type": "code",
   "execution_count": 38,
   "metadata": {},
   "outputs": [
    {
     "name": "stdout",
     "output_type": "stream",
     "text": [
      "Sequential(\n",
      "  (0): BasicBlock(\n",
      "    (conv1): Conv2d(256, 512, kernel_size=(3, 3), stride=(2, 2), padding=(1, 1), bias=False)\n",
      "    (bn1): BatchNorm2d(512, eps=1e-05, momentum=0.1, affine=True, track_running_stats=True)\n",
      "    (relu): ReLU(inplace=True)\n",
      "    (conv2): Conv2d(512, 512, kernel_size=(3, 3), stride=(1, 1), padding=(1, 1), bias=False)\n",
      "    (bn2): BatchNorm2d(512, eps=1e-05, momentum=0.1, affine=True, track_running_stats=True)\n",
      "    (downsample): Sequential(\n",
      "      (0): Conv2d(256, 512, kernel_size=(1, 1), stride=(2, 2), bias=False)\n",
      "      (1): BatchNorm2d(512, eps=1e-05, momentum=0.1, affine=True, track_running_stats=True)\n",
      "    )\n",
      "  )\n",
      "  (1): BasicBlock(\n",
      "    (conv1): Conv2d(512, 512, kernel_size=(3, 3), stride=(1, 1), padding=(1, 1), bias=False)\n",
      "    (bn1): BatchNorm2d(512, eps=1e-05, momentum=0.1, affine=True, track_running_stats=True)\n",
      "    (relu): ReLU(inplace=True)\n",
      "    (conv2): Conv2d(512, 512, kernel_size=(3, 3), stride=(1, 1), padding=(1, 1), bias=False)\n",
      "    (bn2): BatchNorm2d(512, eps=1e-05, momentum=0.1, affine=True, track_running_stats=True)\n",
      "  )\n",
      ")\n",
      "[torch.Size([512, 256, 3, 3]), torch.Size([512]), torch.Size([512]), torch.Size([512, 512, 3, 3]), torch.Size([512]), torch.Size([512]), torch.Size([512, 256, 1, 1]), torch.Size([512]), torch.Size([512]), torch.Size([512, 512, 3, 3]), torch.Size([512]), torch.Size([512]), torch.Size([512, 512, 3, 3]), torch.Size([512]), torch.Size([512])]\n"
     ]
    }
   ],
   "source": [
    "print(resnet18.layer4)\n",
    "print([x.shape for x in resnet18.layer4.parameters()])"
   ]
  },
  {
   "cell_type": "markdown",
   "metadata": {},
   "source": [
    "### See the resnet18.avgpool to obtain the parameters"
   ]
  },
  {
   "cell_type": "code",
   "execution_count": 39,
   "metadata": {},
   "outputs": [
    {
     "name": "stdout",
     "output_type": "stream",
     "text": [
      "AdaptiveAvgPool2d(output_size=(1, 1))\n",
      "[]\n"
     ]
    }
   ],
   "source": [
    "print(resnet18.avgpool)\n",
    "print([x.shape for x in resnet18.avgpool.parameters()])"
   ]
  },
  {
   "cell_type": "markdown",
   "metadata": {},
   "source": [
    "### See the resnet18.fc to obtain the parameters"
   ]
  },
  {
   "cell_type": "code",
   "execution_count": 40,
   "metadata": {},
   "outputs": [
    {
     "name": "stdout",
     "output_type": "stream",
     "text": [
      "Linear(in_features=512, out_features=1000, bias=True)\n",
      "[torch.Size([1000, 512]), torch.Size([1000])]\n"
     ]
    }
   ],
   "source": [
    "print(resnet18.fc)\n",
    "print([x.shape for x in resnet18.fc.parameters()])"
   ]
  },
  {
   "cell_type": "code",
   "execution_count": 41,
   "metadata": {},
   "outputs": [],
   "source": [
    "# NEW CODE CELL to conduct fine-tuning on Vggnet16 only on the last (Linear) layer\n",
    "\n",
    "# First, freeze all the parameters\n",
    "for param in resnet18.parameters():\n",
    "    param.requires_grad = False"
   ]
  },
  {
   "cell_type": "code",
   "execution_count": 42,
   "metadata": {},
   "outputs": [
    {
     "name": "stdout",
     "output_type": "stream",
     "text": [
      "14\n",
      "512\n"
     ]
    }
   ],
   "source": [
    "from copy import copy\n",
    "\n",
    "# Modify the last layer for the last 20 classes\n",
    "num_classes = 14  # Number of classes for your specific task\n",
    "num_features = copy(resnet18.fc.in_features) #Get all of the features after convolutional layers\n",
    "\n",
    "print(num_classes)\n",
    "print(num_features)"
   ]
  },
  {
   "cell_type": "code",
   "execution_count": 43,
   "metadata": {},
   "outputs": [
    {
     "name": "stdout",
     "output_type": "stream",
     "text": [
      "512\n",
      "Sequential(\n",
      "  (0): Linear(in_features=512, out_features=14, bias=True)\n",
      "  (1): ReLU(inplace=True)\n",
      ")\n"
     ]
    }
   ],
   "source": [
    "print(num_features)\n",
    "#print(resnet18.layer4[-1].conv2)\n",
    "\n",
    "#Obtain the same classifier you got befor with lower number of classes, so we can pretrain it\n",
    "resnet18.fc = nn.Sequential(\n",
    "    nn.Linear(num_features, num_classes, bias=True),\n",
    "    nn.ReLU(inplace= True),\n",
    ")\n",
    "\n",
    "print(resnet18.fc)"
   ]
  },
  {
   "cell_type": "code",
   "execution_count": 44,
   "metadata": {},
   "outputs": [],
   "source": [
    "# NEW CODE CELL\n",
    "\n",
    "# Create state_dict path\n",
    "model_dict_path = os.path.join(notebooks_path, os.pardir, \"models\")\n",
    "\n",
    "if os.path.exists(model_dict_path) == False:\n",
    "    os.mkdir(model_dict_path)"
   ]
  },
  {
   "cell_type": "code",
   "execution_count": 45,
   "metadata": {},
   "outputs": [
    {
     "name": "stdout",
     "output_type": "stream",
     "text": [
      "[<generator object Module.parameters at 0x7fa657014580>]\n"
     ]
    }
   ],
   "source": [
    "# NEW CODE CELL to perform fine-tuning\n",
    "#print([x.shape for x in resnet18.classifier[-6].parameters()])\n",
    "\n",
    "#Set the learning rate to be 1e-3 default\n",
    "lr_set = 1e-3\n",
    "\n",
    "import torch.optim as optim\n",
    "resnet18 = resnet18.to(device)\n",
    "resnet18.train()\n",
    "params_to_update = [resnet18.fc.parameters()]\n",
    "print(params_to_update)\n",
    "criterion = nn.BCEWithLogitsLoss()\n",
    "optimizer = optim.SGD(*params_to_update, lr=lr_set)\n",
    "\n",
    "\n",
    "def finetune_model(model, data_loader, num_epochs, device:str):\n",
    "    #Adding training loss and accuracy\n",
    "    train_loss = []\n",
    "    train_accuracy = []\n",
    "\n",
    "    for j, epoch in enumerate(range(num_epochs)):\n",
    "        print('Epoch {}/{}'.format(epoch + 1, num_epochs))\n",
    "        print('-------------')\n",
    "            \n",
    "        for idx, batch in enumerate(data_loader):\n",
    "            images_inputs, images_labels = batch\n",
    "            images_inputs, images_labels = images_inputs.to(device), images_labels.to(device)\n",
    "\n",
    "            # Convert labels to float type (also need to move to CUDA again!)\n",
    "            images_labels = images_labels.to(torch.float64)\n",
    "\n",
    "            # initialize optimizer\n",
    "            optimizer.zero_grad()            \n",
    "            outputs = model(images_inputs)\n",
    "            \n",
    "            # compute loss\n",
    "            loss = criterion(outputs, images_labels)\n",
    "            \n",
    "            # predict labels\n",
    "            pred_labels = (outputs > 0.5).float()\n",
    "\n",
    "            # Calculate TP, FP, TN, FN and accuracy\n",
    "            TP = torch.sum((pred_labels == 1) & (images_labels == 1)).item()\n",
    "            FP = torch.sum((pred_labels == 1) & (images_labels == 0)).item()\n",
    "            TN = torch.sum((pred_labels == 0) & (images_labels == 0)).item()\n",
    "            FN = torch.sum((pred_labels == 0) & (images_labels == 1)).item()\n",
    "            accuracy = ((TP + TN) / (TP + FP + TN + FN)) * 100.0                \n",
    "\n",
    "            loss.backward()\n",
    "            print(f\"iter {idx} ---  Loss: {loss}    Accuracy: {accuracy}\")\n",
    "\n",
    "            #Appending training loss and accuracies\n",
    "            train_loss.append(loss.cpu().detach().numpy().item())\n",
    "            train_accuracy.append(accuracy)\n",
    "            optimizer.step()\n",
    "    \n",
    "        #Convert the list to a numpy array\n",
    "        train_loss = np.array(train_loss)\n",
    "        train_accuracy = np.array(train_accuracy)\n",
    "        \n",
    "        # Save parameters for each epoch\n",
    "        torch.save(model.state_dict(), os.path.join(model_dict_path, f\"resnet18_epoch_{str(j)}_finetune_params.pth\"))\n",
    "\n",
    "        if os.path.exists(os.path.join(model_dict_path,\"resnet18_finetune\")) == False:\n",
    "            os.mkdir(os.path.join(model_dict_path,\"resnet18_finetune\"))\n",
    "\n",
    "        #Convert the list to a numpy array\n",
    "        train_loss = np.array(train_loss)\n",
    "        train_accuracy = np.array(train_accuracy)\n",
    "\n",
    "        # Save the numpy array to the file path\n",
    "        np.save(os.path.join(model_dict_path,\"resnet18_finetune\", f\"resnet18_epoch_{str(j)}_finetune_train_loss.npy\"), train_loss)\n",
    "        np.save(os.path.join(model_dict_path,\"resnet18_finetune\", f\"resnet18_epoch_{str(j)}_finetune_train_accuracy.npy\"), train_accuracy)"
   ]
  },
  {
   "cell_type": "code",
   "execution_count": 46,
   "metadata": {},
   "outputs": [
    {
     "name": "stdout",
     "output_type": "stream",
     "text": [
      "Epoch 1/5\n",
      "-------------\n"
     ]
    },
    {
     "name": "stdout",
     "output_type": "stream",
     "text": [
      "iter 0 ---  Loss: 0.7702902577272782    Accuracy: 80.13392857142857\n",
      "iter 1 ---  Loss: 0.7739967064241812    Accuracy: 81.02678571428571\n",
      "iter 2 ---  Loss: 0.7639793776740719    Accuracy: 82.36607142857143\n",
      "iter 3 ---  Loss: 0.7735756280703103    Accuracy: 82.14285714285714\n",
      "iter 4 ---  Loss: 0.7678691183225185    Accuracy: 85.26785714285714\n",
      "iter 5 ---  Loss: 0.7614466670950475    Accuracy: 76.5625\n",
      "iter 6 ---  Loss: 0.7602765594534243    Accuracy: 86.38392857142857\n",
      "iter 7 ---  Loss: 0.7585972416106544    Accuracy: 82.58928571428571\n",
      "iter 8 ---  Loss: 0.7524017226345936    Accuracy: 85.71428571428571\n",
      "iter 9 ---  Loss: 0.7526043733232655    Accuracy: 84.59821428571429\n",
      "iter 10 ---  Loss: 0.7497281664317207    Accuracy: 84.375\n",
      "iter 11 ---  Loss: 0.7486925689580467    Accuracy: 86.83035714285714\n",
      "iter 12 ---  Loss: 0.7462682361822641    Accuracy: 83.92857142857143\n",
      "iter 13 ---  Loss: 0.7486830151860235    Accuracy: 88.61607142857143\n",
      "iter 14 ---  Loss: 0.7461188237066381    Accuracy: 85.04464285714286\n",
      "iter 15 ---  Loss: 0.743707444552066    Accuracy: 84.375\n",
      "iter 16 ---  Loss: 0.7432301033321501    Accuracy: 87.5\n",
      "iter 17 ---  Loss: 0.7401695879156509    Accuracy: 87.72321428571429\n",
      "iter 18 ---  Loss: 0.7360182084958069    Accuracy: 86.38392857142857\n",
      "iter 19 ---  Loss: 0.7322842906703174    Accuracy: 86.16071428571429\n",
      "iter 20 ---  Loss: 0.7360242820203503    Accuracy: 85.71428571428571\n",
      "iter 21 ---  Loss: 0.7386794298155499    Accuracy: 85.26785714285714\n",
      "iter 22 ---  Loss: 0.7358540106464975    Accuracy: 91.51785714285714\n",
      "iter 23 ---  Loss: 0.7318555621854361    Accuracy: 91.29464285714286\n",
      "iter 24 ---  Loss: 0.7317107039852999    Accuracy: 89.95535714285714\n",
      "iter 25 ---  Loss: 0.7312067332635965    Accuracy: 89.73214285714286\n",
      "iter 26 ---  Loss: 0.7268628548367164    Accuracy: 89.28571428571429\n",
      "iter 27 ---  Loss: 0.72981962351644    Accuracy: 90.40178571428571\n"
     ]
    },
    {
     "ename": "KeyboardInterrupt",
     "evalue": "",
     "output_type": "error",
     "traceback": [
      "\u001b[0;31m---------------------------------------------------------------------------\u001b[0m",
      "\u001b[0;31mKeyboardInterrupt\u001b[0m                         Traceback (most recent call last)",
      "Cell \u001b[0;32mIn[46], line 2\u001b[0m\n\u001b[1;32m      1\u001b[0m \u001b[38;5;66;03m# Let's do fine-tuning\u001b[39;00m\n\u001b[0;32m----> 2\u001b[0m \u001b[43mfinetune_model\u001b[49m\u001b[43m(\u001b[49m\u001b[43mmodel\u001b[49m\u001b[38;5;241;43m=\u001b[39;49m\u001b[43mresnet18\u001b[49m\u001b[43m,\u001b[49m\u001b[43m \u001b[49m\u001b[43mdata_loader\u001b[49m\u001b[38;5;241;43m=\u001b[39;49m\u001b[43mtrain_loader\u001b[49m\u001b[43m,\u001b[49m\u001b[43m \u001b[49m\u001b[43mnum_epochs\u001b[49m\u001b[38;5;241;43m=\u001b[39;49m\u001b[38;5;241;43m5\u001b[39;49m\u001b[43m,\u001b[49m\u001b[43m \u001b[49m\u001b[43mdevice\u001b[49m\u001b[38;5;241;43m=\u001b[39;49m\u001b[43mdevice\u001b[49m\u001b[43m)\u001b[49m\n",
      "Cell \u001b[0;32mIn[45], line 20\u001b[0m, in \u001b[0;36mfinetune_model\u001b[0;34m(model, data_loader, num_epochs, device)\u001b[0m\n\u001b[1;32m     17\u001b[0m \u001b[38;5;28mprint\u001b[39m(\u001b[38;5;124m'\u001b[39m\u001b[38;5;124mEpoch \u001b[39m\u001b[38;5;132;01m{}\u001b[39;00m\u001b[38;5;124m/\u001b[39m\u001b[38;5;132;01m{}\u001b[39;00m\u001b[38;5;124m'\u001b[39m\u001b[38;5;241m.\u001b[39mformat(epoch \u001b[38;5;241m+\u001b[39m \u001b[38;5;241m1\u001b[39m, num_epochs))\n\u001b[1;32m     18\u001b[0m \u001b[38;5;28mprint\u001b[39m(\u001b[38;5;124m'\u001b[39m\u001b[38;5;124m-------------\u001b[39m\u001b[38;5;124m'\u001b[39m)\n\u001b[0;32m---> 20\u001b[0m \u001b[43m\u001b[49m\u001b[38;5;28;43;01mfor\u001b[39;49;00m\u001b[43m \u001b[49m\u001b[43midx\u001b[49m\u001b[43m,\u001b[49m\u001b[43m \u001b[49m\u001b[43mbatch\u001b[49m\u001b[43m \u001b[49m\u001b[38;5;129;43;01min\u001b[39;49;00m\u001b[43m \u001b[49m\u001b[38;5;28;43menumerate\u001b[39;49m\u001b[43m(\u001b[49m\u001b[43mdata_loader\u001b[49m\u001b[43m)\u001b[49m\u001b[43m:\u001b[49m\n\u001b[1;32m     21\u001b[0m \u001b[43m    \u001b[49m\u001b[43mimages_inputs\u001b[49m\u001b[43m,\u001b[49m\u001b[43m \u001b[49m\u001b[43mimages_labels\u001b[49m\u001b[43m \u001b[49m\u001b[38;5;241;43m=\u001b[39;49m\u001b[43m \u001b[49m\u001b[43mbatch\u001b[49m\n\u001b[1;32m     22\u001b[0m \u001b[43m    \u001b[49m\u001b[43mimages_inputs\u001b[49m\u001b[43m,\u001b[49m\u001b[43m \u001b[49m\u001b[43mimages_labels\u001b[49m\u001b[43m \u001b[49m\u001b[38;5;241;43m=\u001b[39;49m\u001b[43m \u001b[49m\u001b[43mimages_inputs\u001b[49m\u001b[38;5;241;43m.\u001b[39;49m\u001b[43mto\u001b[49m\u001b[43m(\u001b[49m\u001b[43mdevice\u001b[49m\u001b[43m)\u001b[49m\u001b[43m,\u001b[49m\u001b[43m \u001b[49m\u001b[43mimages_labels\u001b[49m\u001b[38;5;241;43m.\u001b[39;49m\u001b[43mto\u001b[49m\u001b[43m(\u001b[49m\u001b[43mdevice\u001b[49m\u001b[43m)\u001b[49m\n",
      "File \u001b[0;32m~/.conda/envs/cs231n/lib/python3.12/site-packages/torch/utils/data/dataloader.py:631\u001b[0m, in \u001b[0;36m_BaseDataLoaderIter.__next__\u001b[0;34m(self)\u001b[0m\n\u001b[1;32m    628\u001b[0m \u001b[38;5;28;01mif\u001b[39;00m \u001b[38;5;28mself\u001b[39m\u001b[38;5;241m.\u001b[39m_sampler_iter \u001b[38;5;129;01mis\u001b[39;00m \u001b[38;5;28;01mNone\u001b[39;00m:\n\u001b[1;32m    629\u001b[0m     \u001b[38;5;66;03m# TODO(https://github.com/pytorch/pytorch/issues/76750)\u001b[39;00m\n\u001b[1;32m    630\u001b[0m     \u001b[38;5;28mself\u001b[39m\u001b[38;5;241m.\u001b[39m_reset()  \u001b[38;5;66;03m# type: ignore[call-arg]\u001b[39;00m\n\u001b[0;32m--> 631\u001b[0m data \u001b[38;5;241m=\u001b[39m \u001b[38;5;28;43mself\u001b[39;49m\u001b[38;5;241;43m.\u001b[39;49m\u001b[43m_next_data\u001b[49m\u001b[43m(\u001b[49m\u001b[43m)\u001b[49m\n\u001b[1;32m    632\u001b[0m \u001b[38;5;28mself\u001b[39m\u001b[38;5;241m.\u001b[39m_num_yielded \u001b[38;5;241m+\u001b[39m\u001b[38;5;241m=\u001b[39m \u001b[38;5;241m1\u001b[39m\n\u001b[1;32m    633\u001b[0m \u001b[38;5;28;01mif\u001b[39;00m \u001b[38;5;28mself\u001b[39m\u001b[38;5;241m.\u001b[39m_dataset_kind \u001b[38;5;241m==\u001b[39m _DatasetKind\u001b[38;5;241m.\u001b[39mIterable \u001b[38;5;129;01mand\u001b[39;00m \\\n\u001b[1;32m    634\u001b[0m         \u001b[38;5;28mself\u001b[39m\u001b[38;5;241m.\u001b[39m_IterableDataset_len_called \u001b[38;5;129;01mis\u001b[39;00m \u001b[38;5;129;01mnot\u001b[39;00m \u001b[38;5;28;01mNone\u001b[39;00m \u001b[38;5;129;01mand\u001b[39;00m \\\n\u001b[1;32m    635\u001b[0m         \u001b[38;5;28mself\u001b[39m\u001b[38;5;241m.\u001b[39m_num_yielded \u001b[38;5;241m>\u001b[39m \u001b[38;5;28mself\u001b[39m\u001b[38;5;241m.\u001b[39m_IterableDataset_len_called:\n",
      "File \u001b[0;32m~/.conda/envs/cs231n/lib/python3.12/site-packages/torch/utils/data/dataloader.py:675\u001b[0m, in \u001b[0;36m_SingleProcessDataLoaderIter._next_data\u001b[0;34m(self)\u001b[0m\n\u001b[1;32m    673\u001b[0m \u001b[38;5;28;01mdef\u001b[39;00m \u001b[38;5;21m_next_data\u001b[39m(\u001b[38;5;28mself\u001b[39m):\n\u001b[1;32m    674\u001b[0m     index \u001b[38;5;241m=\u001b[39m \u001b[38;5;28mself\u001b[39m\u001b[38;5;241m.\u001b[39m_next_index()  \u001b[38;5;66;03m# may raise StopIteration\u001b[39;00m\n\u001b[0;32m--> 675\u001b[0m     data \u001b[38;5;241m=\u001b[39m \u001b[38;5;28;43mself\u001b[39;49m\u001b[38;5;241;43m.\u001b[39;49m\u001b[43m_dataset_fetcher\u001b[49m\u001b[38;5;241;43m.\u001b[39;49m\u001b[43mfetch\u001b[49m\u001b[43m(\u001b[49m\u001b[43mindex\u001b[49m\u001b[43m)\u001b[49m  \u001b[38;5;66;03m# may raise StopIteration\u001b[39;00m\n\u001b[1;32m    676\u001b[0m     \u001b[38;5;28;01mif\u001b[39;00m \u001b[38;5;28mself\u001b[39m\u001b[38;5;241m.\u001b[39m_pin_memory:\n\u001b[1;32m    677\u001b[0m         data \u001b[38;5;241m=\u001b[39m _utils\u001b[38;5;241m.\u001b[39mpin_memory\u001b[38;5;241m.\u001b[39mpin_memory(data, \u001b[38;5;28mself\u001b[39m\u001b[38;5;241m.\u001b[39m_pin_memory_device)\n",
      "File \u001b[0;32m~/.conda/envs/cs231n/lib/python3.12/site-packages/torch/utils/data/_utils/fetch.py:51\u001b[0m, in \u001b[0;36m_MapDatasetFetcher.fetch\u001b[0;34m(self, possibly_batched_index)\u001b[0m\n\u001b[1;32m     49\u001b[0m         data \u001b[38;5;241m=\u001b[39m \u001b[38;5;28mself\u001b[39m\u001b[38;5;241m.\u001b[39mdataset\u001b[38;5;241m.\u001b[39m__getitems__(possibly_batched_index)\n\u001b[1;32m     50\u001b[0m     \u001b[38;5;28;01melse\u001b[39;00m:\n\u001b[0;32m---> 51\u001b[0m         data \u001b[38;5;241m=\u001b[39m [\u001b[38;5;28;43mself\u001b[39;49m\u001b[38;5;241;43m.\u001b[39;49m\u001b[43mdataset\u001b[49m\u001b[43m[\u001b[49m\u001b[43midx\u001b[49m\u001b[43m]\u001b[49m \u001b[38;5;28;01mfor\u001b[39;00m idx \u001b[38;5;129;01min\u001b[39;00m possibly_batched_index]\n\u001b[1;32m     52\u001b[0m \u001b[38;5;28;01melse\u001b[39;00m:\n\u001b[1;32m     53\u001b[0m     data \u001b[38;5;241m=\u001b[39m \u001b[38;5;28mself\u001b[39m\u001b[38;5;241m.\u001b[39mdataset[possibly_batched_index]\n",
      "File \u001b[0;32m/project/cs231/CS231N-Final-Proj/notebooks/../src/utils/fig_reader.py:72\u001b[0m, in \u001b[0;36mCXReader.__getitem__\u001b[0;34m(self, idx)\u001b[0m\n\u001b[1;32m     69\u001b[0m img_path \u001b[38;5;241m=\u001b[39m os\u001b[38;5;241m.\u001b[39mpath\u001b[38;5;241m.\u001b[39mjoin(\u001b[38;5;28mself\u001b[39m\u001b[38;5;241m.\u001b[39mdata_path, img_name)\n\u001b[1;32m     71\u001b[0m \u001b[38;5;66;03m#Load the image\u001b[39;00m\n\u001b[0;32m---> 72\u001b[0m image \u001b[38;5;241m=\u001b[39m \u001b[43mImage\u001b[49m\u001b[38;5;241;43m.\u001b[39;49m\u001b[43mopen\u001b[49m\u001b[43m(\u001b[49m\u001b[43mimg_path\u001b[49m\u001b[43m)\u001b[49m\u001b[38;5;241m.\u001b[39mconvert(\u001b[38;5;124m\"\u001b[39m\u001b[38;5;124mRGB\u001b[39m\u001b[38;5;124m\"\u001b[39m)\n\u001b[1;32m     74\u001b[0m \u001b[38;5;66;03m#Perform any necessary preprocessing\u001b[39;00m\n\u001b[1;32m     75\u001b[0m \u001b[38;5;28;01mif\u001b[39;00m \u001b[38;5;28mself\u001b[39m\u001b[38;5;241m.\u001b[39mtransform:\n",
      "File \u001b[0;32m~/.conda/envs/cs231n/lib/python3.12/site-packages/PIL/Image.py:3286\u001b[0m, in \u001b[0;36mopen\u001b[0;34m(fp, mode, formats)\u001b[0m\n\u001b[1;32m   3283\u001b[0m     fp \u001b[38;5;241m=\u001b[39m io\u001b[38;5;241m.\u001b[39mBytesIO(fp\u001b[38;5;241m.\u001b[39mread())\n\u001b[1;32m   3284\u001b[0m     exclusive_fp \u001b[38;5;241m=\u001b[39m \u001b[38;5;28;01mTrue\u001b[39;00m\n\u001b[0;32m-> 3286\u001b[0m prefix \u001b[38;5;241m=\u001b[39m \u001b[43mfp\u001b[49m\u001b[38;5;241;43m.\u001b[39;49m\u001b[43mread\u001b[49m\u001b[43m(\u001b[49m\u001b[38;5;241;43m16\u001b[39;49m\u001b[43m)\u001b[49m\n\u001b[1;32m   3288\u001b[0m preinit()\n\u001b[1;32m   3290\u001b[0m accept_warnings \u001b[38;5;241m=\u001b[39m []\n",
      "\u001b[0;31mKeyboardInterrupt\u001b[0m: "
     ]
    }
   ],
   "source": [
    "# Let's do fine-tuning\n",
    "finetune_model(model=resnet18, data_loader=train_loader, num_epochs=5, device=device)"
   ]
  },
  {
   "cell_type": "code",
   "execution_count": null,
   "metadata": {},
   "outputs": [
    {
     "data": {
      "text/plain": [
       "<All keys matched successfully>"
      ]
     },
     "metadata": {},
     "output_type": "display_data"
    }
   ],
   "source": [
    "resnet18.load_state_dict(torch.load(os.path.join(model_dict_path, \"resnet18_finetune_params.pth\")))"
   ]
  },
  {
   "cell_type": "markdown",
   "metadata": {},
   "source": [
    "### Create a function that would evaluate the model.\n",
    "\n",
    "Make sure it outputs all of the accuracies of all 20 conditions. <br>"
   ]
  },
  {
   "cell_type": "code",
   "execution_count": null,
   "metadata": {},
   "outputs": [],
   "source": [
    "import torch.nn.functional as F\n",
    "\n",
    "def evaluate_model(model, data_loader, limit:int, device:str):\n",
    "    \"\"\"\n",
    "    Instance method that would evaluate with a given\n",
    "    data loader, the accuracies obtained by the VGGNET16\n",
    "    \"\"\"\n",
    "    model.eval()\n",
    "    threshold = 0.5\n",
    "    accuracies = []\n",
    "    precisions = []\n",
    "    recalls = []\n",
    "    f1_scores = []\n",
    "\n",
    "    #Use no grad to not perform backpropagation for inference time\n",
    "    with torch.no_grad():\n",
    "        #Iterate through each of the images and labels\n",
    "        \n",
    "        # Calculate the total numbers for metrics\n",
    "        TP, FP, TN, FN = 0.0, 0.0, 0.0, 0.0\n",
    "        for idx, batch in enumerate(data_loader):\n",
    "    \n",
    "            #See if it works\n",
    "            images_inputs, images_labels = batch\n",
    "            images_inputs, images_labels = images_inputs.to(device), images_labels.to(device)\n",
    "\n",
    "            #Print the shape of each one of them\n",
    "            print(f\"Inputs shape: {images_inputs.shape}, Labels shape: {labels.shape}\")\n",
    "\n",
    "            #Send the outputs to model in device\n",
    "            outputs = model(images_inputs)\n",
    "\n",
    "            #Binarize the output with threshold\n",
    "            pred_labels = (outputs > threshold).float()\n",
    "\n",
    "            # Calculate batch-wise TP, FP, TN, FN\n",
    "            b_TP = torch.sum((pred_labels == 1) & (images_labels == 1)).item()\n",
    "            b_FP = torch.sum((pred_labels == 1) & (images_labels == 0)).item()\n",
    "            b_TN = torch.sum((pred_labels == 0) & (images_labels == 0)).item()\n",
    "            b_FN = torch.sum((pred_labels == 0) & (images_labels == 1)).item()\n",
    "            TP += b_TP\n",
    "            FP += b_FP\n",
    "            TN += b_TN\n",
    "            FN += b_FN\n",
    "\n",
    "            #_, predicted = torch.max(outputs, 1)  # Get the index of the maximum log-probability\n",
    "            accuracy = ((TP + TN) / (TP + FP + TN + FN)) * 100.0\n",
    "            precision = (TP / (TP + FP)) * 100.0 if (TP + FP) > 0 else 0.0\n",
    "            recall = (TP / (TP + FN)) * 100.0 if (TP + FN) > 0 else 0.0\n",
    "            f1_score = (2 * precision * recall) / (precision + recall) if (precision + recall) > 0 else 0.0\n",
    "\n",
    "            print(\"Accuracy: {:.2f}%\".format(accuracy))\n",
    "            print(\"Precision: {:.2f}%\".format(precision))\n",
    "            print(\"Recall: {:.2f}%\".format(recall))\n",
    "            print(\"F1 Score: {:.2f}%\".format(f1_score))\n",
    "\n",
    "            accuracies.append(accuracy)\n",
    "            precisions.append(precision)\n",
    "            recalls.append(recall)\n",
    "            f1_scores.append(f1_score)\n",
    "\n",
    "            if idx == limit:\n",
    "                print(\"Limit reached\")\n",
    "                break\n",
    "    return accuracies, precisions, recalls, f1_scores"
   ]
  },
  {
   "cell_type": "code",
   "execution_count": null,
   "metadata": {},
   "outputs": [
    {
     "name": "stdout",
     "output_type": "stream",
     "text": [
      "Inputs shape: torch.Size([32, 3, 224, 224]), Labels shape: torch.Size([32, 20])\n",
      "Inputs shape: torch.Size([32, 3, 224, 224]), Labels shape: torch.Size([32, 20])\n",
      "Inputs shape: torch.Size([32, 3, 224, 224]), Labels shape: torch.Size([32, 20])\n",
      "Inputs shape: torch.Size([32, 3, 224, 224]), Labels shape: torch.Size([32, 20])\n",
      "Inputs shape: torch.Size([32, 3, 224, 224]), Labels shape: torch.Size([32, 20])\n",
      "Inputs shape: torch.Size([32, 3, 224, 224]), Labels shape: torch.Size([32, 20])\n",
      "Inputs shape: torch.Size([32, 3, 224, 224]), Labels shape: torch.Size([32, 20])\n",
      "Inputs shape: torch.Size([32, 3, 224, 224]), Labels shape: torch.Size([32, 20])\n",
      "Inputs shape: torch.Size([32, 3, 224, 224]), Labels shape: torch.Size([32, 20])\n",
      "Inputs shape: torch.Size([32, 3, 224, 224]), Labels shape: torch.Size([32, 20])\n",
      "Inputs shape: torch.Size([32, 3, 224, 224]), Labels shape: torch.Size([32, 20])\n",
      "Inputs shape: torch.Size([32, 3, 224, 224]), Labels shape: torch.Size([32, 20])\n",
      "Inputs shape: torch.Size([32, 3, 224, 224]), Labels shape: torch.Size([32, 20])\n",
      "Inputs shape: torch.Size([32, 3, 224, 224]), Labels shape: torch.Size([32, 20])\n",
      "Inputs shape: torch.Size([32, 3, 224, 224]), Labels shape: torch.Size([32, 20])\n",
      "Inputs shape: torch.Size([32, 3, 224, 224]), Labels shape: torch.Size([32, 20])\n",
      "Inputs shape: torch.Size([32, 3, 224, 224]), Labels shape: torch.Size([32, 20])\n",
      "Inputs shape: torch.Size([32, 3, 224, 224]), Labels shape: torch.Size([32, 20])\n",
      "Inputs shape: torch.Size([32, 3, 224, 224]), Labels shape: torch.Size([32, 20])\n",
      "Inputs shape: torch.Size([32, 3, 224, 224]), Labels shape: torch.Size([32, 20])\n",
      "Inputs shape: torch.Size([32, 3, 224, 224]), Labels shape: torch.Size([32, 20])\n",
      "Inputs shape: torch.Size([32, 3, 224, 224]), Labels shape: torch.Size([32, 20])\n",
      "Inputs shape: torch.Size([32, 3, 224, 224]), Labels shape: torch.Size([32, 20])\n",
      "Inputs shape: torch.Size([32, 3, 224, 224]), Labels shape: torch.Size([32, 20])\n",
      "Inputs shape: torch.Size([32, 3, 224, 224]), Labels shape: torch.Size([32, 20])\n",
      "Inputs shape: torch.Size([32, 3, 224, 224]), Labels shape: torch.Size([32, 20])\n",
      "Inputs shape: torch.Size([32, 3, 224, 224]), Labels shape: torch.Size([32, 20])\n",
      "Inputs shape: torch.Size([32, 3, 224, 224]), Labels shape: torch.Size([32, 20])\n",
      "Inputs shape: torch.Size([32, 3, 224, 224]), Labels shape: torch.Size([32, 20])\n",
      "Inputs shape: torch.Size([32, 3, 224, 224]), Labels shape: torch.Size([32, 20])\n",
      "Inputs shape: torch.Size([32, 3, 224, 224]), Labels shape: torch.Size([32, 20])\n",
      "Inputs shape: torch.Size([32, 3, 224, 224]), Labels shape: torch.Size([32, 20])\n",
      "Inputs shape: torch.Size([32, 3, 224, 224]), Labels shape: torch.Size([32, 20])\n",
      "Inputs shape: torch.Size([32, 3, 224, 224]), Labels shape: torch.Size([32, 20])\n",
      "Inputs shape: torch.Size([32, 3, 224, 224]), Labels shape: torch.Size([32, 20])\n",
      "Inputs shape: torch.Size([32, 3, 224, 224]), Labels shape: torch.Size([32, 20])\n",
      "Inputs shape: torch.Size([32, 3, 224, 224]), Labels shape: torch.Size([32, 20])\n",
      "Inputs shape: torch.Size([32, 3, 224, 224]), Labels shape: torch.Size([32, 20])\n",
      "Inputs shape: torch.Size([32, 3, 224, 224]), Labels shape: torch.Size([32, 20])\n",
      "Inputs shape: torch.Size([32, 3, 224, 224]), Labels shape: torch.Size([32, 20])\n",
      "Inputs shape: torch.Size([32, 3, 224, 224]), Labels shape: torch.Size([32, 20])\n",
      "Inputs shape: torch.Size([32, 3, 224, 224]), Labels shape: torch.Size([32, 20])\n",
      "Inputs shape: torch.Size([32, 3, 224, 224]), Labels shape: torch.Size([32, 20])\n",
      "Inputs shape: torch.Size([32, 3, 224, 224]), Labels shape: torch.Size([32, 20])\n",
      "Inputs shape: torch.Size([32, 3, 224, 224]), Labels shape: torch.Size([32, 20])\n",
      "Inputs shape: torch.Size([32, 3, 224, 224]), Labels shape: torch.Size([32, 20])\n",
      "Inputs shape: torch.Size([32, 3, 224, 224]), Labels shape: torch.Size([32, 20])\n",
      "Inputs shape: torch.Size([32, 3, 224, 224]), Labels shape: torch.Size([32, 20])\n",
      "Inputs shape: torch.Size([32, 3, 224, 224]), Labels shape: torch.Size([32, 20])\n",
      "Inputs shape: torch.Size([32, 3, 224, 224]), Labels shape: torch.Size([32, 20])\n",
      "Inputs shape: torch.Size([32, 3, 224, 224]), Labels shape: torch.Size([32, 20])\n",
      "Inputs shape: torch.Size([32, 3, 224, 224]), Labels shape: torch.Size([32, 20])\n",
      "Inputs shape: torch.Size([32, 3, 224, 224]), Labels shape: torch.Size([32, 20])\n",
      "Inputs shape: torch.Size([32, 3, 224, 224]), Labels shape: torch.Size([32, 20])\n",
      "Inputs shape: torch.Size([32, 3, 224, 224]), Labels shape: torch.Size([32, 20])\n",
      "Inputs shape: torch.Size([32, 3, 224, 224]), Labels shape: torch.Size([32, 20])\n",
      "Inputs shape: torch.Size([32, 3, 224, 224]), Labels shape: torch.Size([32, 20])\n",
      "Inputs shape: torch.Size([32, 3, 224, 224]), Labels shape: torch.Size([32, 20])\n",
      "Inputs shape: torch.Size([32, 3, 224, 224]), Labels shape: torch.Size([32, 20])\n",
      "Inputs shape: torch.Size([32, 3, 224, 224]), Labels shape: torch.Size([32, 20])\n",
      "Inputs shape: torch.Size([32, 3, 224, 224]), Labels shape: torch.Size([32, 20])\n",
      "Inputs shape: torch.Size([32, 3, 224, 224]), Labels shape: torch.Size([32, 20])\n",
      "Inputs shape: torch.Size([32, 3, 224, 224]), Labels shape: torch.Size([32, 20])\n",
      "Inputs shape: torch.Size([32, 3, 224, 224]), Labels shape: torch.Size([32, 20])\n",
      "Inputs shape: torch.Size([32, 3, 224, 224]), Labels shape: torch.Size([32, 20])\n",
      "Inputs shape: torch.Size([32, 3, 224, 224]), Labels shape: torch.Size([32, 20])\n",
      "Inputs shape: torch.Size([32, 3, 224, 224]), Labels shape: torch.Size([32, 20])\n",
      "Inputs shape: torch.Size([32, 3, 224, 224]), Labels shape: torch.Size([32, 20])\n",
      "Inputs shape: torch.Size([32, 3, 224, 224]), Labels shape: torch.Size([32, 20])\n",
      "Inputs shape: torch.Size([32, 3, 224, 224]), Labels shape: torch.Size([32, 20])\n",
      "Inputs shape: torch.Size([32, 3, 224, 224]), Labels shape: torch.Size([32, 20])\n",
      "Inputs shape: torch.Size([32, 3, 224, 224]), Labels shape: torch.Size([32, 20])\n",
      "Inputs shape: torch.Size([32, 3, 224, 224]), Labels shape: torch.Size([32, 20])\n",
      "Inputs shape: torch.Size([32, 3, 224, 224]), Labels shape: torch.Size([32, 20])\n",
      "Inputs shape: torch.Size([32, 3, 224, 224]), Labels shape: torch.Size([32, 20])\n",
      "Inputs shape: torch.Size([32, 3, 224, 224]), Labels shape: torch.Size([32, 20])\n",
      "Inputs shape: torch.Size([32, 3, 224, 224]), Labels shape: torch.Size([32, 20])\n",
      "Inputs shape: torch.Size([32, 3, 224, 224]), Labels shape: torch.Size([32, 20])\n",
      "Inputs shape: torch.Size([32, 3, 224, 224]), Labels shape: torch.Size([32, 20])\n",
      "Inputs shape: torch.Size([32, 3, 224, 224]), Labels shape: torch.Size([32, 20])\n",
      "Inputs shape: torch.Size([32, 3, 224, 224]), Labels shape: torch.Size([32, 20])\n",
      "Inputs shape: torch.Size([32, 3, 224, 224]), Labels shape: torch.Size([32, 20])\n",
      "Inputs shape: torch.Size([32, 3, 224, 224]), Labels shape: torch.Size([32, 20])\n",
      "Inputs shape: torch.Size([32, 3, 224, 224]), Labels shape: torch.Size([32, 20])\n",
      "Inputs shape: torch.Size([32, 3, 224, 224]), Labels shape: torch.Size([32, 20])\n",
      "Inputs shape: torch.Size([32, 3, 224, 224]), Labels shape: torch.Size([32, 20])\n",
      "Inputs shape: torch.Size([32, 3, 224, 224]), Labels shape: torch.Size([32, 20])\n",
      "Inputs shape: torch.Size([32, 3, 224, 224]), Labels shape: torch.Size([32, 20])\n",
      "Inputs shape: torch.Size([32, 3, 224, 224]), Labels shape: torch.Size([32, 20])\n",
      "Inputs shape: torch.Size([32, 3, 224, 224]), Labels shape: torch.Size([32, 20])\n",
      "Inputs shape: torch.Size([32, 3, 224, 224]), Labels shape: torch.Size([32, 20])\n",
      "Inputs shape: torch.Size([32, 3, 224, 224]), Labels shape: torch.Size([32, 20])\n",
      "Inputs shape: torch.Size([32, 3, 224, 224]), Labels shape: torch.Size([32, 20])\n",
      "Inputs shape: torch.Size([32, 3, 224, 224]), Labels shape: torch.Size([32, 20])\n",
      "Inputs shape: torch.Size([32, 3, 224, 224]), Labels shape: torch.Size([32, 20])\n",
      "Inputs shape: torch.Size([32, 3, 224, 224]), Labels shape: torch.Size([32, 20])\n",
      "Inputs shape: torch.Size([32, 3, 224, 224]), Labels shape: torch.Size([32, 20])\n",
      "Inputs shape: torch.Size([32, 3, 224, 224]), Labels shape: torch.Size([32, 20])\n",
      "Inputs shape: torch.Size([32, 3, 224, 224]), Labels shape: torch.Size([32, 20])\n",
      "Inputs shape: torch.Size([32, 3, 224, 224]), Labels shape: torch.Size([32, 20])\n",
      "Inputs shape: torch.Size([32, 3, 224, 224]), Labels shape: torch.Size([32, 20])\n",
      "Inputs shape: torch.Size([32, 3, 224, 224]), Labels shape: torch.Size([32, 20])\n",
      "Inputs shape: torch.Size([32, 3, 224, 224]), Labels shape: torch.Size([32, 20])\n",
      "Inputs shape: torch.Size([32, 3, 224, 224]), Labels shape: torch.Size([32, 20])\n",
      "Inputs shape: torch.Size([32, 3, 224, 224]), Labels shape: torch.Size([32, 20])\n",
      "Inputs shape: torch.Size([32, 3, 224, 224]), Labels shape: torch.Size([32, 20])\n",
      "Inputs shape: torch.Size([32, 3, 224, 224]), Labels shape: torch.Size([32, 20])\n",
      "Inputs shape: torch.Size([32, 3, 224, 224]), Labels shape: torch.Size([32, 20])\n",
      "Inputs shape: torch.Size([32, 3, 224, 224]), Labels shape: torch.Size([32, 20])\n",
      "Inputs shape: torch.Size([32, 3, 224, 224]), Labels shape: torch.Size([32, 20])\n",
      "Inputs shape: torch.Size([32, 3, 224, 224]), Labels shape: torch.Size([32, 20])\n",
      "Inputs shape: torch.Size([32, 3, 224, 224]), Labels shape: torch.Size([32, 20])\n",
      "Inputs shape: torch.Size([32, 3, 224, 224]), Labels shape: torch.Size([32, 20])\n",
      "Inputs shape: torch.Size([32, 3, 224, 224]), Labels shape: torch.Size([32, 20])\n",
      "Inputs shape: torch.Size([32, 3, 224, 224]), Labels shape: torch.Size([32, 20])\n",
      "Inputs shape: torch.Size([32, 3, 224, 224]), Labels shape: torch.Size([32, 20])\n",
      "Inputs shape: torch.Size([32, 3, 224, 224]), Labels shape: torch.Size([32, 20])\n",
      "Inputs shape: torch.Size([32, 3, 224, 224]), Labels shape: torch.Size([32, 20])\n",
      "Inputs shape: torch.Size([32, 3, 224, 224]), Labels shape: torch.Size([32, 20])\n",
      "Inputs shape: torch.Size([32, 3, 224, 224]), Labels shape: torch.Size([32, 20])\n",
      "Inputs shape: torch.Size([32, 3, 224, 224]), Labels shape: torch.Size([32, 20])\n",
      "Inputs shape: torch.Size([32, 3, 224, 224]), Labels shape: torch.Size([32, 20])\n",
      "Inputs shape: torch.Size([32, 3, 224, 224]), Labels shape: torch.Size([32, 20])\n",
      "Inputs shape: torch.Size([32, 3, 224, 224]), Labels shape: torch.Size([32, 20])\n",
      "Inputs shape: torch.Size([32, 3, 224, 224]), Labels shape: torch.Size([32, 20])\n",
      "Inputs shape: torch.Size([32, 3, 224, 224]), Labels shape: torch.Size([32, 20])\n",
      "Inputs shape: torch.Size([32, 3, 224, 224]), Labels shape: torch.Size([32, 20])\n",
      "Inputs shape: torch.Size([32, 3, 224, 224]), Labels shape: torch.Size([32, 20])\n",
      "Inputs shape: torch.Size([32, 3, 224, 224]), Labels shape: torch.Size([32, 20])\n",
      "Inputs shape: torch.Size([32, 3, 224, 224]), Labels shape: torch.Size([32, 20])\n",
      "Inputs shape: torch.Size([32, 3, 224, 224]), Labels shape: torch.Size([32, 20])\n",
      "Inputs shape: torch.Size([32, 3, 224, 224]), Labels shape: torch.Size([32, 20])\n",
      "Inputs shape: torch.Size([32, 3, 224, 224]), Labels shape: torch.Size([32, 20])\n",
      "Inputs shape: torch.Size([32, 3, 224, 224]), Labels shape: torch.Size([32, 20])\n",
      "Inputs shape: torch.Size([32, 3, 224, 224]), Labels shape: torch.Size([32, 20])\n",
      "Inputs shape: torch.Size([32, 3, 224, 224]), Labels shape: torch.Size([32, 20])\n",
      "Inputs shape: torch.Size([32, 3, 224, 224]), Labels shape: torch.Size([32, 20])\n",
      "Inputs shape: torch.Size([32, 3, 224, 224]), Labels shape: torch.Size([32, 20])\n",
      "Inputs shape: torch.Size([32, 3, 224, 224]), Labels shape: torch.Size([32, 20])\n",
      "Inputs shape: torch.Size([32, 3, 224, 224]), Labels shape: torch.Size([32, 20])\n",
      "Inputs shape: torch.Size([32, 3, 224, 224]), Labels shape: torch.Size([32, 20])\n",
      "Inputs shape: torch.Size([32, 3, 224, 224]), Labels shape: torch.Size([32, 20])\n",
      "Inputs shape: torch.Size([32, 3, 224, 224]), Labels shape: torch.Size([32, 20])\n",
      "Inputs shape: torch.Size([32, 3, 224, 224]), Labels shape: torch.Size([32, 20])\n",
      "Inputs shape: torch.Size([32, 3, 224, 224]), Labels shape: torch.Size([32, 20])\n",
      "Inputs shape: torch.Size([32, 3, 224, 224]), Labels shape: torch.Size([32, 20])\n",
      "Inputs shape: torch.Size([32, 3, 224, 224]), Labels shape: torch.Size([32, 20])\n",
      "Inputs shape: torch.Size([32, 3, 224, 224]), Labels shape: torch.Size([32, 20])\n",
      "Inputs shape: torch.Size([32, 3, 224, 224]), Labels shape: torch.Size([32, 20])\n",
      "Inputs shape: torch.Size([32, 3, 224, 224]), Labels shape: torch.Size([32, 20])\n",
      "Inputs shape: torch.Size([32, 3, 224, 224]), Labels shape: torch.Size([32, 20])\n",
      "Inputs shape: torch.Size([32, 3, 224, 224]), Labels shape: torch.Size([32, 20])\n",
      "Inputs shape: torch.Size([32, 3, 224, 224]), Labels shape: torch.Size([32, 20])\n",
      "Inputs shape: torch.Size([32, 3, 224, 224]), Labels shape: torch.Size([32, 20])\n",
      "Inputs shape: torch.Size([32, 3, 224, 224]), Labels shape: torch.Size([32, 20])\n",
      "Inputs shape: torch.Size([32, 3, 224, 224]), Labels shape: torch.Size([32, 20])\n",
      "Inputs shape: torch.Size([32, 3, 224, 224]), Labels shape: torch.Size([32, 20])\n",
      "Inputs shape: torch.Size([32, 3, 224, 224]), Labels shape: torch.Size([32, 20])\n",
      "Inputs shape: torch.Size([32, 3, 224, 224]), Labels shape: torch.Size([32, 20])\n",
      "Inputs shape: torch.Size([32, 3, 224, 224]), Labels shape: torch.Size([32, 20])\n",
      "Inputs shape: torch.Size([32, 3, 224, 224]), Labels shape: torch.Size([32, 20])\n",
      "Inputs shape: torch.Size([32, 3, 224, 224]), Labels shape: torch.Size([32, 20])\n",
      "Inputs shape: torch.Size([32, 3, 224, 224]), Labels shape: torch.Size([32, 20])\n",
      "Inputs shape: torch.Size([32, 3, 224, 224]), Labels shape: torch.Size([32, 20])\n",
      "Inputs shape: torch.Size([32, 3, 224, 224]), Labels shape: torch.Size([32, 20])\n",
      "Inputs shape: torch.Size([32, 3, 224, 224]), Labels shape: torch.Size([32, 20])\n",
      "Inputs shape: torch.Size([32, 3, 224, 224]), Labels shape: torch.Size([32, 20])\n",
      "Inputs shape: torch.Size([32, 3, 224, 224]), Labels shape: torch.Size([32, 20])\n",
      "Inputs shape: torch.Size([32, 3, 224, 224]), Labels shape: torch.Size([32, 20])\n",
      "Inputs shape: torch.Size([32, 3, 224, 224]), Labels shape: torch.Size([32, 20])\n",
      "Inputs shape: torch.Size([32, 3, 224, 224]), Labels shape: torch.Size([32, 20])\n",
      "Inputs shape: torch.Size([32, 3, 224, 224]), Labels shape: torch.Size([32, 20])\n",
      "Inputs shape: torch.Size([32, 3, 224, 224]), Labels shape: torch.Size([32, 20])\n",
      "Inputs shape: torch.Size([32, 3, 224, 224]), Labels shape: torch.Size([32, 20])\n",
      "Inputs shape: torch.Size([32, 3, 224, 224]), Labels shape: torch.Size([32, 20])\n",
      "Inputs shape: torch.Size([32, 3, 224, 224]), Labels shape: torch.Size([32, 20])\n",
      "Inputs shape: torch.Size([32, 3, 224, 224]), Labels shape: torch.Size([32, 20])\n",
      "Inputs shape: torch.Size([32, 3, 224, 224]), Labels shape: torch.Size([32, 20])\n",
      "Inputs shape: torch.Size([32, 3, 224, 224]), Labels shape: torch.Size([32, 20])\n",
      "Inputs shape: torch.Size([32, 3, 224, 224]), Labels shape: torch.Size([32, 20])\n",
      "Inputs shape: torch.Size([32, 3, 224, 224]), Labels shape: torch.Size([32, 20])\n",
      "Inputs shape: torch.Size([32, 3, 224, 224]), Labels shape: torch.Size([32, 20])\n",
      "Inputs shape: torch.Size([32, 3, 224, 224]), Labels shape: torch.Size([32, 20])\n",
      "Inputs shape: torch.Size([32, 3, 224, 224]), Labels shape: torch.Size([32, 20])\n",
      "Inputs shape: torch.Size([32, 3, 224, 224]), Labels shape: torch.Size([32, 20])\n",
      "Inputs shape: torch.Size([32, 3, 224, 224]), Labels shape: torch.Size([32, 20])\n",
      "Inputs shape: torch.Size([32, 3, 224, 224]), Labels shape: torch.Size([32, 20])\n",
      "Inputs shape: torch.Size([32, 3, 224, 224]), Labels shape: torch.Size([32, 20])\n",
      "Inputs shape: torch.Size([32, 3, 224, 224]), Labels shape: torch.Size([32, 20])\n",
      "Inputs shape: torch.Size([32, 3, 224, 224]), Labels shape: torch.Size([32, 20])\n",
      "Inputs shape: torch.Size([32, 3, 224, 224]), Labels shape: torch.Size([32, 20])\n",
      "Inputs shape: torch.Size([32, 3, 224, 224]), Labels shape: torch.Size([32, 20])\n",
      "Inputs shape: torch.Size([32, 3, 224, 224]), Labels shape: torch.Size([32, 20])\n",
      "Inputs shape: torch.Size([32, 3, 224, 224]), Labels shape: torch.Size([32, 20])\n",
      "Inputs shape: torch.Size([32, 3, 224, 224]), Labels shape: torch.Size([32, 20])\n",
      "Inputs shape: torch.Size([32, 3, 224, 224]), Labels shape: torch.Size([32, 20])\n",
      "Inputs shape: torch.Size([32, 3, 224, 224]), Labels shape: torch.Size([32, 20])\n",
      "Inputs shape: torch.Size([32, 3, 224, 224]), Labels shape: torch.Size([32, 20])\n",
      "Inputs shape: torch.Size([32, 3, 224, 224]), Labels shape: torch.Size([32, 20])\n",
      "Inputs shape: torch.Size([32, 3, 224, 224]), Labels shape: torch.Size([32, 20])\n",
      "Inputs shape: torch.Size([32, 3, 224, 224]), Labels shape: torch.Size([32, 20])\n",
      "Inputs shape: torch.Size([32, 3, 224, 224]), Labels shape: torch.Size([32, 20])\n",
      "Inputs shape: torch.Size([32, 3, 224, 224]), Labels shape: torch.Size([32, 20])\n",
      "Inputs shape: torch.Size([32, 3, 224, 224]), Labels shape: torch.Size([32, 20])\n",
      "Inputs shape: torch.Size([32, 3, 224, 224]), Labels shape: torch.Size([32, 20])\n",
      "Inputs shape: torch.Size([32, 3, 224, 224]), Labels shape: torch.Size([32, 20])\n",
      "Inputs shape: torch.Size([32, 3, 224, 224]), Labels shape: torch.Size([32, 20])\n",
      "Inputs shape: torch.Size([32, 3, 224, 224]), Labels shape: torch.Size([32, 20])\n",
      "Inputs shape: torch.Size([32, 3, 224, 224]), Labels shape: torch.Size([32, 20])\n",
      "Inputs shape: torch.Size([32, 3, 224, 224]), Labels shape: torch.Size([32, 20])\n",
      "Inputs shape: torch.Size([32, 3, 224, 224]), Labels shape: torch.Size([32, 20])\n",
      "Inputs shape: torch.Size([32, 3, 224, 224]), Labels shape: torch.Size([32, 20])\n",
      "Inputs shape: torch.Size([32, 3, 224, 224]), Labels shape: torch.Size([32, 20])\n",
      "Inputs shape: torch.Size([32, 3, 224, 224]), Labels shape: torch.Size([32, 20])\n",
      "Inputs shape: torch.Size([32, 3, 224, 224]), Labels shape: torch.Size([32, 20])\n",
      "Inputs shape: torch.Size([32, 3, 224, 224]), Labels shape: torch.Size([32, 20])\n",
      "Inputs shape: torch.Size([32, 3, 224, 224]), Labels shape: torch.Size([32, 20])\n",
      "Inputs shape: torch.Size([32, 3, 224, 224]), Labels shape: torch.Size([32, 20])\n",
      "Inputs shape: torch.Size([32, 3, 224, 224]), Labels shape: torch.Size([32, 20])\n",
      "Inputs shape: torch.Size([32, 3, 224, 224]), Labels shape: torch.Size([32, 20])\n",
      "Inputs shape: torch.Size([32, 3, 224, 224]), Labels shape: torch.Size([32, 20])\n",
      "Inputs shape: torch.Size([32, 3, 224, 224]), Labels shape: torch.Size([32, 20])\n",
      "Inputs shape: torch.Size([32, 3, 224, 224]), Labels shape: torch.Size([32, 20])\n",
      "Inputs shape: torch.Size([32, 3, 224, 224]), Labels shape: torch.Size([32, 20])\n",
      "Inputs shape: torch.Size([32, 3, 224, 224]), Labels shape: torch.Size([32, 20])\n",
      "Inputs shape: torch.Size([32, 3, 224, 224]), Labels shape: torch.Size([32, 20])\n",
      "Inputs shape: torch.Size([32, 3, 224, 224]), Labels shape: torch.Size([32, 20])\n",
      "Inputs shape: torch.Size([32, 3, 224, 224]), Labels shape: torch.Size([32, 20])\n",
      "Inputs shape: torch.Size([32, 3, 224, 224]), Labels shape: torch.Size([32, 20])\n",
      "Inputs shape: torch.Size([32, 3, 224, 224]), Labels shape: torch.Size([32, 20])\n",
      "Inputs shape: torch.Size([32, 3, 224, 224]), Labels shape: torch.Size([32, 20])\n",
      "Inputs shape: torch.Size([32, 3, 224, 224]), Labels shape: torch.Size([32, 20])\n",
      "Inputs shape: torch.Size([32, 3, 224, 224]), Labels shape: torch.Size([32, 20])\n",
      "Inputs shape: torch.Size([32, 3, 224, 224]), Labels shape: torch.Size([32, 20])\n",
      "Inputs shape: torch.Size([32, 3, 224, 224]), Labels shape: torch.Size([32, 20])\n",
      "Inputs shape: torch.Size([32, 3, 224, 224]), Labels shape: torch.Size([32, 20])\n",
      "Inputs shape: torch.Size([32, 3, 224, 224]), Labels shape: torch.Size([32, 20])\n",
      "Inputs shape: torch.Size([32, 3, 224, 224]), Labels shape: torch.Size([32, 20])\n",
      "Inputs shape: torch.Size([32, 3, 224, 224]), Labels shape: torch.Size([32, 20])\n",
      "Inputs shape: torch.Size([32, 3, 224, 224]), Labels shape: torch.Size([32, 20])\n",
      "Inputs shape: torch.Size([32, 3, 224, 224]), Labels shape: torch.Size([32, 20])\n",
      "Inputs shape: torch.Size([32, 3, 224, 224]), Labels shape: torch.Size([32, 20])\n",
      "Inputs shape: torch.Size([32, 3, 224, 224]), Labels shape: torch.Size([32, 20])\n",
      "Inputs shape: torch.Size([32, 3, 224, 224]), Labels shape: torch.Size([32, 20])\n",
      "Inputs shape: torch.Size([32, 3, 224, 224]), Labels shape: torch.Size([32, 20])\n",
      "Inputs shape: torch.Size([32, 3, 224, 224]), Labels shape: torch.Size([32, 20])\n",
      "Inputs shape: torch.Size([32, 3, 224, 224]), Labels shape: torch.Size([32, 20])\n",
      "Inputs shape: torch.Size([32, 3, 224, 224]), Labels shape: torch.Size([32, 20])\n",
      "Inputs shape: torch.Size([32, 3, 224, 224]), Labels shape: torch.Size([32, 20])\n",
      "Inputs shape: torch.Size([32, 3, 224, 224]), Labels shape: torch.Size([32, 20])\n",
      "Inputs shape: torch.Size([32, 3, 224, 224]), Labels shape: torch.Size([32, 20])\n",
      "Inputs shape: torch.Size([32, 3, 224, 224]), Labels shape: torch.Size([32, 20])\n",
      "Inputs shape: torch.Size([32, 3, 224, 224]), Labels shape: torch.Size([32, 20])\n",
      "Inputs shape: torch.Size([32, 3, 224, 224]), Labels shape: torch.Size([32, 20])\n",
      "Inputs shape: torch.Size([32, 3, 224, 224]), Labels shape: torch.Size([32, 20])\n",
      "Inputs shape: torch.Size([32, 3, 224, 224]), Labels shape: torch.Size([32, 20])\n",
      "Inputs shape: torch.Size([32, 3, 224, 224]), Labels shape: torch.Size([32, 20])\n",
      "Inputs shape: torch.Size([32, 3, 224, 224]), Labels shape: torch.Size([32, 20])\n",
      "Inputs shape: torch.Size([32, 3, 224, 224]), Labels shape: torch.Size([32, 20])\n",
      "Inputs shape: torch.Size([32, 3, 224, 224]), Labels shape: torch.Size([32, 20])\n",
      "Inputs shape: torch.Size([32, 3, 224, 224]), Labels shape: torch.Size([32, 20])\n",
      "Inputs shape: torch.Size([32, 3, 224, 224]), Labels shape: torch.Size([32, 20])\n",
      "Inputs shape: torch.Size([32, 3, 224, 224]), Labels shape: torch.Size([32, 20])\n",
      "Inputs shape: torch.Size([32, 3, 224, 224]), Labels shape: torch.Size([32, 20])\n",
      "Inputs shape: torch.Size([32, 3, 224, 224]), Labels shape: torch.Size([32, 20])\n",
      "Inputs shape: torch.Size([32, 3, 224, 224]), Labels shape: torch.Size([32, 20])\n",
      "Inputs shape: torch.Size([32, 3, 224, 224]), Labels shape: torch.Size([32, 20])\n",
      "Inputs shape: torch.Size([32, 3, 224, 224]), Labels shape: torch.Size([32, 20])\n",
      "Inputs shape: torch.Size([32, 3, 224, 224]), Labels shape: torch.Size([32, 20])\n",
      "Inputs shape: torch.Size([32, 3, 224, 224]), Labels shape: torch.Size([32, 20])\n",
      "Inputs shape: torch.Size([32, 3, 224, 224]), Labels shape: torch.Size([32, 20])\n",
      "Inputs shape: torch.Size([32, 3, 224, 224]), Labels shape: torch.Size([32, 20])\n",
      "Inputs shape: torch.Size([32, 3, 224, 224]), Labels shape: torch.Size([32, 20])\n",
      "Inputs shape: torch.Size([32, 3, 224, 224]), Labels shape: torch.Size([32, 20])\n",
      "Inputs shape: torch.Size([32, 3, 224, 224]), Labels shape: torch.Size([32, 20])\n",
      "Inputs shape: torch.Size([32, 3, 224, 224]), Labels shape: torch.Size([32, 20])\n",
      "Inputs shape: torch.Size([32, 3, 224, 224]), Labels shape: torch.Size([32, 20])\n",
      "Inputs shape: torch.Size([32, 3, 224, 224]), Labels shape: torch.Size([32, 20])\n",
      "Inputs shape: torch.Size([32, 3, 224, 224]), Labels shape: torch.Size([32, 20])\n",
      "Inputs shape: torch.Size([32, 3, 224, 224]), Labels shape: torch.Size([32, 20])\n",
      "Inputs shape: torch.Size([32, 3, 224, 224]), Labels shape: torch.Size([32, 20])\n",
      "Inputs shape: torch.Size([32, 3, 224, 224]), Labels shape: torch.Size([32, 20])\n",
      "Inputs shape: torch.Size([32, 3, 224, 224]), Labels shape: torch.Size([32, 20])\n",
      "Inputs shape: torch.Size([32, 3, 224, 224]), Labels shape: torch.Size([32, 20])\n",
      "Inputs shape: torch.Size([32, 3, 224, 224]), Labels shape: torch.Size([32, 20])\n",
      "Inputs shape: torch.Size([32, 3, 224, 224]), Labels shape: torch.Size([32, 20])\n",
      "Inputs shape: torch.Size([32, 3, 224, 224]), Labels shape: torch.Size([32, 20])\n",
      "Inputs shape: torch.Size([32, 3, 224, 224]), Labels shape: torch.Size([32, 20])\n",
      "Inputs shape: torch.Size([32, 3, 224, 224]), Labels shape: torch.Size([32, 20])\n",
      "Inputs shape: torch.Size([32, 3, 224, 224]), Labels shape: torch.Size([32, 20])\n",
      "Inputs shape: torch.Size([32, 3, 224, 224]), Labels shape: torch.Size([32, 20])\n",
      "Inputs shape: torch.Size([32, 3, 224, 224]), Labels shape: torch.Size([32, 20])\n",
      "Inputs shape: torch.Size([32, 3, 224, 224]), Labels shape: torch.Size([32, 20])\n",
      "Inputs shape: torch.Size([32, 3, 224, 224]), Labels shape: torch.Size([32, 20])\n",
      "Inputs shape: torch.Size([32, 3, 224, 224]), Labels shape: torch.Size([32, 20])\n",
      "Inputs shape: torch.Size([32, 3, 224, 224]), Labels shape: torch.Size([32, 20])\n",
      "Inputs shape: torch.Size([32, 3, 224, 224]), Labels shape: torch.Size([32, 20])\n",
      "Inputs shape: torch.Size([32, 3, 224, 224]), Labels shape: torch.Size([32, 20])\n",
      "Inputs shape: torch.Size([32, 3, 224, 224]), Labels shape: torch.Size([32, 20])\n",
      "Inputs shape: torch.Size([32, 3, 224, 224]), Labels shape: torch.Size([32, 20])\n",
      "Inputs shape: torch.Size([32, 3, 224, 224]), Labels shape: torch.Size([32, 20])\n",
      "Inputs shape: torch.Size([32, 3, 224, 224]), Labels shape: torch.Size([32, 20])\n",
      "Inputs shape: torch.Size([32, 3, 224, 224]), Labels shape: torch.Size([32, 20])\n",
      "Inputs shape: torch.Size([32, 3, 224, 224]), Labels shape: torch.Size([32, 20])\n",
      "Inputs shape: torch.Size([32, 3, 224, 224]), Labels shape: torch.Size([32, 20])\n",
      "Inputs shape: torch.Size([32, 3, 224, 224]), Labels shape: torch.Size([32, 20])\n",
      "Inputs shape: torch.Size([32, 3, 224, 224]), Labels shape: torch.Size([32, 20])\n",
      "Inputs shape: torch.Size([32, 3, 224, 224]), Labels shape: torch.Size([32, 20])\n",
      "Inputs shape: torch.Size([32, 3, 224, 224]), Labels shape: torch.Size([32, 20])\n",
      "Inputs shape: torch.Size([32, 3, 224, 224]), Labels shape: torch.Size([32, 20])\n",
      "Inputs shape: torch.Size([32, 3, 224, 224]), Labels shape: torch.Size([32, 20])\n",
      "Inputs shape: torch.Size([32, 3, 224, 224]), Labels shape: torch.Size([32, 20])\n",
      "Inputs shape: torch.Size([32, 3, 224, 224]), Labels shape: torch.Size([32, 20])\n",
      "Inputs shape: torch.Size([32, 3, 224, 224]), Labels shape: torch.Size([32, 20])\n",
      "Inputs shape: torch.Size([32, 3, 224, 224]), Labels shape: torch.Size([32, 20])\n",
      "Inputs shape: torch.Size([32, 3, 224, 224]), Labels shape: torch.Size([32, 20])\n",
      "Inputs shape: torch.Size([32, 3, 224, 224]), Labels shape: torch.Size([32, 20])\n",
      "Inputs shape: torch.Size([32, 3, 224, 224]), Labels shape: torch.Size([32, 20])\n",
      "Inputs shape: torch.Size([32, 3, 224, 224]), Labels shape: torch.Size([32, 20])\n",
      "Inputs shape: torch.Size([32, 3, 224, 224]), Labels shape: torch.Size([32, 20])\n",
      "Inputs shape: torch.Size([32, 3, 224, 224]), Labels shape: torch.Size([32, 20])\n",
      "Inputs shape: torch.Size([32, 3, 224, 224]), Labels shape: torch.Size([32, 20])\n",
      "Inputs shape: torch.Size([32, 3, 224, 224]), Labels shape: torch.Size([32, 20])\n",
      "Inputs shape: torch.Size([32, 3, 224, 224]), Labels shape: torch.Size([32, 20])\n",
      "Inputs shape: torch.Size([32, 3, 224, 224]), Labels shape: torch.Size([32, 20])\n",
      "Inputs shape: torch.Size([32, 3, 224, 224]), Labels shape: torch.Size([32, 20])\n",
      "Inputs shape: torch.Size([32, 3, 224, 224]), Labels shape: torch.Size([32, 20])\n",
      "Inputs shape: torch.Size([32, 3, 224, 224]), Labels shape: torch.Size([32, 20])\n",
      "Inputs shape: torch.Size([32, 3, 224, 224]), Labels shape: torch.Size([32, 20])\n",
      "Inputs shape: torch.Size([32, 3, 224, 224]), Labels shape: torch.Size([32, 20])\n",
      "Inputs shape: torch.Size([32, 3, 224, 224]), Labels shape: torch.Size([32, 20])\n",
      "Inputs shape: torch.Size([32, 3, 224, 224]), Labels shape: torch.Size([32, 20])\n",
      "Inputs shape: torch.Size([32, 3, 224, 224]), Labels shape: torch.Size([32, 20])\n",
      "Inputs shape: torch.Size([32, 3, 224, 224]), Labels shape: torch.Size([32, 20])\n",
      "Inputs shape: torch.Size([32, 3, 224, 224]), Labels shape: torch.Size([32, 20])\n",
      "Inputs shape: torch.Size([32, 3, 224, 224]), Labels shape: torch.Size([32, 20])\n",
      "Inputs shape: torch.Size([32, 3, 224, 224]), Labels shape: torch.Size([32, 20])\n",
      "Inputs shape: torch.Size([32, 3, 224, 224]), Labels shape: torch.Size([32, 20])\n",
      "Inputs shape: torch.Size([32, 3, 224, 224]), Labels shape: torch.Size([32, 20])\n",
      "Inputs shape: torch.Size([32, 3, 224, 224]), Labels shape: torch.Size([32, 20])\n",
      "Inputs shape: torch.Size([32, 3, 224, 224]), Labels shape: torch.Size([32, 20])\n",
      "Inputs shape: torch.Size([32, 3, 224, 224]), Labels shape: torch.Size([32, 20])\n",
      "Inputs shape: torch.Size([32, 3, 224, 224]), Labels shape: torch.Size([32, 20])\n",
      "Inputs shape: torch.Size([32, 3, 224, 224]), Labels shape: torch.Size([32, 20])\n",
      "Inputs shape: torch.Size([32, 3, 224, 224]), Labels shape: torch.Size([32, 20])\n",
      "Inputs shape: torch.Size([32, 3, 224, 224]), Labels shape: torch.Size([32, 20])\n",
      "Inputs shape: torch.Size([32, 3, 224, 224]), Labels shape: torch.Size([32, 20])\n",
      "Inputs shape: torch.Size([32, 3, 224, 224]), Labels shape: torch.Size([32, 20])\n",
      "Inputs shape: torch.Size([32, 3, 224, 224]), Labels shape: torch.Size([32, 20])\n",
      "Inputs shape: torch.Size([32, 3, 224, 224]), Labels shape: torch.Size([32, 20])\n",
      "Inputs shape: torch.Size([32, 3, 224, 224]), Labels shape: torch.Size([32, 20])\n",
      "Inputs shape: torch.Size([32, 3, 224, 224]), Labels shape: torch.Size([32, 20])\n",
      "Inputs shape: torch.Size([32, 3, 224, 224]), Labels shape: torch.Size([32, 20])\n",
      "Inputs shape: torch.Size([32, 3, 224, 224]), Labels shape: torch.Size([32, 20])\n",
      "Inputs shape: torch.Size([32, 3, 224, 224]), Labels shape: torch.Size([32, 20])\n",
      "Inputs shape: torch.Size([32, 3, 224, 224]), Labels shape: torch.Size([32, 20])\n",
      "Inputs shape: torch.Size([32, 3, 224, 224]), Labels shape: torch.Size([32, 20])\n",
      "Inputs shape: torch.Size([32, 3, 224, 224]), Labels shape: torch.Size([32, 20])\n",
      "Inputs shape: torch.Size([32, 3, 224, 224]), Labels shape: torch.Size([32, 20])\n",
      "Inputs shape: torch.Size([32, 3, 224, 224]), Labels shape: torch.Size([32, 20])\n",
      "Inputs shape: torch.Size([32, 3, 224, 224]), Labels shape: torch.Size([32, 20])\n",
      "Inputs shape: torch.Size([32, 3, 224, 224]), Labels shape: torch.Size([32, 20])\n",
      "Inputs shape: torch.Size([32, 3, 224, 224]), Labels shape: torch.Size([32, 20])\n",
      "Inputs shape: torch.Size([32, 3, 224, 224]), Labels shape: torch.Size([32, 20])\n",
      "Inputs shape: torch.Size([32, 3, 224, 224]), Labels shape: torch.Size([32, 20])\n",
      "Inputs shape: torch.Size([32, 3, 224, 224]), Labels shape: torch.Size([32, 20])\n",
      "Inputs shape: torch.Size([32, 3, 224, 224]), Labels shape: torch.Size([32, 20])\n",
      "Inputs shape: torch.Size([32, 3, 224, 224]), Labels shape: torch.Size([32, 20])\n",
      "Inputs shape: torch.Size([32, 3, 224, 224]), Labels shape: torch.Size([32, 20])\n",
      "Inputs shape: torch.Size([32, 3, 224, 224]), Labels shape: torch.Size([32, 20])\n",
      "Inputs shape: torch.Size([32, 3, 224, 224]), Labels shape: torch.Size([32, 20])\n",
      "Inputs shape: torch.Size([32, 3, 224, 224]), Labels shape: torch.Size([32, 20])\n",
      "Inputs shape: torch.Size([32, 3, 224, 224]), Labels shape: torch.Size([32, 20])\n",
      "Inputs shape: torch.Size([32, 3, 224, 224]), Labels shape: torch.Size([32, 20])\n",
      "Inputs shape: torch.Size([32, 3, 224, 224]), Labels shape: torch.Size([32, 20])\n",
      "Inputs shape: torch.Size([32, 3, 224, 224]), Labels shape: torch.Size([32, 20])\n",
      "Inputs shape: torch.Size([32, 3, 224, 224]), Labels shape: torch.Size([32, 20])\n",
      "Inputs shape: torch.Size([32, 3, 224, 224]), Labels shape: torch.Size([32, 20])\n",
      "Inputs shape: torch.Size([32, 3, 224, 224]), Labels shape: torch.Size([32, 20])\n",
      "Inputs shape: torch.Size([32, 3, 224, 224]), Labels shape: torch.Size([32, 20])\n",
      "Inputs shape: torch.Size([32, 3, 224, 224]), Labels shape: torch.Size([32, 20])\n",
      "Inputs shape: torch.Size([32, 3, 224, 224]), Labels shape: torch.Size([32, 20])\n",
      "Inputs shape: torch.Size([32, 3, 224, 224]), Labels shape: torch.Size([32, 20])\n",
      "Inputs shape: torch.Size([32, 3, 224, 224]), Labels shape: torch.Size([32, 20])\n",
      "Inputs shape: torch.Size([32, 3, 224, 224]), Labels shape: torch.Size([32, 20])\n",
      "Inputs shape: torch.Size([32, 3, 224, 224]), Labels shape: torch.Size([32, 20])\n",
      "Inputs shape: torch.Size([32, 3, 224, 224]), Labels shape: torch.Size([32, 20])\n",
      "Inputs shape: torch.Size([32, 3, 224, 224]), Labels shape: torch.Size([32, 20])\n",
      "Inputs shape: torch.Size([32, 3, 224, 224]), Labels shape: torch.Size([32, 20])\n",
      "Inputs shape: torch.Size([32, 3, 224, 224]), Labels shape: torch.Size([32, 20])\n",
      "Inputs shape: torch.Size([32, 3, 224, 224]), Labels shape: torch.Size([32, 20])\n",
      "Inputs shape: torch.Size([32, 3, 224, 224]), Labels shape: torch.Size([32, 20])\n",
      "Inputs shape: torch.Size([32, 3, 224, 224]), Labels shape: torch.Size([32, 20])\n",
      "Inputs shape: torch.Size([32, 3, 224, 224]), Labels shape: torch.Size([32, 20])\n",
      "Inputs shape: torch.Size([32, 3, 224, 224]), Labels shape: torch.Size([32, 20])\n",
      "Inputs shape: torch.Size([32, 3, 224, 224]), Labels shape: torch.Size([32, 20])\n",
      "Inputs shape: torch.Size([32, 3, 224, 224]), Labels shape: torch.Size([32, 20])\n",
      "Inputs shape: torch.Size([32, 3, 224, 224]), Labels shape: torch.Size([32, 20])\n",
      "Inputs shape: torch.Size([32, 3, 224, 224]), Labels shape: torch.Size([32, 20])\n",
      "Inputs shape: torch.Size([32, 3, 224, 224]), Labels shape: torch.Size([32, 20])\n",
      "Inputs shape: torch.Size([32, 3, 224, 224]), Labels shape: torch.Size([32, 20])\n",
      "Inputs shape: torch.Size([32, 3, 224, 224]), Labels shape: torch.Size([32, 20])\n",
      "Inputs shape: torch.Size([32, 3, 224, 224]), Labels shape: torch.Size([32, 20])\n",
      "Inputs shape: torch.Size([32, 3, 224, 224]), Labels shape: torch.Size([32, 20])\n",
      "Inputs shape: torch.Size([32, 3, 224, 224]), Labels shape: torch.Size([32, 20])\n",
      "Inputs shape: torch.Size([32, 3, 224, 224]), Labels shape: torch.Size([32, 20])\n",
      "Inputs shape: torch.Size([32, 3, 224, 224]), Labels shape: torch.Size([32, 20])\n",
      "Inputs shape: torch.Size([32, 3, 224, 224]), Labels shape: torch.Size([32, 20])\n",
      "Inputs shape: torch.Size([32, 3, 224, 224]), Labels shape: torch.Size([32, 20])\n",
      "Inputs shape: torch.Size([32, 3, 224, 224]), Labels shape: torch.Size([32, 20])\n",
      "Inputs shape: torch.Size([32, 3, 224, 224]), Labels shape: torch.Size([32, 20])\n",
      "Inputs shape: torch.Size([32, 3, 224, 224]), Labels shape: torch.Size([32, 20])\n",
      "Inputs shape: torch.Size([32, 3, 224, 224]), Labels shape: torch.Size([32, 20])\n",
      "Inputs shape: torch.Size([32, 3, 224, 224]), Labels shape: torch.Size([32, 20])\n",
      "Inputs shape: torch.Size([32, 3, 224, 224]), Labels shape: torch.Size([32, 20])\n",
      "Inputs shape: torch.Size([32, 3, 224, 224]), Labels shape: torch.Size([32, 20])\n",
      "Inputs shape: torch.Size([32, 3, 224, 224]), Labels shape: torch.Size([32, 20])\n",
      "Inputs shape: torch.Size([32, 3, 224, 224]), Labels shape: torch.Size([32, 20])\n",
      "Inputs shape: torch.Size([32, 3, 224, 224]), Labels shape: torch.Size([32, 20])\n",
      "Inputs shape: torch.Size([32, 3, 224, 224]), Labels shape: torch.Size([32, 20])\n",
      "Inputs shape: torch.Size([32, 3, 224, 224]), Labels shape: torch.Size([32, 20])\n",
      "Inputs shape: torch.Size([32, 3, 224, 224]), Labels shape: torch.Size([32, 20])\n",
      "Inputs shape: torch.Size([32, 3, 224, 224]), Labels shape: torch.Size([32, 20])\n",
      "Inputs shape: torch.Size([32, 3, 224, 224]), Labels shape: torch.Size([32, 20])\n",
      "Inputs shape: torch.Size([32, 3, 224, 224]), Labels shape: torch.Size([32, 20])\n",
      "Inputs shape: torch.Size([32, 3, 224, 224]), Labels shape: torch.Size([32, 20])\n",
      "Inputs shape: torch.Size([32, 3, 224, 224]), Labels shape: torch.Size([32, 20])\n",
      "Inputs shape: torch.Size([32, 3, 224, 224]), Labels shape: torch.Size([32, 20])\n",
      "Inputs shape: torch.Size([32, 3, 224, 224]), Labels shape: torch.Size([32, 20])\n",
      "Inputs shape: torch.Size([32, 3, 224, 224]), Labels shape: torch.Size([32, 20])\n",
      "Inputs shape: torch.Size([32, 3, 224, 224]), Labels shape: torch.Size([32, 20])\n",
      "Inputs shape: torch.Size([32, 3, 224, 224]), Labels shape: torch.Size([32, 20])\n",
      "Inputs shape: torch.Size([32, 3, 224, 224]), Labels shape: torch.Size([32, 20])\n",
      "Inputs shape: torch.Size([32, 3, 224, 224]), Labels shape: torch.Size([32, 20])\n",
      "Inputs shape: torch.Size([32, 3, 224, 224]), Labels shape: torch.Size([32, 20])\n",
      "Inputs shape: torch.Size([32, 3, 224, 224]), Labels shape: torch.Size([32, 20])\n",
      "Inputs shape: torch.Size([32, 3, 224, 224]), Labels shape: torch.Size([32, 20])\n",
      "Inputs shape: torch.Size([32, 3, 224, 224]), Labels shape: torch.Size([32, 20])\n",
      "Inputs shape: torch.Size([32, 3, 224, 224]), Labels shape: torch.Size([32, 20])\n",
      "Inputs shape: torch.Size([32, 3, 224, 224]), Labels shape: torch.Size([32, 20])\n",
      "Inputs shape: torch.Size([32, 3, 224, 224]), Labels shape: torch.Size([32, 20])\n",
      "Inputs shape: torch.Size([32, 3, 224, 224]), Labels shape: torch.Size([32, 20])\n",
      "Inputs shape: torch.Size([32, 3, 224, 224]), Labels shape: torch.Size([32, 20])\n",
      "Inputs shape: torch.Size([32, 3, 224, 224]), Labels shape: torch.Size([32, 20])\n",
      "Inputs shape: torch.Size([32, 3, 224, 224]), Labels shape: torch.Size([32, 20])\n",
      "Inputs shape: torch.Size([32, 3, 224, 224]), Labels shape: torch.Size([32, 20])\n",
      "Inputs shape: torch.Size([32, 3, 224, 224]), Labels shape: torch.Size([32, 20])\n",
      "Inputs shape: torch.Size([32, 3, 224, 224]), Labels shape: torch.Size([32, 20])\n",
      "Inputs shape: torch.Size([32, 3, 224, 224]), Labels shape: torch.Size([32, 20])\n",
      "Inputs shape: torch.Size([32, 3, 224, 224]), Labels shape: torch.Size([32, 20])\n",
      "Inputs shape: torch.Size([32, 3, 224, 224]), Labels shape: torch.Size([32, 20])\n",
      "Inputs shape: torch.Size([32, 3, 224, 224]), Labels shape: torch.Size([32, 20])\n",
      "Inputs shape: torch.Size([32, 3, 224, 224]), Labels shape: torch.Size([32, 20])\n",
      "Inputs shape: torch.Size([32, 3, 224, 224]), Labels shape: torch.Size([32, 20])\n",
      "Inputs shape: torch.Size([32, 3, 224, 224]), Labels shape: torch.Size([32, 20])\n",
      "Inputs shape: torch.Size([32, 3, 224, 224]), Labels shape: torch.Size([32, 20])\n",
      "Inputs shape: torch.Size([32, 3, 224, 224]), Labels shape: torch.Size([32, 20])\n",
      "Inputs shape: torch.Size([32, 3, 224, 224]), Labels shape: torch.Size([32, 20])\n",
      "Inputs shape: torch.Size([32, 3, 224, 224]), Labels shape: torch.Size([32, 20])\n",
      "Inputs shape: torch.Size([32, 3, 224, 224]), Labels shape: torch.Size([32, 20])\n",
      "Inputs shape: torch.Size([32, 3, 224, 224]), Labels shape: torch.Size([32, 20])\n",
      "Inputs shape: torch.Size([32, 3, 224, 224]), Labels shape: torch.Size([32, 20])\n",
      "Inputs shape: torch.Size([32, 3, 224, 224]), Labels shape: torch.Size([32, 20])\n",
      "Inputs shape: torch.Size([32, 3, 224, 224]), Labels shape: torch.Size([32, 20])\n",
      "Inputs shape: torch.Size([32, 3, 224, 224]), Labels shape: torch.Size([32, 20])\n",
      "Inputs shape: torch.Size([32, 3, 224, 224]), Labels shape: torch.Size([32, 20])\n",
      "Inputs shape: torch.Size([32, 3, 224, 224]), Labels shape: torch.Size([32, 20])\n",
      "Inputs shape: torch.Size([32, 3, 224, 224]), Labels shape: torch.Size([32, 20])\n",
      "Inputs shape: torch.Size([32, 3, 224, 224]), Labels shape: torch.Size([32, 20])\n",
      "Inputs shape: torch.Size([32, 3, 224, 224]), Labels shape: torch.Size([32, 20])\n",
      "Inputs shape: torch.Size([32, 3, 224, 224]), Labels shape: torch.Size([32, 20])\n",
      "Inputs shape: torch.Size([32, 3, 224, 224]), Labels shape: torch.Size([32, 20])\n",
      "Inputs shape: torch.Size([32, 3, 224, 224]), Labels shape: torch.Size([32, 20])\n",
      "Inputs shape: torch.Size([32, 3, 224, 224]), Labels shape: torch.Size([32, 20])\n",
      "Inputs shape: torch.Size([32, 3, 224, 224]), Labels shape: torch.Size([32, 20])\n",
      "Inputs shape: torch.Size([32, 3, 224, 224]), Labels shape: torch.Size([32, 20])\n",
      "Inputs shape: torch.Size([32, 3, 224, 224]), Labels shape: torch.Size([32, 20])\n",
      "Inputs shape: torch.Size([32, 3, 224, 224]), Labels shape: torch.Size([32, 20])\n",
      "Inputs shape: torch.Size([32, 3, 224, 224]), Labels shape: torch.Size([32, 20])\n",
      "Inputs shape: torch.Size([32, 3, 224, 224]), Labels shape: torch.Size([32, 20])\n",
      "Inputs shape: torch.Size([32, 3, 224, 224]), Labels shape: torch.Size([32, 20])\n",
      "Inputs shape: torch.Size([32, 3, 224, 224]), Labels shape: torch.Size([32, 20])\n",
      "Inputs shape: torch.Size([32, 3, 224, 224]), Labels shape: torch.Size([32, 20])\n",
      "Inputs shape: torch.Size([32, 3, 224, 224]), Labels shape: torch.Size([32, 20])\n",
      "Inputs shape: torch.Size([32, 3, 224, 224]), Labels shape: torch.Size([32, 20])\n",
      "Inputs shape: torch.Size([32, 3, 224, 224]), Labels shape: torch.Size([32, 20])\n",
      "Inputs shape: torch.Size([32, 3, 224, 224]), Labels shape: torch.Size([32, 20])\n",
      "Inputs shape: torch.Size([32, 3, 224, 224]), Labels shape: torch.Size([32, 20])\n",
      "Inputs shape: torch.Size([32, 3, 224, 224]), Labels shape: torch.Size([32, 20])\n",
      "Inputs shape: torch.Size([32, 3, 224, 224]), Labels shape: torch.Size([32, 20])\n",
      "Inputs shape: torch.Size([32, 3, 224, 224]), Labels shape: torch.Size([32, 20])\n",
      "Inputs shape: torch.Size([32, 3, 224, 224]), Labels shape: torch.Size([32, 20])\n",
      "Inputs shape: torch.Size([32, 3, 224, 224]), Labels shape: torch.Size([32, 20])\n",
      "Inputs shape: torch.Size([32, 3, 224, 224]), Labels shape: torch.Size([32, 20])\n",
      "Inputs shape: torch.Size([32, 3, 224, 224]), Labels shape: torch.Size([32, 20])\n",
      "Inputs shape: torch.Size([32, 3, 224, 224]), Labels shape: torch.Size([32, 20])\n",
      "Inputs shape: torch.Size([32, 3, 224, 224]), Labels shape: torch.Size([32, 20])\n",
      "Inputs shape: torch.Size([32, 3, 224, 224]), Labels shape: torch.Size([32, 20])\n",
      "Inputs shape: torch.Size([32, 3, 224, 224]), Labels shape: torch.Size([32, 20])\n",
      "Inputs shape: torch.Size([32, 3, 224, 224]), Labels shape: torch.Size([32, 20])\n",
      "Inputs shape: torch.Size([32, 3, 224, 224]), Labels shape: torch.Size([32, 20])\n",
      "Inputs shape: torch.Size([32, 3, 224, 224]), Labels shape: torch.Size([32, 20])\n",
      "Inputs shape: torch.Size([32, 3, 224, 224]), Labels shape: torch.Size([32, 20])\n",
      "Inputs shape: torch.Size([32, 3, 224, 224]), Labels shape: torch.Size([32, 20])\n",
      "Inputs shape: torch.Size([32, 3, 224, 224]), Labels shape: torch.Size([32, 20])\n",
      "Inputs shape: torch.Size([32, 3, 224, 224]), Labels shape: torch.Size([32, 20])\n",
      "Inputs shape: torch.Size([32, 3, 224, 224]), Labels shape: torch.Size([32, 20])\n",
      "Inputs shape: torch.Size([32, 3, 224, 224]), Labels shape: torch.Size([32, 20])\n",
      "Inputs shape: torch.Size([32, 3, 224, 224]), Labels shape: torch.Size([32, 20])\n",
      "Inputs shape: torch.Size([32, 3, 224, 224]), Labels shape: torch.Size([32, 20])\n",
      "Inputs shape: torch.Size([32, 3, 224, 224]), Labels shape: torch.Size([32, 20])\n",
      "Inputs shape: torch.Size([32, 3, 224, 224]), Labels shape: torch.Size([32, 20])\n",
      "Inputs shape: torch.Size([32, 3, 224, 224]), Labels shape: torch.Size([32, 20])\n",
      "Inputs shape: torch.Size([32, 3, 224, 224]), Labels shape: torch.Size([32, 20])\n",
      "Inputs shape: torch.Size([32, 3, 224, 224]), Labels shape: torch.Size([32, 20])\n",
      "Inputs shape: torch.Size([32, 3, 224, 224]), Labels shape: torch.Size([32, 20])\n",
      "Inputs shape: torch.Size([32, 3, 224, 224]), Labels shape: torch.Size([32, 20])\n",
      "Inputs shape: torch.Size([32, 3, 224, 224]), Labels shape: torch.Size([32, 20])\n",
      "Inputs shape: torch.Size([32, 3, 224, 224]), Labels shape: torch.Size([32, 20])\n",
      "Inputs shape: torch.Size([32, 3, 224, 224]), Labels shape: torch.Size([32, 20])\n",
      "Inputs shape: torch.Size([32, 3, 224, 224]), Labels shape: torch.Size([32, 20])\n",
      "Inputs shape: torch.Size([32, 3, 224, 224]), Labels shape: torch.Size([32, 20])\n",
      "Inputs shape: torch.Size([32, 3, 224, 224]), Labels shape: torch.Size([32, 20])\n",
      "Inputs shape: torch.Size([32, 3, 224, 224]), Labels shape: torch.Size([32, 20])\n",
      "Inputs shape: torch.Size([32, 3, 224, 224]), Labels shape: torch.Size([32, 20])\n",
      "Inputs shape: torch.Size([32, 3, 224, 224]), Labels shape: torch.Size([32, 20])\n",
      "Inputs shape: torch.Size([32, 3, 224, 224]), Labels shape: torch.Size([32, 20])\n",
      "Inputs shape: torch.Size([32, 3, 224, 224]), Labels shape: torch.Size([32, 20])\n",
      "Inputs shape: torch.Size([32, 3, 224, 224]), Labels shape: torch.Size([32, 20])\n",
      "Inputs shape: torch.Size([32, 3, 224, 224]), Labels shape: torch.Size([32, 20])\n",
      "Inputs shape: torch.Size([32, 3, 224, 224]), Labels shape: torch.Size([32, 20])\n",
      "Inputs shape: torch.Size([32, 3, 224, 224]), Labels shape: torch.Size([32, 20])\n",
      "Inputs shape: torch.Size([32, 3, 224, 224]), Labels shape: torch.Size([32, 20])\n",
      "Inputs shape: torch.Size([32, 3, 224, 224]), Labels shape: torch.Size([32, 20])\n",
      "Inputs shape: torch.Size([32, 3, 224, 224]), Labels shape: torch.Size([32, 20])\n",
      "Inputs shape: torch.Size([32, 3, 224, 224]), Labels shape: torch.Size([32, 20])\n",
      "Inputs shape: torch.Size([32, 3, 224, 224]), Labels shape: torch.Size([32, 20])\n",
      "Inputs shape: torch.Size([32, 3, 224, 224]), Labels shape: torch.Size([32, 20])\n",
      "Inputs shape: torch.Size([32, 3, 224, 224]), Labels shape: torch.Size([32, 20])\n",
      "Inputs shape: torch.Size([32, 3, 224, 224]), Labels shape: torch.Size([32, 20])\n",
      "Inputs shape: torch.Size([32, 3, 224, 224]), Labels shape: torch.Size([32, 20])\n",
      "Inputs shape: torch.Size([32, 3, 224, 224]), Labels shape: torch.Size([32, 20])\n",
      "Inputs shape: torch.Size([32, 3, 224, 224]), Labels shape: torch.Size([32, 20])\n",
      "Inputs shape: torch.Size([32, 3, 224, 224]), Labels shape: torch.Size([32, 20])\n",
      "Inputs shape: torch.Size([32, 3, 224, 224]), Labels shape: torch.Size([32, 20])\n",
      "Inputs shape: torch.Size([32, 3, 224, 224]), Labels shape: torch.Size([32, 20])\n",
      "Inputs shape: torch.Size([32, 3, 224, 224]), Labels shape: torch.Size([32, 20])\n",
      "Inputs shape: torch.Size([32, 3, 224, 224]), Labels shape: torch.Size([32, 20])\n",
      "Inputs shape: torch.Size([32, 3, 224, 224]), Labels shape: torch.Size([32, 20])\n",
      "Inputs shape: torch.Size([32, 3, 224, 224]), Labels shape: torch.Size([32, 20])\n",
      "Inputs shape: torch.Size([32, 3, 224, 224]), Labels shape: torch.Size([32, 20])\n",
      "Inputs shape: torch.Size([32, 3, 224, 224]), Labels shape: torch.Size([32, 20])\n",
      "Inputs shape: torch.Size([32, 3, 224, 224]), Labels shape: torch.Size([32, 20])\n",
      "Inputs shape: torch.Size([32, 3, 224, 224]), Labels shape: torch.Size([32, 20])\n",
      "Inputs shape: torch.Size([32, 3, 224, 224]), Labels shape: torch.Size([32, 20])\n",
      "Inputs shape: torch.Size([32, 3, 224, 224]), Labels shape: torch.Size([32, 20])\n",
      "Inputs shape: torch.Size([32, 3, 224, 224]), Labels shape: torch.Size([32, 20])\n",
      "Inputs shape: torch.Size([32, 3, 224, 224]), Labels shape: torch.Size([32, 20])\n",
      "Inputs shape: torch.Size([32, 3, 224, 224]), Labels shape: torch.Size([32, 20])\n",
      "Inputs shape: torch.Size([32, 3, 224, 224]), Labels shape: torch.Size([32, 20])\n",
      "Inputs shape: torch.Size([32, 3, 224, 224]), Labels shape: torch.Size([32, 20])\n",
      "Inputs shape: torch.Size([32, 3, 224, 224]), Labels shape: torch.Size([32, 20])\n",
      "Inputs shape: torch.Size([32, 3, 224, 224]), Labels shape: torch.Size([32, 20])\n",
      "Inputs shape: torch.Size([32, 3, 224, 224]), Labels shape: torch.Size([32, 20])\n",
      "Inputs shape: torch.Size([32, 3, 224, 224]), Labels shape: torch.Size([32, 20])\n",
      "Inputs shape: torch.Size([32, 3, 224, 224]), Labels shape: torch.Size([32, 20])\n",
      "Inputs shape: torch.Size([32, 3, 224, 224]), Labels shape: torch.Size([32, 20])\n",
      "Inputs shape: torch.Size([32, 3, 224, 224]), Labels shape: torch.Size([32, 20])\n",
      "Inputs shape: torch.Size([32, 3, 224, 224]), Labels shape: torch.Size([32, 20])\n",
      "Inputs shape: torch.Size([32, 3, 224, 224]), Labels shape: torch.Size([32, 20])\n",
      "Inputs shape: torch.Size([32, 3, 224, 224]), Labels shape: torch.Size([32, 20])\n",
      "Inputs shape: torch.Size([32, 3, 224, 224]), Labels shape: torch.Size([32, 20])\n",
      "Inputs shape: torch.Size([32, 3, 224, 224]), Labels shape: torch.Size([32, 20])\n",
      "Inputs shape: torch.Size([32, 3, 224, 224]), Labels shape: torch.Size([32, 20])\n",
      "Inputs shape: torch.Size([32, 3, 224, 224]), Labels shape: torch.Size([32, 20])\n",
      "Inputs shape: torch.Size([32, 3, 224, 224]), Labels shape: torch.Size([32, 20])\n",
      "Inputs shape: torch.Size([32, 3, 224, 224]), Labels shape: torch.Size([32, 20])\n",
      "Inputs shape: torch.Size([32, 3, 224, 224]), Labels shape: torch.Size([32, 20])\n",
      "Inputs shape: torch.Size([32, 3, 224, 224]), Labels shape: torch.Size([32, 20])\n",
      "Inputs shape: torch.Size([32, 3, 224, 224]), Labels shape: torch.Size([32, 20])\n",
      "Inputs shape: torch.Size([32, 3, 224, 224]), Labels shape: torch.Size([32, 20])\n",
      "Inputs shape: torch.Size([32, 3, 224, 224]), Labels shape: torch.Size([32, 20])\n",
      "Inputs shape: torch.Size([32, 3, 224, 224]), Labels shape: torch.Size([32, 20])\n",
      "Inputs shape: torch.Size([32, 3, 224, 224]), Labels shape: torch.Size([32, 20])\n",
      "Inputs shape: torch.Size([32, 3, 224, 224]), Labels shape: torch.Size([32, 20])\n",
      "Inputs shape: torch.Size([32, 3, 224, 224]), Labels shape: torch.Size([32, 20])\n",
      "Inputs shape: torch.Size([32, 3, 224, 224]), Labels shape: torch.Size([32, 20])\n",
      "Inputs shape: torch.Size([32, 3, 224, 224]), Labels shape: torch.Size([32, 20])\n",
      "Inputs shape: torch.Size([32, 3, 224, 224]), Labels shape: torch.Size([32, 20])\n",
      "Inputs shape: torch.Size([32, 3, 224, 224]), Labels shape: torch.Size([32, 20])\n",
      "Inputs shape: torch.Size([32, 3, 224, 224]), Labels shape: torch.Size([32, 20])\n",
      "Inputs shape: torch.Size([32, 3, 224, 224]), Labels shape: torch.Size([32, 20])\n",
      "Inputs shape: torch.Size([32, 3, 224, 224]), Labels shape: torch.Size([32, 20])\n",
      "Inputs shape: torch.Size([32, 3, 224, 224]), Labels shape: torch.Size([32, 20])\n",
      "Inputs shape: torch.Size([32, 3, 224, 224]), Labels shape: torch.Size([32, 20])\n",
      "Inputs shape: torch.Size([32, 3, 224, 224]), Labels shape: torch.Size([32, 20])\n",
      "Inputs shape: torch.Size([32, 3, 224, 224]), Labels shape: torch.Size([32, 20])\n",
      "Inputs shape: torch.Size([32, 3, 224, 224]), Labels shape: torch.Size([32, 20])\n",
      "Inputs shape: torch.Size([32, 3, 224, 224]), Labels shape: torch.Size([32, 20])\n",
      "Inputs shape: torch.Size([32, 3, 224, 224]), Labels shape: torch.Size([32, 20])\n",
      "Inputs shape: torch.Size([32, 3, 224, 224]), Labels shape: torch.Size([32, 20])\n",
      "Inputs shape: torch.Size([32, 3, 224, 224]), Labels shape: torch.Size([32, 20])\n",
      "Inputs shape: torch.Size([32, 3, 224, 224]), Labels shape: torch.Size([32, 20])\n",
      "Inputs shape: torch.Size([32, 3, 224, 224]), Labels shape: torch.Size([32, 20])\n",
      "Inputs shape: torch.Size([32, 3, 224, 224]), Labels shape: torch.Size([32, 20])\n",
      "Inputs shape: torch.Size([32, 3, 224, 224]), Labels shape: torch.Size([32, 20])\n",
      "Inputs shape: torch.Size([32, 3, 224, 224]), Labels shape: torch.Size([32, 20])\n",
      "Inputs shape: torch.Size([32, 3, 224, 224]), Labels shape: torch.Size([32, 20])\n",
      "Inputs shape: torch.Size([32, 3, 224, 224]), Labels shape: torch.Size([32, 20])\n",
      "Inputs shape: torch.Size([32, 3, 224, 224]), Labels shape: torch.Size([32, 20])\n",
      "Inputs shape: torch.Size([32, 3, 224, 224]), Labels shape: torch.Size([32, 20])\n",
      "Inputs shape: torch.Size([32, 3, 224, 224]), Labels shape: torch.Size([32, 20])\n",
      "Inputs shape: torch.Size([32, 3, 224, 224]), Labels shape: torch.Size([32, 20])\n",
      "Inputs shape: torch.Size([32, 3, 224, 224]), Labels shape: torch.Size([32, 20])\n",
      "Inputs shape: torch.Size([32, 3, 224, 224]), Labels shape: torch.Size([32, 20])\n",
      "Inputs shape: torch.Size([32, 3, 224, 224]), Labels shape: torch.Size([32, 20])\n",
      "Inputs shape: torch.Size([32, 3, 224, 224]), Labels shape: torch.Size([32, 20])\n",
      "Inputs shape: torch.Size([32, 3, 224, 224]), Labels shape: torch.Size([32, 20])\n",
      "Inputs shape: torch.Size([32, 3, 224, 224]), Labels shape: torch.Size([32, 20])\n",
      "Inputs shape: torch.Size([32, 3, 224, 224]), Labels shape: torch.Size([32, 20])\n",
      "Inputs shape: torch.Size([32, 3, 224, 224]), Labels shape: torch.Size([32, 20])\n",
      "Inputs shape: torch.Size([32, 3, 224, 224]), Labels shape: torch.Size([32, 20])\n",
      "Inputs shape: torch.Size([32, 3, 224, 224]), Labels shape: torch.Size([32, 20])\n",
      "Inputs shape: torch.Size([32, 3, 224, 224]), Labels shape: torch.Size([32, 20])\n",
      "Inputs shape: torch.Size([32, 3, 224, 224]), Labels shape: torch.Size([32, 20])\n",
      "Inputs shape: torch.Size([32, 3, 224, 224]), Labels shape: torch.Size([32, 20])\n",
      "Inputs shape: torch.Size([32, 3, 224, 224]), Labels shape: torch.Size([32, 20])\n",
      "Inputs shape: torch.Size([32, 3, 224, 224]), Labels shape: torch.Size([32, 20])\n",
      "Inputs shape: torch.Size([32, 3, 224, 224]), Labels shape: torch.Size([32, 20])\n",
      "Inputs shape: torch.Size([32, 3, 224, 224]), Labels shape: torch.Size([32, 20])\n",
      "Inputs shape: torch.Size([32, 3, 224, 224]), Labels shape: torch.Size([32, 20])\n",
      "Inputs shape: torch.Size([32, 3, 224, 224]), Labels shape: torch.Size([32, 20])\n",
      "Inputs shape: torch.Size([32, 3, 224, 224]), Labels shape: torch.Size([32, 20])\n",
      "Inputs shape: torch.Size([32, 3, 224, 224]), Labels shape: torch.Size([32, 20])\n",
      "Inputs shape: torch.Size([32, 3, 224, 224]), Labels shape: torch.Size([32, 20])\n",
      "Inputs shape: torch.Size([32, 3, 224, 224]), Labels shape: torch.Size([32, 20])\n",
      "Inputs shape: torch.Size([32, 3, 224, 224]), Labels shape: torch.Size([32, 20])\n",
      "Inputs shape: torch.Size([32, 3, 224, 224]), Labels shape: torch.Size([32, 20])\n",
      "Inputs shape: torch.Size([32, 3, 224, 224]), Labels shape: torch.Size([32, 20])\n",
      "Inputs shape: torch.Size([32, 3, 224, 224]), Labels shape: torch.Size([32, 20])\n",
      "Inputs shape: torch.Size([32, 3, 224, 224]), Labels shape: torch.Size([32, 20])\n",
      "Inputs shape: torch.Size([32, 3, 224, 224]), Labels shape: torch.Size([32, 20])\n",
      "Inputs shape: torch.Size([32, 3, 224, 224]), Labels shape: torch.Size([32, 20])\n",
      "Inputs shape: torch.Size([32, 3, 224, 224]), Labels shape: torch.Size([32, 20])\n",
      "Inputs shape: torch.Size([32, 3, 224, 224]), Labels shape: torch.Size([32, 20])\n",
      "Inputs shape: torch.Size([32, 3, 224, 224]), Labels shape: torch.Size([32, 20])\n",
      "Inputs shape: torch.Size([32, 3, 224, 224]), Labels shape: torch.Size([32, 20])\n",
      "Inputs shape: torch.Size([32, 3, 224, 224]), Labels shape: torch.Size([32, 20])\n",
      "Inputs shape: torch.Size([32, 3, 224, 224]), Labels shape: torch.Size([32, 20])\n",
      "Inputs shape: torch.Size([32, 3, 224, 224]), Labels shape: torch.Size([32, 20])\n",
      "Inputs shape: torch.Size([32, 3, 224, 224]), Labels shape: torch.Size([32, 20])\n",
      "Inputs shape: torch.Size([32, 3, 224, 224]), Labels shape: torch.Size([32, 20])\n",
      "Inputs shape: torch.Size([32, 3, 224, 224]), Labels shape: torch.Size([32, 20])\n",
      "Inputs shape: torch.Size([32, 3, 224, 224]), Labels shape: torch.Size([32, 20])\n",
      "Inputs shape: torch.Size([32, 3, 224, 224]), Labels shape: torch.Size([32, 20])\n",
      "Inputs shape: torch.Size([32, 3, 224, 224]), Labels shape: torch.Size([32, 20])\n",
      "Inputs shape: torch.Size([32, 3, 224, 224]), Labels shape: torch.Size([32, 20])\n",
      "Inputs shape: torch.Size([32, 3, 224, 224]), Labels shape: torch.Size([32, 20])\n",
      "Inputs shape: torch.Size([25, 3, 224, 224]), Labels shape: torch.Size([32, 20])\n",
      "Accuracy: 51.61%\n",
      "Precision: 8.31%\n",
      "Recall: 54.95%\n",
      "F1 Score: 14.44%\n"
     ]
    }
   ],
   "source": [
    "# Evaluate on the eval set\n",
    "accuracies, precisions, recalls, f1_scores = evaluate_model(resnet18, test_loader, 5, device=device)"
   ]
  }
 ],
 "metadata": {
  "kernelspec": {
   "display_name": "venv",
   "language": "python",
   "name": "python3"
  },
  "language_info": {
   "codemirror_mode": {
    "name": "ipython",
    "version": 3
   },
   "file_extension": ".py",
   "mimetype": "text/x-python",
   "name": "python",
   "nbconvert_exporter": "python",
   "pygments_lexer": "ipython3",
   "version": "3.12.3"
  }
 },
 "nbformat": 4,
 "nbformat_minor": 2
}
